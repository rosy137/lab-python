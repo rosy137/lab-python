{
  "nbformat": 4,
  "nbformat_minor": 0,
  "metadata": {
    "colab": {
      "provenance": [],
      "authorship_tag": "ABX9TyPNiM9q9TrvRSn77yCcGf+n",
      "include_colab_link": true
    },
    "kernelspec": {
      "name": "python3",
      "display_name": "Python 3"
    },
    "language_info": {
      "name": "python"
    }
  },
  "cells": [
    {
      "cell_type": "markdown",
      "metadata": {
        "id": "view-in-github",
        "colab_type": "text"
      },
      "source": [
        "<a href=\"https://colab.research.google.com/github/rosy137/lab-python/blob/main/py07_function.ipynb\" target=\"_parent\"><img src=\"https://colab.research.google.com/assets/colab-badge.svg\" alt=\"Open In Colab\"/></a>"
      ]
    },
    {
      "cell_type": "markdown",
      "source": [
        "#Funtion(함수)"
      ],
      "metadata": {
        "id": "keWt--aSFCBp"
      }
    },
    {
      "cell_type": "markdown",
      "source": [
        "* function(함수): 기능을 수행하는 코드 블록.\n",
        "* argument: 함수를 호출하는 곳에서 함수에게 전달하는 값.\n",
        "* parameter: argument를 저장하기 위해서 함수 선언부에서 선언하는 지역 변수.\n",
        "* return value: 함수가 기능의 수행 결과로 리턴하는 값.\n",
        "    * return value가 있는 함수\n",
        "    * return value가 없는 함수\n",
        "* 파이썬 함수 정의 방법:\n",
        "    ```\n",
        "    def function_name([param, ...]):\n",
        "        [\"\"\"문서화 주석 - 함수 기능 설명, 파라미터 설명, 리턴 값 설명\"\"\"]\n",
        "        함수 기능 구현\n",
        "        [return 값]\n",
        "    ```\n",
        "* return value가 없는 경우에,\n",
        "    * return 문장을 생략.\n",
        "    * return None 명시할 수도 있음."
      ],
      "metadata": {
        "id": "Qx2y6bmCFGXw"
      }
    },
    {
      "cell_type": "code",
      "execution_count": 1,
      "metadata": {
        "id": "wPOC_QXvE1B2"
      },
      "outputs": [],
      "source": [
        "def subtract(x,y): # 함수 정의 파라미터 받기\n",
        "    \"\"\"2개의 숫자 x, y를 전달받아서 x-y 결과를 리턴하는 함수\"\"\"\n",
        "    return x - y"
      ]
    },
    {
      "cell_type": "code",
      "source": [
        "result = subtract(1,2) # 함수 호출 아규먼트 전달\n",
        "result"
      ],
      "metadata": {
        "colab": {
          "base_uri": "https://localhost:8080/"
        },
        "id": "c87CXTnOHwxo",
        "outputId": "b9c81bf8-3d7c-45b4-cdf7-56a0641379de"
      },
      "execution_count": 2,
      "outputs": [
        {
          "output_type": "execute_result",
          "data": {
            "text/plain": [
              "-1"
            ]
          },
          "metadata": {},
          "execution_count": 2
        }
      ]
    },
    {
      "cell_type": "code",
      "source": [
        "#문자열, 숫자 전달받은 숫자만큼 문자열 반복하는 함수\n",
        "def repeat_message(message, n):\n",
        "    \"\"\"\n",
        "    문자열(message)과 양의 정수(n)을 전달받아서, message를 n번 출력하는 함수.\n",
        "    \"\"\"\n",
        "    for _ in range(n): print(message)\n",
        "    return None # 리턴값이 없으면 보통 return문을 생략하지만, return None으로 명시하기도 함.\n",
        "    # return message * n"
      ],
      "metadata": {
        "id": "iPN3MyAJI_9g"
      },
      "execution_count": 3,
      "outputs": []
    },
    {
      "cell_type": "code",
      "source": [
        "repeat_message('hi', 5)"
      ],
      "metadata": {
        "colab": {
          "base_uri": "https://localhost:8080/"
        },
        "id": "LdZAOtIGJPFY",
        "outputId": "e0c84b14-1565-4caa-c85a-20db03ac2735"
      },
      "execution_count": 4,
      "outputs": [
        {
          "output_type": "stream",
          "name": "stdout",
          "text": [
            "hi\n",
            "hi\n",
            "hi\n",
            "hi\n",
            "hi\n"
          ]
        }
      ]
    },
    {
      "cell_type": "markdown",
      "source": [
        "##Ex 1.\n",
        "* 함수 이름: make_list\n",
        "* 기능: start 이상 end 미만의 정수 난수 n개를 갖는 리스트를 반환하는 함수."
      ],
      "metadata": {
        "id": "wuqgcFWmLndA"
      }
    },
    {
      "cell_type": "code",
      "source": [
        "import random"
      ],
      "metadata": {
        "id": "0SdjkQYGMTdv"
      },
      "execution_count": 5,
      "outputs": []
    },
    {
      "cell_type": "code",
      "source": [
        "def make_list(start,end,n):\n",
        "    list = [random.randrange(start,end) for _ in range(n)]\n",
        "    print(list)\n",
        "    return list"
      ],
      "metadata": {
        "id": "-21REnz5MJWm"
      },
      "execution_count": 6,
      "outputs": []
    },
    {
      "cell_type": "code",
      "source": [
        "list = make_list(1,50,10)"
      ],
      "metadata": {
        "colab": {
          "base_uri": "https://localhost:8080/"
        },
        "id": "arUhwdUGMruH",
        "outputId": "5c0f96c9-2596-4067-f20b-f471904a5bf5"
      },
      "execution_count": 7,
      "outputs": [
        {
          "output_type": "stream",
          "name": "stdout",
          "text": [
            "[7, 16, 24, 25, 44, 16, 43, 24, 1, 24]\n"
          ]
        }
      ]
    },
    {
      "cell_type": "markdown",
      "source": [
        "##Ex 2.\n",
        "* 함수 이름: calc_sum\n",
        "* 기능: 숫자들의 리스트를 전달받아서, 리스트의 모든 원소들의 합을 리턴하는 함수."
      ],
      "metadata": {
        "id": "EawuJOj8L81Q"
      }
    },
    {
      "cell_type": "code",
      "source": [
        "def calc_sum(list):\n",
        "    total = 0\n",
        "    for x in range(len(list)):\n",
        "        total += list[x]\n",
        "    return total"
      ],
      "metadata": {
        "id": "WxZs-VqFMAnI"
      },
      "execution_count": 8,
      "outputs": []
    },
    {
      "cell_type": "code",
      "source": [
        "def calc_sum(list):\n",
        "    total = 0\n",
        "    for x in list:\n",
        "        total += x\n",
        "    return total"
      ],
      "metadata": {
        "id": "THPznEeCSIAF"
      },
      "execution_count": 9,
      "outputs": []
    },
    {
      "cell_type": "code",
      "source": [
        "def calc_sum(list):\n",
        "    return sum(list)"
      ],
      "metadata": {
        "id": "Fi7M4fKNPfq1"
      },
      "execution_count": 10,
      "outputs": []
    },
    {
      "cell_type": "code",
      "source": [
        "calc_sum(list)"
      ],
      "metadata": {
        "colab": {
          "base_uri": "https://localhost:8080/"
        },
        "id": "Zt7i3mLONEV_",
        "outputId": "e144c5b0-eda6-48bc-d16e-75542e0aa154"
      },
      "execution_count": 11,
      "outputs": [
        {
          "output_type": "execute_result",
          "data": {
            "text/plain": [
              "224"
            ]
          },
          "metadata": {},
          "execution_count": 11
        }
      ]
    },
    {
      "cell_type": "markdown",
      "source": [
        "##Ex 3.\n",
        "* 함수 이름: calc_mean\n",
        "* 기능: 숫자들의 리스트를 전달받아서, 리스트의 원소들의 평균을 리턴하는 함수."
      ],
      "metadata": {
        "id": "E_j1AfTXMBAO"
      }
    },
    {
      "cell_type": "code",
      "source": [
        "def calc_mean(list):\n",
        "    return calc_sum(list) / len(list)"
      ],
      "metadata": {
        "id": "eri5EnUgJx4I"
      },
      "execution_count": 12,
      "outputs": []
    },
    {
      "cell_type": "code",
      "source": [
        "calc_mean(list)"
      ],
      "metadata": {
        "colab": {
          "base_uri": "https://localhost:8080/"
        },
        "id": "O4EPj0hfN4OY",
        "outputId": "754dc4d5-163f-4952-a7f3-46583eb8b6c0"
      },
      "execution_count": 13,
      "outputs": [
        {
          "output_type": "execute_result",
          "data": {
            "text/plain": [
              "22.4"
            ]
          },
          "metadata": {},
          "execution_count": 13
        }
      ]
    },
    {
      "cell_type": "markdown",
      "source": [
        "##Ex 4.\n",
        "* 함수 이름: calc_var\n",
        "* 기능: 숫자들의 리스트를 전달받아서, 리스트의 원소들의 분산(variance)을 리턴하는 함수.\n",
        "    * 분산 = (값 - 평균)**2 들의 평균"
      ],
      "metadata": {
        "id": "Di8gb4hOMEcn"
      }
    },
    {
      "cell_type": "code",
      "source": [
        "def calc_var(list):\n",
        "    temp = [(x - calc_mean(list))**2 for x in list]\n",
        "    return calc_mean(temp)"
      ],
      "metadata": {
        "id": "0T89HfN_OVI2"
      },
      "execution_count": 14,
      "outputs": []
    },
    {
      "cell_type": "code",
      "source": [
        "calc_var(list)"
      ],
      "metadata": {
        "colab": {
          "base_uri": "https://localhost:8080/"
        },
        "id": "FE7QR-u0PO8e",
        "outputId": "83ea072e-afed-4d74-f321-259f1bb10c9d"
      },
      "execution_count": 15,
      "outputs": [
        {
          "output_type": "execute_result",
          "data": {
            "text/plain": [
              "168.24"
            ]
          },
          "metadata": {},
          "execution_count": 15
        }
      ]
    },
    {
      "cell_type": "code",
      "source": [
        "from IPython.lib.display import ScribdDocument\n",
        "scores1 = [3,4,5,6,7]\n",
        "scores2 = [0,1,5,9,10]\n",
        "mean1 = calc_mean(scores1)\n",
        "mean2 = calc_mean(scores2)\n",
        "print(f'mean1 = {mean1}')\n",
        "print(f'mean2 = {mean2}')\n",
        "var1 = calc_var(scores1)\n",
        "var2 = calc_var(scores2)\n",
        "print(f'var1 = {var1}')\n",
        "print(f'var2 = {var2}')"
      ],
      "metadata": {
        "colab": {
          "base_uri": "https://localhost:8080/"
        },
        "id": "Q8rurCq0zIv1",
        "outputId": "c9936c31-366f-4183-8167-ec01abef22aa"
      },
      "execution_count": 16,
      "outputs": [
        {
          "output_type": "stream",
          "name": "stdout",
          "text": [
            "mean1 = 5.0\n",
            "mean2 = 5.0\n",
            "var1 = 2.0\n",
            "var2 = 16.4\n"
          ]
        }
      ]
    },
    {
      "cell_type": "code",
      "source": [
        "def make_lotto_list():\n",
        "    lottos = []\n",
        "    for _ in range(5):\n",
        "        lotto = set() # set 중복 불가\n",
        "        while True:\n",
        "            lotto.add(random.randrange(1,46))\n",
        "            if len(lotto) == 6:\n",
        "                break\n",
        "        lottos.append(lotto)\n",
        "    return lottos\n"
      ],
      "metadata": {
        "id": "6BGYIYUV0ljH"
      },
      "execution_count": 17,
      "outputs": []
    },
    {
      "cell_type": "code",
      "source": [
        "make_lotto_list()"
      ],
      "metadata": {
        "colab": {
          "base_uri": "https://localhost:8080/"
        },
        "id": "xy8mC1yi1wqV",
        "outputId": "5858764d-90ce-4edf-bda6-5803ce4d1c0c"
      },
      "execution_count": 18,
      "outputs": [
        {
          "output_type": "execute_result",
          "data": {
            "text/plain": [
              "[{2, 6, 8, 10, 13, 21},\n",
              " {5, 7, 21, 32, 36, 42},\n",
              " {11, 12, 21, 22, 35, 45},\n",
              " {12, 17, 18, 22, 36, 39},\n",
              " {1, 21, 25, 27, 28, 32}]"
            ]
          },
          "metadata": {},
          "execution_count": 18
        }
      ]
    },
    {
      "cell_type": "markdown",
      "source": [
        "파이썬은 2개 이상의 값을 리턴하는 함수를 정의할 수 있음. 함수를 호출한 곳에서는 리턴값을 튜플로 취급하면 됨.\n",
        "```\n",
        "x, y = (1, 2) # decomposition(성분 분해)\n",
        "```"
      ],
      "metadata": {
        "id": "l2k1DtAn5O7L"
      }
    },
    {
      "cell_type": "code",
      "source": [
        "def plus_and_minus(x,y):\n",
        "    return x+y, x-y"
      ],
      "metadata": {
        "id": "PXk3aB5D6Ter"
      },
      "execution_count": 19,
      "outputs": []
    },
    {
      "cell_type": "code",
      "source": [
        "plus_and_minus(1,5)"
      ],
      "metadata": {
        "colab": {
          "base_uri": "https://localhost:8080/"
        },
        "id": "McO6oDY16hGU",
        "outputId": "4c8ca6c4-b775-4d8e-ab29-f7f93b11bdc4"
      },
      "execution_count": 20,
      "outputs": [
        {
          "output_type": "execute_result",
          "data": {
            "text/plain": [
              "(6, -4)"
            ]
          },
          "metadata": {},
          "execution_count": 20
        }
      ]
    },
    {
      "cell_type": "code",
      "source": [
        "plus, minus = plus_and_minus(1,5)\n",
        "print(plus, minus)"
      ],
      "metadata": {
        "colab": {
          "base_uri": "https://localhost:8080/"
        },
        "id": "E7xKuNLa6k6i",
        "outputId": "2d4dd101-a09a-4ad7-9ac3-f8e1a45c1d78"
      },
      "execution_count": 21,
      "outputs": [
        {
          "output_type": "stream",
          "name": "stdout",
          "text": [
            "6 -4\n"
          ]
        }
      ]
    },
    {
      "cell_type": "code",
      "source": [
        "def find_max_and_min(list):\n",
        "    return max(list), min(list)"
      ],
      "metadata": {
        "id": "MdL-Ob2H60br"
      },
      "execution_count": 22,
      "outputs": []
    },
    {
      "cell_type": "code",
      "source": [
        "def find_max_and_min(list):\n",
        "    m_ax = list[0]\n",
        "    m_in = list[0]\n",
        "    for x in list:\n",
        "        if x > m_ax:\n",
        "            m_ax = x\n",
        "        if x < m_in:\n",
        "            m_in = x\n",
        "    return m_ax, m_in"
      ],
      "metadata": {
        "id": "FCZ6avs08Ywp"
      },
      "execution_count": 23,
      "outputs": []
    },
    {
      "cell_type": "code",
      "source": [
        "print(list)\n",
        "find_max_and_min(list)"
      ],
      "metadata": {
        "colab": {
          "base_uri": "https://localhost:8080/"
        },
        "id": "t5jQo3c_7AD6",
        "outputId": "8bc25f92-0fad-4037-90f2-8598cb9e4998"
      },
      "execution_count": 24,
      "outputs": [
        {
          "output_type": "stream",
          "name": "stdout",
          "text": [
            "[7, 16, 24, 25, 44, 16, 43, 24, 1, 24]\n"
          ]
        },
        {
          "output_type": "execute_result",
          "data": {
            "text/plain": [
              "(44, 1)"
            ]
          },
          "metadata": {},
          "execution_count": 24
        }
      ]
    },
    {
      "cell_type": "markdown",
      "source": [
        "숫자들의 리스트를 전달받아서 최댓값과 최댓값의 인덱스(위치)를 리턴하는 함수를 정의. 최댓값이 2개 이상인 경우, 먼저 나오는 최댓값의 인덱스를 리턴."
      ],
      "metadata": {
        "id": "yTDGnu4u92HZ"
      }
    },
    {
      "cell_type": "code",
      "source": [
        "def find_max_index(list):\n",
        "    m_ax = list[0]\n",
        "    m_index = 0;\n",
        "    m_in = list[0]\n",
        "    mi_index = 0;\n",
        "    for i,v in enumerate(list):\n",
        "        if v > m_ax:\n",
        "            m_ax = v\n",
        "            m_index = i\n",
        "        if v < m_in:\n",
        "            m_in = v\n",
        "            mi_index = i\n",
        "\n",
        "    return m_ax, m_index, m_in, mi_index"
      ],
      "metadata": {
        "id": "YSEkGMkG9aZR"
      },
      "execution_count": 25,
      "outputs": []
    },
    {
      "cell_type": "code",
      "source": [
        "print(list)\n",
        "find_max_index(list)"
      ],
      "metadata": {
        "colab": {
          "base_uri": "https://localhost:8080/"
        },
        "id": "WE8Y9rpk-nn6",
        "outputId": "28d7585c-748a-4f94-8483-259135511be8"
      },
      "execution_count": 26,
      "outputs": [
        {
          "output_type": "stream",
          "name": "stdout",
          "text": [
            "[7, 16, 24, 25, 44, 16, 43, 24, 1, 24]\n"
          ]
        },
        {
          "output_type": "execute_result",
          "data": {
            "text/plain": [
              "(44, 4, 1, 8)"
            ]
          },
          "metadata": {},
          "execution_count": 26
        }
      ]
    },
    {
      "cell_type": "markdown",
      "source": [
        "# Default argument(기본 인수)\n",
        "\n",
        "* 함수를 정의할 때 파라미터에 설정된 기본값.\n",
        "    * 함수를 호출할 때 파라미터에 값을 전달하지 않으면, 기본값이 사용됨.\n",
        "    * 함수를 호출할 때 파라미터에 값을 전달하면, 기본값은 무시되고 전달한 아규먼트가 사용됨.\n",
        "* **(주의)** 함수를 정의할 때, default argument를 갖는 파라미터들은 반드시 default argument를 같지 않는 파라미터들 뒤에 선언해야 함\n",
        "    * 기본값을 갖지 않는 파라미터들을 먼저 선언하고, 기본값을 갖는 파라미터들을 뒤에 선언해야 함."
      ],
      "metadata": {
        "id": "9rMCowNYEp9R"
      }
    },
    {
      "cell_type": "code",
      "source": [
        "def repeat_message2(msg, n = 1):\n",
        "    for _ in range(n):\n",
        "        print(msg)"
      ],
      "metadata": {
        "id": "h-SnHeYQ_nqY"
      },
      "execution_count": 27,
      "outputs": []
    },
    {
      "cell_type": "code",
      "source": [
        "repeat_message2('dj')"
      ],
      "metadata": {
        "colab": {
          "base_uri": "https://localhost:8080/"
        },
        "id": "cY_JVddpF_zn",
        "outputId": "d7b30535-531c-495c-82fa-e8b9cf5830db"
      },
      "execution_count": 28,
      "outputs": [
        {
          "output_type": "stream",
          "name": "stdout",
          "text": [
            "dj\n"
          ]
        }
      ]
    },
    {
      "cell_type": "code",
      "source": [
        "repeat_message2('dj', 5)"
      ],
      "metadata": {
        "colab": {
          "base_uri": "https://localhost:8080/"
        },
        "id": "qD7trl70Gmvm",
        "outputId": "043fded8-2946-4b15-f7d6-4ba70bdac72c"
      },
      "execution_count": 29,
      "outputs": [
        {
          "output_type": "stream",
          "name": "stdout",
          "text": [
            "dj\n",
            "dj\n",
            "dj\n",
            "dj\n",
            "dj\n"
          ]
        }
      ]
    },
    {
      "cell_type": "markdown",
      "source": [
        "# argument 전달 방법:\n",
        "* positional argument: 함수 정의에서 선언된 파라미터 순서대로 아규먼트들을 전달하는 방법.\n",
        "* keyword argument: `param = value` 형식으로 아규먼트들을 전달하는 방법.\n",
        "    * keyword argument 방식에서는 파라미터의 순서를 지키지 않아도 됨.\n",
        "    * **(주의)** 함수 호출할 때 positional 방식과 keyword 방식을 함께 사용하는 경우에는 반드시 positional argument를 먼저 사용하고, keyword argument는 나중에 사용해야 함."
      ],
      "metadata": {
        "id": "rZA8Rey5HUPg"
      }
    },
    {
      "cell_type": "code",
      "source": [
        "def minus(x,y):\n",
        "    return x - y"
      ],
      "metadata": {
        "id": "N6NCPlM6HM6o"
      },
      "execution_count": 30,
      "outputs": []
    },
    {
      "cell_type": "code",
      "source": [
        "minus(1, 10) # positional argument"
      ],
      "metadata": {
        "colab": {
          "base_uri": "https://localhost:8080/"
        },
        "outputId": "206f9363-0beb-441e-ec4d-d3cb66a277fe",
        "id": "CP35INJUJlyC"
      },
      "execution_count": 31,
      "outputs": [
        {
          "output_type": "execute_result",
          "data": {
            "text/plain": [
              "-9"
            ]
          },
          "metadata": {},
          "execution_count": 31
        }
      ]
    },
    {
      "cell_type": "code",
      "source": [
        "minus(y = 1, x= 10) # keyword argument는 순서를 지키지 않아도 괜찮ㅇ다"
      ],
      "metadata": {
        "colab": {
          "base_uri": "https://localhost:8080/"
        },
        "id": "SeNAik4fJCHF",
        "outputId": "0c629341-c8af-49e0-bb15-01bab313f18a"
      },
      "execution_count": 32,
      "outputs": [
        {
          "output_type": "execute_result",
          "data": {
            "text/plain": [
              "9"
            ]
          },
          "metadata": {},
          "execution_count": 32
        }
      ]
    },
    {
      "cell_type": "code",
      "source": [
        "minus(1, x = 10)"
      ],
      "metadata": {
        "colab": {
          "base_uri": "https://localhost:8080/",
          "height": 174
        },
        "id": "yIjrWtKrKQTn",
        "outputId": "66431f4f-0d95-40e8-aae9-f0a229f404c2"
      },
      "execution_count": 33,
      "outputs": [
        {
          "output_type": "error",
          "ename": "TypeError",
          "evalue": "ignored",
          "traceback": [
            "\u001b[0;31m---------------------------------------------------------------------------\u001b[0m",
            "\u001b[0;31mTypeError\u001b[0m                                 Traceback (most recent call last)",
            "\u001b[0;32m<ipython-input-33-1cb7df71c6ae>\u001b[0m in \u001b[0;36m<cell line: 1>\u001b[0;34m()\u001b[0m\n\u001b[0;32m----> 1\u001b[0;31m \u001b[0mminus\u001b[0m\u001b[0;34m(\u001b[0m\u001b[0;36m1\u001b[0m\u001b[0;34m,\u001b[0m \u001b[0mx\u001b[0m \u001b[0;34m=\u001b[0m \u001b[0;36m10\u001b[0m\u001b[0;34m)\u001b[0m\u001b[0;34m\u001b[0m\u001b[0;34m\u001b[0m\u001b[0m\n\u001b[0m",
            "\u001b[0;31mTypeError\u001b[0m: minus() got multiple values for argument 'x'"
          ]
        }
      ]
    },
    {
      "cell_type": "markdown",
      "source": [
        "# 가변길이 인수(variable-length argument)\n",
        "\n",
        "public void printf(String... args) {}\n",
        "* 함수를 호출할 때, 전달하는 argument의 개수가 임의로 변할 수 있는 것\n",
        "    * argument를 전달하지 않아도 됨.\n",
        "* 함수를 정의할 때 파라미터 이름 앞에 `*`를 사용하면 가변길이 인수를 전달 받을 수 있음.\n",
        "* 함수 내부에서는 가변길이 인수는 튜플로 취급.\n",
        "    * for-in 반복문 사용 가능.\n",
        "    * 인덱스 사용 가능.\n",
        "* **(주의)**\n",
        "    * 가변길이 인수는 keyword 방식으로는 전달할 수 없음.\n",
        "    * 함수를 정의할 때, 가변길이 인수를 갖는 파라미터는 오직 1개만 선언 가능."
      ],
      "metadata": {
        "id": "TpoPMSaRLWmG"
      }
    },
    {
      "cell_type": "code",
      "source": [
        "def add_all(*values):\n",
        "    total = 0\n",
        "    for x in values:\n",
        "        total += x\n",
        "    return total"
      ],
      "metadata": {
        "id": "Om61qY0BfZ9c"
      },
      "execution_count": 34,
      "outputs": []
    },
    {
      "cell_type": "code",
      "source": [
        "add_all()"
      ],
      "metadata": {
        "colab": {
          "base_uri": "https://localhost:8080/"
        },
        "id": "w00ddTjIfooz",
        "outputId": "6773b79e-bfb7-4e35-fe43-4540c1e2cbf5"
      },
      "execution_count": 35,
      "outputs": [
        {
          "output_type": "execute_result",
          "data": {
            "text/plain": [
              "0"
            ]
          },
          "metadata": {},
          "execution_count": 35
        }
      ]
    },
    {
      "cell_type": "code",
      "source": [
        "add_all(1,2,3,4,7) # 원소 5개짜리 튜플 전달"
      ],
      "metadata": {
        "colab": {
          "base_uri": "https://localhost:8080/"
        },
        "id": "Mwl8doawf4Oj",
        "outputId": "7c4104f4-5c50-4c35-8edc-6cc2f54cb880"
      },
      "execution_count": 36,
      "outputs": [
        {
          "output_type": "execute_result",
          "data": {
            "text/plain": [
              "17"
            ]
          },
          "metadata": {},
          "execution_count": 36
        }
      ]
    },
    {
      "cell_type": "code",
      "source": [
        "def test1(x, *y):\n",
        "    print(x)\n",
        "    print(y)"
      ],
      "metadata": {
        "id": "Fp68qO2YhALq"
      },
      "execution_count": 37,
      "outputs": []
    },
    {
      "cell_type": "code",
      "source": [
        "test1(1,2,3,4,7)"
      ],
      "metadata": {
        "colab": {
          "base_uri": "https://localhost:8080/"
        },
        "id": "HwkyWVA0hkvL",
        "outputId": "e245ab78-8a82-49f9-c1a5-d98bd2105c96"
      },
      "execution_count": 38,
      "outputs": [
        {
          "output_type": "stream",
          "name": "stdout",
          "text": [
            "1\n",
            "(2, 3, 4, 7)\n"
          ]
        }
      ]
    },
    {
      "cell_type": "code",
      "source": [
        "def test2(*x, y):\n",
        "    print(x)\n",
        "    print(y)"
      ],
      "metadata": {
        "id": "rh9Avx1KiMp1"
      },
      "execution_count": 39,
      "outputs": []
    },
    {
      "cell_type": "code",
      "source": [
        "test2(1,2,3,4,y = 5)"
      ],
      "metadata": {
        "colab": {
          "base_uri": "https://localhost:8080/"
        },
        "id": "gO8zLj_giUh7",
        "outputId": "d7ffa648-ce66-417f-a7c1-286cbf3b0e2c"
      },
      "execution_count": 40,
      "outputs": [
        {
          "output_type": "stream",
          "name": "stdout",
          "text": [
            "(1, 2, 3, 4)\n",
            "5\n"
          ]
        }
      ]
    },
    {
      "cell_type": "code",
      "source": [
        "def keyword_only(*,x,y,z): # 키워드 방식으로만 함수 호출 가능\n",
        "    print(f'x={x}, y={y}, z={z}')"
      ],
      "metadata": {
        "id": "id9TYPD5igbC"
      },
      "execution_count": 41,
      "outputs": []
    },
    {
      "cell_type": "code",
      "source": [
        "keyword_only(x=1,y=2,z=3)"
      ],
      "metadata": {
        "colab": {
          "base_uri": "https://localhost:8080/"
        },
        "id": "Vq5swJeqjPYS",
        "outputId": "f3f792ce-229e-4718-e79e-545588bc6153"
      },
      "execution_count": 42,
      "outputs": [
        {
          "output_type": "stream",
          "name": "stdout",
          "text": [
            "x=1, y=2, z=3\n"
          ]
        }
      ]
    },
    {
      "cell_type": "markdown",
      "source": [
        "#가변길이 키워드 인수(variable-length keyword argument)\n",
        "* 함수를 정의할 때 파라미터 이름 앞에 `**`를 붙임.\n",
        "* 가변길이 인수:함수를 호출할 때 전달하는 아규먼트의 개수 제한이 없음.\n",
        "* keyword argument: 함수를 호출할 때 반드시 `param=value`형식으로 전달해야함.\n",
        "* 함수 내부에서 가변 길이 키워드 인수는 dict로 취급함.\n",
        "* 함수 호출할 때 파라미터 이름은 아무렇게나 전달해도 됨\n",
        "* 가변길이 키워드 인수는 함수에서 1개만 사용 가능\n"
      ],
      "metadata": {
        "id": "9CzWSQmmlz3i"
      }
    },
    {
      "cell_type": "code",
      "source": [
        "def test3(**kwargs):\n",
        "    print(kwargs)"
      ],
      "metadata": {
        "id": "Z3QgUGRMm13W"
      },
      "execution_count": 43,
      "outputs": []
    },
    {
      "cell_type": "code",
      "source": [
        "test3(happy1 = 10, happy2 = 20, happy3 = 30)"
      ],
      "metadata": {
        "colab": {
          "base_uri": "https://localhost:8080/"
        },
        "id": "HUPJ0eI0m8wK",
        "outputId": "863d5339-e739-49e9-e70c-9751e6330d98"
      },
      "execution_count": 44,
      "outputs": [
        {
          "output_type": "stream",
          "name": "stdout",
          "text": [
            "{'happy1': 10, 'happy2': 20, 'happy3': 30}\n"
          ]
        }
      ]
    },
    {
      "cell_type": "code",
      "source": [
        "def make_emp_info(emp_no, emp_name, **kwargs):\n",
        "    emp = {'emp_no':emp_no, 'emp_name':emp_name}\n",
        "    for k,v in kwargs.items():\n",
        "        emp[k] = v\n",
        "\n",
        "    return emp"
      ],
      "metadata": {
        "id": "GDnkt9rSnFs5"
      },
      "execution_count": 45,
      "outputs": []
    },
    {
      "cell_type": "code",
      "source": [
        "make_emp_info(1, 'king')"
      ],
      "metadata": {
        "colab": {
          "base_uri": "https://localhost:8080/"
        },
        "id": "OtUmQO7copB4",
        "outputId": "51b8efb4-4b6e-4971-f190-ed011a002e69"
      },
      "execution_count": 46,
      "outputs": [
        {
          "output_type": "execute_result",
          "data": {
            "text/plain": [
              "{'emp_no': 1, 'emp_name': 'king'}"
            ]
          },
          "metadata": {},
          "execution_count": 46
        }
      ]
    },
    {
      "cell_type": "code",
      "source": [
        "def print_msg(msg):\n",
        "    print(f'message = {msg}')"
      ],
      "metadata": {
        "id": "cowfYRjEosEX"
      },
      "execution_count": 47,
      "outputs": []
    },
    {
      "cell_type": "code",
      "source": [
        "print_msg('안녕하세요')"
      ],
      "metadata": {
        "colab": {
          "base_uri": "https://localhost:8080/"
        },
        "id": "937cXvt1vkHG",
        "outputId": "744c8569-825f-4051-d7a7-edcce6a09997"
      },
      "execution_count": 48,
      "outputs": [
        {
          "output_type": "stream",
          "name": "stdout",
          "text": [
            "message = 안녕하세요\n"
          ]
        }
      ]
    },
    {
      "cell_type": "code",
      "source": [
        "print(print_msg('안녕하세요'))"
      ],
      "metadata": {
        "colab": {
          "base_uri": "https://localhost:8080/"
        },
        "id": "nOj_ely_vnoA",
        "outputId": "5ce10db0-1709-48e2-e78d-f501a1fb77e2"
      },
      "execution_count": 49,
      "outputs": [
        {
          "output_type": "stream",
          "name": "stdout",
          "text": [
            "message = 안녕하세요\n",
            "None\n"
          ]
        }
      ]
    },
    {
      "cell_type": "markdown",
      "source": [
        "# 1급 객체(first-class object)로서의 함수\n",
        "* 함수는 변수에 할당할 수 있음.\n",
        "    * 함수는 아규먼트가 될 수 있음.\n",
        "* 함수는 다른 함수의 리턴 값이 될 수 있음\n",
        "* 함수 내부에서 다른 함수를 정의할 수 있음"
      ],
      "metadata": {
        "id": "K7V6ccOMxVIY"
      }
    },
    {
      "cell_type": "markdown",
      "source": [
        "#함수를 변수에 할당"
      ],
      "metadata": {
        "id": "z7XbN4LayN-W"
      }
    },
    {
      "cell_type": "code",
      "source": [
        "def twice(x):\n",
        "    return x **2"
      ],
      "metadata": {
        "id": "HT1e26cNyPrn"
      },
      "execution_count": 50,
      "outputs": []
    },
    {
      "cell_type": "code",
      "source": [
        "result = twice(100) # 함수 호출 결과를 변수에 저장"
      ],
      "metadata": {
        "id": "oxT058eEyVXt"
      },
      "execution_count": 51,
      "outputs": []
    },
    {
      "cell_type": "code",
      "source": [
        "double = twice # 함수(객체)를 변수에 저장"
      ],
      "metadata": {
        "id": "FTC025T4yZHN"
      },
      "execution_count": 52,
      "outputs": []
    },
    {
      "cell_type": "code",
      "source": [
        "double"
      ],
      "metadata": {
        "colab": {
          "base_uri": "https://localhost:8080/"
        },
        "id": "6dYkhJxyyhnd",
        "outputId": "238878f1-0dd9-4cb8-cc6b-0aa2b643fcaa"
      },
      "execution_count": 53,
      "outputs": [
        {
          "output_type": "execute_result",
          "data": {
            "text/plain": [
              "<function __main__.twice(x)>"
            ]
          },
          "metadata": {},
          "execution_count": 53
        }
      ]
    },
    {
      "cell_type": "code",
      "source": [
        "double(twice(2))"
      ],
      "metadata": {
        "colab": {
          "base_uri": "https://localhost:8080/"
        },
        "id": "-OIkOgLdysSk",
        "outputId": "5529f46c-1be6-4704-f19c-fae64ff8aaa9"
      },
      "execution_count": 54,
      "outputs": [
        {
          "output_type": "execute_result",
          "data": {
            "text/plain": [
              "16"
            ]
          },
          "metadata": {},
          "execution_count": 54
        }
      ]
    },
    {
      "cell_type": "code",
      "source": [
        "def calculate(x,y,fn):\n",
        "    result = fn(x,y)\n",
        "    return result"
      ],
      "metadata": {
        "id": "SNbKFGK9ywxc"
      },
      "execution_count": 55,
      "outputs": []
    },
    {
      "cell_type": "code",
      "source": [
        "def plus(x,y):\n",
        "    return x+y"
      ],
      "metadata": {
        "id": "mNwljoewzQ5E"
      },
      "execution_count": 56,
      "outputs": []
    },
    {
      "cell_type": "code",
      "source": [
        "calculate(9,8,plus)"
      ],
      "metadata": {
        "colab": {
          "base_uri": "https://localhost:8080/"
        },
        "id": "SemZRoFezblN",
        "outputId": "af9c230d-9780-4c91-e923-0c7bae9a4dc0"
      },
      "execution_count": 57,
      "outputs": [
        {
          "output_type": "execute_result",
          "data": {
            "text/plain": [
              "17"
            ]
          },
          "metadata": {},
          "execution_count": 57
        }
      ]
    },
    {
      "cell_type": "code",
      "source": [
        "def minus(x,y):\n",
        "    return x-y"
      ],
      "metadata": {
        "id": "0AWO6Y31zfjW"
      },
      "execution_count": 58,
      "outputs": []
    },
    {
      "cell_type": "code",
      "source": [
        "calculate(1,2,minus)"
      ],
      "metadata": {
        "colab": {
          "base_uri": "https://localhost:8080/"
        },
        "id": "b_cninQi0Qzc",
        "outputId": "99e335e6-a023-41e2-b3e4-75689d957eb9"
      },
      "execution_count": 59,
      "outputs": [
        {
          "output_type": "execute_result",
          "data": {
            "text/plain": [
              "-1"
            ]
          },
          "metadata": {},
          "execution_count": 59
        }
      ]
    },
    {
      "cell_type": "markdown",
      "source": [
        "##내부 함수, 함수 리턴"
      ],
      "metadata": {
        "id": "I5zWLDs_1Kld"
      }
    },
    {
      "cell_type": "code",
      "source": [
        "def make_increment(n): # 외부 함수\n",
        "    def add_n(x): # 내부 함수, 지역 함수\n",
        "        return x+n # 내부 함수는 외부 함수의 지역 변수(파라미터 포함)들을 사용할 수 있음.\n",
        "    return add_n"
      ],
      "metadata": {
        "id": "BqcgldAq1OnG"
      },
      "execution_count": 60,
      "outputs": []
    },
    {
      "cell_type": "code",
      "source": [
        "increase_by_2 = make_increment(2)"
      ],
      "metadata": {
        "id": "k8NgGYcO1ZW7"
      },
      "execution_count": 61,
      "outputs": []
    },
    {
      "cell_type": "code",
      "source": [
        "increase_by_2(100)"
      ],
      "metadata": {
        "colab": {
          "base_uri": "https://localhost:8080/"
        },
        "id": "yEiOKky82L3r",
        "outputId": "582aa732-5e36-4c31-e4c4-2d09a8a72f73"
      },
      "execution_count": 62,
      "outputs": [
        {
          "output_type": "execute_result",
          "data": {
            "text/plain": [
              "102"
            ]
          },
          "metadata": {},
          "execution_count": 62
        }
      ]
    },
    {
      "cell_type": "code",
      "source": [
        "make_increment(5)(100)"
      ],
      "metadata": {
        "colab": {
          "base_uri": "https://localhost:8080/"
        },
        "id": "I6Jg6hkB2Orb",
        "outputId": "6c33203d-ec91-4f13-d9e0-016a293a0004"
      },
      "execution_count": 63,
      "outputs": [
        {
          "output_type": "execute_result",
          "data": {
            "text/plain": [
              "105"
            ]
          },
          "metadata": {},
          "execution_count": 63
        }
      ]
    },
    {
      "cell_type": "markdown",
      "source": [
        "#Lambda Expression(람다 표현식)\n",
        "```\n",
        "lambda param1, param2, ...: expression\n",
        "```\n",
        "\n",
        "* 익명 함수 표기법\n",
        "* 함수 이름 없이 함수의 파라미터 선언과 반환 값 또는 반환 식으로만 함수를 정의하는 방법\n",
        "* 파이썬은 2줄 이상의 문장이 포함된 람다 표현식 문법을 제공하지 않음"
      ],
      "metadata": {
        "id": "DfONMOlG8V_7"
      }
    },
    {
      "cell_type": "code",
      "source": [
        "minus = lambda x,y: x-y\n",
        "minus"
      ],
      "metadata": {
        "colab": {
          "base_uri": "https://localhost:8080/"
        },
        "id": "1b-Y4duq4CPj",
        "outputId": "55e0648c-5c5b-45d5-ffb7-a9b250d8a493"
      },
      "execution_count": 64,
      "outputs": [
        {
          "output_type": "execute_result",
          "data": {
            "text/plain": [
              "<function __main__.<lambda>(x, y)>"
            ]
          },
          "metadata": {},
          "execution_count": 64
        }
      ]
    },
    {
      "cell_type": "code",
      "source": [
        "minus(1,2)"
      ],
      "metadata": {
        "colab": {
          "base_uri": "https://localhost:8080/"
        },
        "id": "6alzaTaa9j-B",
        "outputId": "047b6045-773c-46ee-8993-fb75d85456c1"
      },
      "execution_count": 65,
      "outputs": [
        {
          "output_type": "execute_result",
          "data": {
            "text/plain": [
              "-1"
            ]
          },
          "metadata": {},
          "execution_count": 65
        }
      ]
    },
    {
      "cell_type": "code",
      "source": [
        "calculate(2,3, lambda x,y: x*y)"
      ],
      "metadata": {
        "colab": {
          "base_uri": "https://localhost:8080/"
        },
        "id": "rq46sGIk9o6B",
        "outputId": "efc4a44c-62dd-46c4-df34-8a0bcfd8d6f2"
      },
      "execution_count": 66,
      "outputs": [
        {
          "output_type": "execute_result",
          "data": {
            "text/plain": [
              "6"
            ]
          },
          "metadata": {},
          "execution_count": 66
        }
      ]
    },
    {
      "cell_type": "code",
      "source": [
        "calculate(2,3, lambda x,y: x/y)"
      ],
      "metadata": {
        "colab": {
          "base_uri": "https://localhost:8080/"
        },
        "id": "XZ_czOMu-dIZ",
        "outputId": "e0383c77-67a4-475c-9a0e-c66e36c9b604"
      },
      "execution_count": 67,
      "outputs": [
        {
          "output_type": "execute_result",
          "data": {
            "text/plain": [
              "0.6666666666666666"
            ]
          },
          "metadata": {},
          "execution_count": 67
        }
      ]
    },
    {
      "cell_type": "markdown",
      "source": [
        "Ex1. calculate 함수에 2개의 숫자중에서 더 큰수를 리턴하는 람다 표현식을 전달"
      ],
      "metadata": {
        "id": "hX40FRuZ_RPK"
      }
    },
    {
      "cell_type": "code",
      "source": [
        "calculate(5,6, lambda x,y: x if x>y else y)"
      ],
      "metadata": {
        "colab": {
          "base_uri": "https://localhost:8080/"
        },
        "id": "QHCzC6ac-vMI",
        "outputId": "08aefde1-0851-41a2-ae72-ef99cfe2d498"
      },
      "execution_count": 68,
      "outputs": [
        {
          "output_type": "execute_result",
          "data": {
            "text/plain": [
              "6"
            ]
          },
          "metadata": {},
          "execution_count": 68
        }
      ]
    },
    {
      "cell_type": "markdown",
      "source": [
        "Ex1. calculate 함수에 첫번째 아규먼트가 크면 True, 그렇지 않으면 False를 리턴하는 람다 표현식을 전달"
      ],
      "metadata": {
        "id": "5PEzX4Ge_X25"
      }
    },
    {
      "cell_type": "code",
      "source": [
        "calculate(1,5, lambda x,y: x>y)"
      ],
      "metadata": {
        "colab": {
          "base_uri": "https://localhost:8080/"
        },
        "id": "swJu5GjC_w6x",
        "outputId": "3ab733ed-d596-4d63-e1aa-c39adacf0dc7"
      },
      "execution_count": 69,
      "outputs": [
        {
          "output_type": "execute_result",
          "data": {
            "text/plain": [
              "False"
            ]
          },
          "metadata": {},
          "execution_count": 69
        }
      ]
    },
    {
      "cell_type": "markdown",
      "source": [
        "##Filter 함수\n",
        "조건에 맞는 원소들만 선택"
      ],
      "metadata": {
        "id": "DAqb0om1CEvq"
      }
    },
    {
      "cell_type": "code",
      "source": [
        "my_filter([1,2,3,4], lambda x: x % 2 == 0)"
      ],
      "metadata": {
        "colab": {
          "base_uri": "https://localhost:8080/"
        },
        "id": "qEmyF5ZkGpsh",
        "outputId": "4acf1f6b-ed2e-4634-ec8d-61e8bc1dabed"
      },
      "execution_count": 76,
      "outputs": [
        {
          "output_type": "execute_result",
          "data": {
            "text/plain": [
              "[True, True]"
            ]
          },
          "metadata": {},
          "execution_count": 76
        }
      ]
    },
    {
      "cell_type": "code",
      "source": [
        "def my_filter(iterable, fn):\n",
        "    \"\"\"\n",
        "    리스트 iterable의 원소들 중에서 함수 fn의 호출 결과 값이 True인 원소들로만 이루어진 리스트를 리턴\n",
        "    Param iterable: 리스트\n",
        "    Param fn: 아규먼트가 1개이고, true/false를 리턴하는 함수\n",
        "\n",
        "    result = [] #필터링된 원소들을 저장할 빈 리스트\n",
        "    for x in iterable: # 리스트의 원소들을 순서대로 반복하면서\n",
        "        if(fn(x)): # 함수를 지나간 원소의 값이 true를 반환한다면\n",
        "            result.append(x) # 리스트에 값을 넣어준다.\n",
        "    return result # 그 리스트를 반환함\n",
        "    \"\"\"\n",
        "    return [x for x in iterable if fn(x)]"
      ],
      "metadata": {
        "id": "f4Ey1_zp_4Gg"
      },
      "execution_count": 80,
      "outputs": []
    },
    {
      "cell_type": "code",
      "source": [
        "my_filter([1,2,3,4], lambda x: x%2==0)"
      ],
      "metadata": {
        "colab": {
          "base_uri": "https://localhost:8080/"
        },
        "id": "DtiUhKlAInAd",
        "outputId": "77360056-0090-4af3-e051-4c72f66d19f1"
      },
      "execution_count": 81,
      "outputs": [
        {
          "output_type": "execute_result",
          "data": {
            "text/plain": [
              "[2, 4]"
            ]
          },
          "metadata": {},
          "execution_count": 81
        }
      ]
    },
    {
      "cell_type": "code",
      "source": [
        "strings = ['python', 'java', 'javascript', 'sql']\n",
        "# my_filter 함수를 사용해서 strings에서 5글자 이상인 문자열들만 필터링\n",
        "my_filter(strings, lambda x: len(x)>=5)"
      ],
      "metadata": {
        "colab": {
          "base_uri": "https://localhost:8080/"
        },
        "id": "B6LsFUG3KrRF",
        "outputId": "76e01450-bf95-4158-b6c1-0c9878443ca2"
      },
      "execution_count": 83,
      "outputs": [
        {
          "output_type": "execute_result",
          "data": {
            "text/plain": [
              "['python', 'javascript']"
            ]
          },
          "metadata": {},
          "execution_count": 83
        }
      ]
    },
    {
      "cell_type": "markdown",
      "source": [
        "##map 함수\n",
        "원소들을 규칙에 따라서 다른 값으로 변환"
      ],
      "metadata": {
        "id": "gBcV1G2GOFJl"
      }
    },
    {
      "cell_type": "code",
      "source": [
        "def my_mapper(iterable, fn):\n",
        "    \"\"\"\n",
        "    리스트 iterable의 원소들을 함수 fn의 리턴 값으로 변환한 리스트를 리턴\n",
        "    Param iterable: 리스트\n",
        "    Param fn: 아규먼트가 1개이고 리턴값이 있는 함수\n",
        "    \"\"\"\n",
        "    return [fn(x) for x in iterable]"
      ],
      "metadata": {
        "id": "fPk4LaHcNdsj"
      },
      "execution_count": 86,
      "outputs": []
    },
    {
      "cell_type": "code",
      "source": [
        "my_mapper([1,2,3,4,5], lambda x: x**2)"
      ],
      "metadata": {
        "colab": {
          "base_uri": "https://localhost:8080/"
        },
        "id": "tCIb-g5IOgDL",
        "outputId": "9c65456d-838b-43b8-af8a-eb2b6e9c60d8"
      },
      "execution_count": 87,
      "outputs": [
        {
          "output_type": "execute_result",
          "data": {
            "text/plain": [
              "[1, 4, 9, 16, 25]"
            ]
          },
          "metadata": {},
          "execution_count": 87
        }
      ]
    },
    {
      "cell_type": "code",
      "source": [
        "my_mapper(['a','b','c'], lambda x: x*2)"
      ],
      "metadata": {
        "colab": {
          "base_uri": "https://localhost:8080/"
        },
        "id": "QmB-4v3MO2U0",
        "outputId": "5672d87f-69f0-4b47-dd33-89de308c57d3"
      },
      "execution_count": 90,
      "outputs": [
        {
          "output_type": "execute_result",
          "data": {
            "text/plain": [
              "['aa', 'bb', 'cc']"
            ]
          },
          "metadata": {},
          "execution_count": 90
        }
      ]
    },
    {
      "cell_type": "code",
      "source": [
        "# 리스트 numbers의 원소가 짝수이면 'even' 홀수이면 'odd'\n",
        "my_mapper([1,2,3,4,5], lambda x:  'even' if x % 2 == 0 else 'odd')"
      ],
      "metadata": {
        "colab": {
          "base_uri": "https://localhost:8080/"
        },
        "id": "yxBreVz0QqHL",
        "outputId": "c429e868-ff5a-46a0-e864-879c66c7efb8"
      },
      "execution_count": 97,
      "outputs": [
        {
          "output_type": "execute_result",
          "data": {
            "text/plain": [
              "['odd', 'even', 'odd', 'even', 'odd']"
            ]
          },
          "metadata": {},
          "execution_count": 97
        }
      ]
    },
    {
      "cell_type": "code",
      "source": [
        "# strings가 가지고 있는 문자열의 길이들로 이루어진 리스트\n",
        "my_mapper(strings, lambda x: len(x))"
      ],
      "metadata": {
        "colab": {
          "base_uri": "https://localhost:8080/"
        },
        "id": "oOROcVh3RgP6",
        "outputId": "11db3b4a-133d-43ba-e77e-f69fcafe82c8"
      },
      "execution_count": 98,
      "outputs": [
        {
          "output_type": "execute_result",
          "data": {
            "text/plain": [
              "[6, 4, 10, 3]"
            ]
          },
          "metadata": {},
          "execution_count": 98
        }
      ]
    },
    {
      "cell_type": "code",
      "source": [
        "#strings의 문자열들을 모두 대문자로 변환한 리스트\n",
        "my_mapper(strings, lambda x: x.upper())"
      ],
      "metadata": {
        "colab": {
          "base_uri": "https://localhost:8080/"
        },
        "id": "K-p6AOJ5SAD6",
        "outputId": "629c882d-501c-40ff-fd65-1b87833f6212"
      },
      "execution_count": 100,
      "outputs": [
        {
          "output_type": "execute_result",
          "data": {
            "text/plain": [
              "['PYTHON', 'JAVA', 'JAVASCRIPT', 'SQL']"
            ]
          },
          "metadata": {},
          "execution_count": 100
        }
      ]
    },
    {
      "cell_type": "code",
      "source": [
        "2**7"
      ],
      "metadata": {
        "colab": {
          "base_uri": "https://localhost:8080/"
        },
        "id": "1-UOFtqKSx_i",
        "outputId": "d2814d55-d191-47fe-a090-44caa7ae1d2a"
      },
      "execution_count": 101,
      "outputs": [
        {
          "output_type": "execute_result",
          "data": {
            "text/plain": [
              "128"
            ]
          },
          "metadata": {},
          "execution_count": 101
        }
      ]
    },
    {
      "cell_type": "code",
      "source": [
        "# 157 page 책 읽기"
      ],
      "metadata": {
        "id": "B3tDZlLKSylp"
      },
      "execution_count": null,
      "outputs": []
    }
  ]
}