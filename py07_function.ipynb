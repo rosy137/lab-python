{
  "nbformat": 4,
  "nbformat_minor": 0,
  "metadata": {
    "colab": {
      "provenance": [],
      "authorship_tag": "ABX9TyM44EWd0Id68AYPiiRdQmn5",
      "include_colab_link": true
    },
    "kernelspec": {
      "name": "python3",
      "display_name": "Python 3"
    },
    "language_info": {
      "name": "python"
    }
  },
  "cells": [
    {
      "cell_type": "markdown",
      "metadata": {
        "id": "view-in-github",
        "colab_type": "text"
      },
      "source": [
        "<a href=\"https://colab.research.google.com/github/rosy137/lab-python/blob/main/py07_function.ipynb\" target=\"_parent\"><img src=\"https://colab.research.google.com/assets/colab-badge.svg\" alt=\"Open In Colab\"/></a>"
      ]
    },
    {
      "cell_type": "markdown",
      "source": [
        "#Funtion(함수)"
      ],
      "metadata": {
        "id": "keWt--aSFCBp"
      }
    },
    {
      "cell_type": "markdown",
      "source": [
        "* function(함수): 기능을 수행하는 코드 블록.\n",
        "* argument: 함수를 호출하는 곳에서 함수에게 전달하는 값.\n",
        "* parameter: argument를 저장하기 위해서 함수 선언부에서 선언하는 지역 변수.\n",
        "* return value: 함수가 기능의 수행 결과로 리턴하는 값.\n",
        "    * return value가 있는 함수\n",
        "    * return value가 없는 함수\n",
        "* 파이썬 함수 정의 방법:\n",
        "    ```\n",
        "    def function_name([param, ...]):\n",
        "        [\"\"\"문서화 주석 - 함수 기능 설명, 파라미터 설명, 리턴 값 설명\"\"\"]\n",
        "        함수 기능 구현\n",
        "        [return 값]\n",
        "    ```\n",
        "* return value가 없는 경우에,\n",
        "    * return 문장을 생략.\n",
        "    * return None 명시할 수도 있음."
      ],
      "metadata": {
        "id": "Qx2y6bmCFGXw"
      }
    },
    {
      "cell_type": "code",
      "execution_count": 4,
      "metadata": {
        "id": "wPOC_QXvE1B2"
      },
      "outputs": [],
      "source": [
        "def subtract(x,y): # 함수 정의 파라미터 받기\n",
        "    \"\"\"2개의 숫자 x, y를 전달받아서 x-y 결과를 리턴하는 함수\"\"\"\n",
        "    return x - y"
      ]
    },
    {
      "cell_type": "code",
      "source": [
        "result = subtract(1,2) # 함수 호출 아규먼트 전달\n",
        "result"
      ],
      "metadata": {
        "colab": {
          "base_uri": "https://localhost:8080/"
        },
        "id": "c87CXTnOHwxo",
        "outputId": "1841b436-5cb1-4614-a293-e195dd8eac96"
      },
      "execution_count": 7,
      "outputs": [
        {
          "output_type": "execute_result",
          "data": {
            "text/plain": [
              "-1"
            ]
          },
          "metadata": {},
          "execution_count": 7
        }
      ]
    },
    {
      "cell_type": "code",
      "source": [
        "#문자열, 숫자 전달받은 숫자만큼 문자열 반복하는 함수\n",
        "def repeat_message(message, n):\n",
        "    \"\"\"\n",
        "    문자열(message)과 양의 정수(n)을 전달받아서, message를 n번 출력하는 함수.\n",
        "    \"\"\"\n",
        "    for _ in range(n): print(message)\n",
        "    return None # 리턴값이 없으면 보통 return문을 생략하지만, return None으로 명시하기도 함.\n",
        "    # return message * n"
      ],
      "metadata": {
        "id": "iPN3MyAJI_9g"
      },
      "execution_count": 14,
      "outputs": []
    },
    {
      "cell_type": "code",
      "source": [
        "repeat_message('hi', 5)"
      ],
      "metadata": {
        "colab": {
          "base_uri": "https://localhost:8080/"
        },
        "id": "LdZAOtIGJPFY",
        "outputId": "073501e7-cbeb-46a9-bbc5-1c9651488838"
      },
      "execution_count": 15,
      "outputs": [
        {
          "output_type": "stream",
          "name": "stdout",
          "text": [
            "hi\n",
            "hi\n",
            "hi\n",
            "hi\n",
            "hi\n"
          ]
        }
      ]
    },
    {
      "cell_type": "markdown",
      "source": [
        "##Ex 1.\n",
        "* 함수 이름: make_list\n",
        "* 기능: start 이상 end 미만의 정수 난수 n개를 갖는 리스트를 반환하는 함수."
      ],
      "metadata": {
        "id": "wuqgcFWmLndA"
      }
    },
    {
      "cell_type": "code",
      "source": [
        "import random"
      ],
      "metadata": {
        "id": "0SdjkQYGMTdv"
      },
      "execution_count": 16,
      "outputs": []
    },
    {
      "cell_type": "code",
      "source": [
        "def make_list(start,end,n):\n",
        "    list = [random.randrange(start,end) for _ in range(n)]\n",
        "    print(list)\n",
        "    return list"
      ],
      "metadata": {
        "id": "-21REnz5MJWm"
      },
      "execution_count": 36,
      "outputs": []
    },
    {
      "cell_type": "code",
      "source": [
        "make_list(30,50,10)"
      ],
      "metadata": {
        "colab": {
          "base_uri": "https://localhost:8080/"
        },
        "id": "arUhwdUGMruH",
        "outputId": "22ddcdfa-8d16-4153-ee02-c527d56ed3ad"
      },
      "execution_count": 37,
      "outputs": [
        {
          "output_type": "stream",
          "name": "stdout",
          "text": [
            "[35, 39, 37, 43, 49, 47, 36, 48, 40, 39]\n"
          ]
        },
        {
          "output_type": "execute_result",
          "data": {
            "text/plain": [
              "[35, 39, 37, 43, 49, 47, 36, 48, 40, 39]"
            ]
          },
          "metadata": {},
          "execution_count": 37
        }
      ]
    },
    {
      "cell_type": "markdown",
      "source": [
        "##Ex 2.\n",
        "* 함수 이름: calc_sum\n",
        "* 기능: 숫자들의 리스트를 전달받아서, 리스트의 모든 원소들의 합을 리턴하는 함수."
      ],
      "metadata": {
        "id": "EawuJOj8L81Q"
      }
    },
    {
      "cell_type": "code",
      "source": [
        "def calc_sum(list):\n",
        "    total = 0\n",
        "    for x in range(len(list)):\n",
        "        total += list[x]\n",
        "    return total"
      ],
      "metadata": {
        "id": "WxZs-VqFMAnI"
      },
      "execution_count": 23,
      "outputs": []
    },
    {
      "cell_type": "code",
      "source": [
        "def calc_sum(list):\n",
        "    return sum(list)"
      ],
      "metadata": {
        "id": "Fi7M4fKNPfq1"
      },
      "execution_count": 34,
      "outputs": []
    },
    {
      "cell_type": "code",
      "source": [
        "calc_sum(make_list(10,50,5))"
      ],
      "metadata": {
        "colab": {
          "base_uri": "https://localhost:8080/"
        },
        "id": "Zt7i3mLONEV_",
        "outputId": "bdc5fd54-da04-445c-d7d0-d27a4cccd3ff"
      },
      "execution_count": 39,
      "outputs": [
        {
          "output_type": "stream",
          "name": "stdout",
          "text": [
            "[42, 10, 12, 17, 28]\n"
          ]
        },
        {
          "output_type": "execute_result",
          "data": {
            "text/plain": [
              "109"
            ]
          },
          "metadata": {},
          "execution_count": 39
        }
      ]
    },
    {
      "cell_type": "markdown",
      "source": [
        "##Ex 3.\n",
        "* 함수 이름: calc_mean\n",
        "* 기능: 숫자들의 리스트를 전달받아서, 리스트의 원소들의 평균을 리턴하는 함수."
      ],
      "metadata": {
        "id": "E_j1AfTXMBAO"
      }
    },
    {
      "cell_type": "code",
      "source": [
        "def calc_mean(list):\n",
        "    return calc_sum(list) / len(list)"
      ],
      "metadata": {
        "id": "eri5EnUgJx4I"
      },
      "execution_count": 29,
      "outputs": []
    },
    {
      "cell_type": "code",
      "source": [
        "calc_mean(make_list(15,100,5))"
      ],
      "metadata": {
        "colab": {
          "base_uri": "https://localhost:8080/"
        },
        "id": "O4EPj0hfN4OY",
        "outputId": "3ff14b00-c1de-45f0-83d5-24858935ce30"
      },
      "execution_count": 40,
      "outputs": [
        {
          "output_type": "stream",
          "name": "stdout",
          "text": [
            "[35, 59, 51, 91, 75]\n"
          ]
        },
        {
          "output_type": "execute_result",
          "data": {
            "text/plain": [
              "62.2"
            ]
          },
          "metadata": {},
          "execution_count": 40
        }
      ]
    },
    {
      "cell_type": "markdown",
      "source": [
        "##Ex 4.\n",
        "* 함수 이름: calc_var\n",
        "* 기능: 숫자들의 리스트를 전달받아서, 리스트의 원소들의 분산(variance)을 리턴하는 함수.\n",
        "    * 분산 = (값 - 평균)**2 들의 평균"
      ],
      "metadata": {
        "id": "Di8gb4hOMEcn"
      }
    },
    {
      "cell_type": "code",
      "source": [
        "def calc_var(list):\n",
        "    temp = [(x - calc_mean(list))**2 for x in list]\n",
        "    return calc_mean(temp)"
      ],
      "metadata": {
        "id": "0T89HfN_OVI2"
      },
      "execution_count": 43,
      "outputs": []
    },
    {
      "cell_type": "code",
      "source": [
        "calc_var(make_list(15,100,5))"
      ],
      "metadata": {
        "colab": {
          "base_uri": "https://localhost:8080/"
        },
        "id": "FE7QR-u0PO8e",
        "outputId": "01d77a48-6056-4845-e0ec-395c258bf66f"
      },
      "execution_count": 44,
      "outputs": [
        {
          "output_type": "stream",
          "name": "stdout",
          "text": [
            "[63, 56, 85, 37, 76]\n"
          ]
        },
        {
          "output_type": "execute_result",
          "data": {
            "text/plain": [
              "275.44"
            ]
          },
          "metadata": {},
          "execution_count": 44
        }
      ]
    }
  ]
}