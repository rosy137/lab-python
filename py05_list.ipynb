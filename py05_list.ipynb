{
  "nbformat": 4,
  "nbformat_minor": 0,
  "metadata": {
    "colab": {
      "provenance": [],
      "authorship_tag": "ABX9TyOclLhYPh5nMY/0vQtBLi7K",
      "include_colab_link": true
    },
    "kernelspec": {
      "name": "python3",
      "display_name": "Python 3"
    },
    "language_info": {
      "name": "python"
    }
  },
  "cells": [
    {
      "cell_type": "markdown",
      "metadata": {
        "id": "view-in-github",
        "colab_type": "text"
      },
      "source": [
        "<a href=\"https://colab.research.google.com/github/rosy137/lab-python/blob/main/py05_list.ipynb\" target=\"_parent\"><img src=\"https://colab.research.google.com/assets/colab-badge.svg\" alt=\"Open In Colab\"/></a>"
      ]
    },
    {
      "cell_type": "markdown",
      "source": [
        "#list(리스트)\n",
        "* 여러 개의 값들을 하나의 변수에 저장하기 위한 데이터 타입\n",
        "* element(원소, 요소): 리스트에 저장되는 각각의 값\n",
        "* index(인덱스): 리스트에서 원소가 저장된 위치\n",
        "    * 리스트의 인덱스는 **0**부터 시작\n",
        "    * 리스트의 마지막 인덱스는 (원소개수 - 1)\n",
        "* 리스트는 원소들을 추가, 변경, 삭제할 수 있음\n",
        "    * `tuple`과 다른 점!"
      ],
      "metadata": {
        "id": "62Rm0HvEhqLQ"
      }
    },
    {
      "cell_type": "code",
      "execution_count": null,
      "metadata": {
        "colab": {
          "base_uri": "https://localhost:8080/"
        },
        "id": "ipkKxbYEhfsc",
        "outputId": "a59dd5b5-177a-4114-c868-7440cabf34b1"
      },
      "outputs": [
        {
          "output_type": "execute_result",
          "data": {
            "text/plain": [
              "[1, 2, 3, 10, 20, 30]"
            ]
          },
          "metadata": {},
          "execution_count": 2
        }
      ],
      "source": [
        "#숫자들을 저장하는 리스트\n",
        "numbers = [1,2,3,10,20,30]"
      ]
    },
    {
      "cell_type": "markdown",
      "source": [
        "#인덱싱(indexing)\n",
        "인덱스를 사용해서 리스트의 원소를 참조하는 방법\n"
      ],
      "metadata": {
        "id": "_UgAOBhLnnR9"
      }
    },
    {
      "cell_type": "code",
      "source": [
        "numbers[0] # 리스트의 인덱스 0 위치 원소"
      ],
      "metadata": {
        "colab": {
          "base_uri": "https://localhost:8080/"
        },
        "id": "057V3We0nudt",
        "outputId": "f254717e-c952-449d-9f38-d994e9ec30e7"
      },
      "execution_count": null,
      "outputs": [
        {
          "output_type": "execute_result",
          "data": {
            "text/plain": [
              "1"
            ]
          },
          "metadata": {},
          "execution_count": 3
        }
      ]
    },
    {
      "cell_type": "code",
      "source": [
        "numbers[5] # 리스트의 인덱스 5 위치 원소"
      ],
      "metadata": {
        "colab": {
          "base_uri": "https://localhost:8080/"
        },
        "id": "SSwTTqqan9Pl",
        "outputId": "5ee99ad1-935c-4319-e1e3-b46552a9a5ca"
      },
      "execution_count": null,
      "outputs": [
        {
          "output_type": "execute_result",
          "data": {
            "text/plain": [
              "30"
            ]
          },
          "metadata": {},
          "execution_count": 4
        }
      ]
    },
    {
      "cell_type": "code",
      "source": [
        "numbers[-1] # 리스트에서 가장 마지막 원소"
      ],
      "metadata": {
        "colab": {
          "base_uri": "https://localhost:8080/"
        },
        "id": "jfNSlEveoeKE",
        "outputId": "a9c395d6-8898-42f5-f16f-731c76af8277"
      },
      "execution_count": null,
      "outputs": [
        {
          "output_type": "execute_result",
          "data": {
            "text/plain": [
              "30"
            ]
          },
          "metadata": {},
          "execution_count": 5
        }
      ]
    },
    {
      "cell_type": "markdown",
      "source": [
        "#slicing\n",
        "인덱스를 사용해서 리스트의 부분집합(리스트)를 잘라내는 방법.\n",
        "`list[start:end]`\n",
        "* start <= index < end 범위의 인덱스 위치의 원소들을 잘라냄.\n",
        "* start를 생략한 경우에는 첫번째 원소부터 잘라냄.\n",
        "    * `list[0:5]`과 `list[:5]`는 같은 결과.\n",
        "* end를 생략한 경우에는 마지막 원소까지 잘라냄.\n",
        "* 리스트를 slicing한 결과는 또다른 new **리스트**"
      ],
      "metadata": {
        "id": "75OJPMtzqNbc"
      }
    },
    {
      "cell_type": "code",
      "source": [
        "numbers[1:4]"
      ],
      "metadata": {
        "colab": {
          "base_uri": "https://localhost:8080/"
        },
        "id": "iYqj9eVDrs_M",
        "outputId": "db433a54-0558-4fa8-cdd6-6e1b8788b986"
      },
      "execution_count": null,
      "outputs": [
        {
          "output_type": "execute_result",
          "data": {
            "text/plain": [
              "[2, 3, 10]"
            ]
          },
          "metadata": {},
          "execution_count": 6
        }
      ]
    },
    {
      "cell_type": "code",
      "source": [
        "numbers[:3] # 리스트에서 앞에서 3개를 선택"
      ],
      "metadata": {
        "colab": {
          "base_uri": "https://localhost:8080/"
        },
        "id": "KLdlB1-ksxIj",
        "outputId": "94f3ad32-5b03-40db-dedc-0efbd8dea158"
      },
      "execution_count": null,
      "outputs": [
        {
          "output_type": "execute_result",
          "data": {
            "text/plain": [
              "[1, 2, 3]"
            ]
          },
          "metadata": {},
          "execution_count": 7
        }
      ]
    },
    {
      "cell_type": "code",
      "source": [
        "numbers[-3:] # 리스트에서 맨뒤에서 3개를 선택"
      ],
      "metadata": {
        "colab": {
          "base_uri": "https://localhost:8080/"
        },
        "id": "AgqxQiqDs05z",
        "outputId": "6db9c6cc-3ca6-4ed9-8fcf-737ee3f3ee24"
      },
      "execution_count": null,
      "outputs": [
        {
          "output_type": "execute_result",
          "data": {
            "text/plain": [
              "[10, 20, 30]"
            ]
          },
          "metadata": {},
          "execution_count": 9
        }
      ]
    },
    {
      "cell_type": "code",
      "source": [
        "numbers[0:1] # slicing -> list"
      ],
      "metadata": {
        "colab": {
          "base_uri": "https://localhost:8080/"
        },
        "id": "m_ZO6696uea9",
        "outputId": "1bc11f5a-a058-4bea-ab4d-cd31ae57fb9d"
      },
      "execution_count": null,
      "outputs": [
        {
          "output_type": "execute_result",
          "data": {
            "text/plain": [
              "[1]"
            ]
          },
          "metadata": {},
          "execution_count": 11
        }
      ]
    },
    {
      "cell_type": "code",
      "source": [
        "numbers[0] # indexing -> 값(숫자)"
      ],
      "metadata": {
        "colab": {
          "base_uri": "https://localhost:8080/"
        },
        "id": "OlJsv5svuk8s",
        "outputId": "b2d4f5c3-3d2a-4040-c2f4-aa0bed2544c3"
      },
      "execution_count": null,
      "outputs": [
        {
          "output_type": "execute_result",
          "data": {
            "text/plain": [
              "1"
            ]
          },
          "metadata": {},
          "execution_count": 10
        }
      ]
    },
    {
      "cell_type": "markdown",
      "source": [
        "# 문자열(str)\n",
        "* 문자들의 *리스트*\n",
        "* 문자열은 인덱스를 사용할 수 있음\n",
        "* indexing, slicing 가능.\n"
      ],
      "metadata": {
        "id": "2CewOhrWu9RK"
      }
    },
    {
      "cell_type": "code",
      "source": [
        "message = 'hello, everyone' # 15개의 문자들로 이루어진 리스트."
      ],
      "metadata": {
        "id": "JLiIj7ZAvjJL"
      },
      "execution_count": null,
      "outputs": []
    },
    {
      "cell_type": "code",
      "source": [
        "message[0] #문자열에서 첫번째 문자"
      ],
      "metadata": {
        "colab": {
          "base_uri": "https://localhost:8080/",
          "height": 35
        },
        "id": "75LI81H1vvfd",
        "outputId": "dd7f5d39-9152-4aeb-b471-9a1ab44d44d7"
      },
      "execution_count": null,
      "outputs": [
        {
          "output_type": "execute_result",
          "data": {
            "text/plain": [
              "'h'"
            ],
            "application/vnd.google.colaboratory.intrinsic+json": {
              "type": "string"
            }
          },
          "metadata": {},
          "execution_count": 15
        }
      ]
    },
    {
      "cell_type": "code",
      "source": [
        "message[-1] # 문자열에서 마지막 문자"
      ],
      "metadata": {
        "colab": {
          "base_uri": "https://localhost:8080/",
          "height": 35
        },
        "id": "NXkYlB0fv0xr",
        "outputId": "7ec19c1e-ef55-4dc8-b904-411295d5b5cc"
      },
      "execution_count": null,
      "outputs": [
        {
          "output_type": "execute_result",
          "data": {
            "text/plain": [
              "'e'"
            ],
            "application/vnd.google.colaboratory.intrinsic+json": {
              "type": "string"
            }
          },
          "metadata": {},
          "execution_count": 17
        }
      ]
    },
    {
      "cell_type": "code",
      "source": [
        "message[14]"
      ],
      "metadata": {
        "colab": {
          "base_uri": "https://localhost:8080/",
          "height": 35
        },
        "id": "xar7SJPZv8EK",
        "outputId": "f62e7e5d-e65f-4ca7-95d8-c010c8e2453d"
      },
      "execution_count": null,
      "outputs": [
        {
          "output_type": "execute_result",
          "data": {
            "text/plain": [
              "'e'"
            ],
            "application/vnd.google.colaboratory.intrinsic+json": {
              "type": "string"
            }
          },
          "metadata": {},
          "execution_count": 19
        }
      ]
    },
    {
      "cell_type": "code",
      "source": [
        "message[:3] # 문자열에서 앞에서 3글자"
      ],
      "metadata": {
        "colab": {
          "base_uri": "https://localhost:8080/",
          "height": 35
        },
        "id": "uWBEnxrdwOrR",
        "outputId": "ee4fb00b-4867-483f-ce7d-c444d970467f"
      },
      "execution_count": null,
      "outputs": [
        {
          "output_type": "execute_result",
          "data": {
            "text/plain": [
              "'hel'"
            ],
            "application/vnd.google.colaboratory.intrinsic+json": {
              "type": "string"
            }
          },
          "metadata": {},
          "execution_count": 21
        }
      ]
    },
    {
      "cell_type": "code",
      "source": [
        "message[-3:] # 문자열에서 뒤에서 3글자"
      ],
      "metadata": {
        "colab": {
          "base_uri": "https://localhost:8080/",
          "height": 35
        },
        "id": "dOg6K4x-wUNR",
        "outputId": "52b91591-9d6d-4e1b-a39a-3a746c679b29"
      },
      "execution_count": null,
      "outputs": [
        {
          "output_type": "execute_result",
          "data": {
            "text/plain": [
              "'one'"
            ],
            "application/vnd.google.colaboratory.intrinsic+json": {
              "type": "string"
            }
          },
          "metadata": {},
          "execution_count": 22
        }
      ]
    },
    {
      "cell_type": "code",
      "source": [
        "#문자열 산술 연산: +, *\n",
        "print('hello' + 'python')\n",
        "print('hello' * 3)"
      ],
      "metadata": {
        "colab": {
          "base_uri": "https://localhost:8080/"
        },
        "id": "XLjFC_gdwawj",
        "outputId": "f901f9ec-0910-4fcb-e9c7-21fe81291063"
      },
      "execution_count": null,
      "outputs": [
        {
          "output_type": "stream",
          "name": "stdout",
          "text": [
            "hellopython\n",
            "hellohellohello\n"
          ]
        }
      ]
    },
    {
      "cell_type": "markdown",
      "source": [
        "#리스트의 산술연산\n",
        "* list + list\n",
        "* list * int 또는 int * list"
      ],
      "metadata": {
        "id": "u3ZtiMLexXi6"
      }
    },
    {
      "cell_type": "code",
      "source": [
        "[1,2,3] + [4,5,6]"
      ],
      "metadata": {
        "colab": {
          "base_uri": "https://localhost:8080/"
        },
        "id": "3LcxwykfxgJc",
        "outputId": "a823406f-9a3b-4c16-b7ce-518ab4a64dc7"
      },
      "execution_count": null,
      "outputs": [
        {
          "output_type": "execute_result",
          "data": {
            "text/plain": [
              "[1, 2, 3, 4, 5, 6]"
            ]
          },
          "metadata": {},
          "execution_count": 25
        }
      ]
    },
    {
      "cell_type": "code",
      "source": [
        "[1,2,3] * 2"
      ],
      "metadata": {
        "colab": {
          "base_uri": "https://localhost:8080/"
        },
        "id": "oPdtkkY5xj5B",
        "outputId": "47a935f3-c5ab-4602-8a79-52059097d021"
      },
      "execution_count": null,
      "outputs": [
        {
          "output_type": "execute_result",
          "data": {
            "text/plain": [
              "[1, 2, 3, 1, 2, 3]"
            ]
          },
          "metadata": {},
          "execution_count": 26
        }
      ]
    },
    {
      "cell_type": "markdown",
      "source": [
        "#list와 for 반복문\n"
      ],
      "metadata": {
        "id": "PRFG5Ubg2BkJ"
      }
    },
    {
      "cell_type": "code",
      "source": [
        "for x in 'hello':\n",
        "    print(x)"
      ],
      "metadata": {
        "colab": {
          "base_uri": "https://localhost:8080/"
        },
        "id": "VZG-br452bTc",
        "outputId": "94d4ecac-4e79-40ae-d57d-2d8e7c46e3f3"
      },
      "execution_count": null,
      "outputs": [
        {
          "output_type": "stream",
          "name": "stdout",
          "text": [
            "h\n",
            "e\n",
            "l\n",
            "l\n",
            "o\n"
          ]
        }
      ]
    },
    {
      "cell_type": "code",
      "source": [
        "numbers=[1,10,5,100]\n",
        "for x in numbers:\n",
        "    print(x)"
      ],
      "metadata": {
        "colab": {
          "base_uri": "https://localhost:8080/"
        },
        "id": "GnlfjOHb2lio",
        "outputId": "eac3402a-0b84-442f-e7ce-3b53e29300c1"
      },
      "execution_count": null,
      "outputs": [
        {
          "output_type": "stream",
          "name": "stdout",
          "text": [
            "1\n",
            "10\n",
            "5\n",
            "100\n"
          ]
        }
      ]
    },
    {
      "cell_type": "code",
      "source": [
        "i =0\n",
        "while i<len(numbers):\n",
        "    print(numbers[i])\n",
        "    i += 1"
      ],
      "metadata": {
        "colab": {
          "base_uri": "https://localhost:8080/"
        },
        "id": "F4y5O8MZ3bpJ",
        "outputId": "404145e1-5a51-44bf-f632-d1057c9e2990"
      },
      "execution_count": null,
      "outputs": [
        {
          "output_type": "stream",
          "name": "stdout",
          "text": [
            "1\n",
            "10\n",
            "5\n",
            "100\n"
          ]
        }
      ]
    },
    {
      "cell_type": "code",
      "source": [
        "for x in range(len(numbers)):\n",
        "    print(f'{x}번째 인덱스 값 = {numbers[x]}')"
      ],
      "metadata": {
        "colab": {
          "base_uri": "https://localhost:8080/"
        },
        "id": "b5P4sKNi3nsH",
        "outputId": "cd8e370e-6dd4-49c6-bdf6-7c93f0051ea1"
      },
      "execution_count": null,
      "outputs": [
        {
          "output_type": "stream",
          "name": "stdout",
          "text": [
            "0번째 인덱스 값 = 1\n",
            "1번째 인덱스 값 = 10\n",
            "2번째 인덱스 값 = 5\n",
            "3번째 인덱스 값 = 100\n"
          ]
        }
      ]
    },
    {
      "cell_type": "code",
      "source": [
        "for i, v in enumerate(numbers):\n",
        "    print(i,':',v)"
      ],
      "metadata": {
        "colab": {
          "base_uri": "https://localhost:8080/"
        },
        "id": "DR826xeL4Tcp",
        "outputId": "a34968e5-27e8-4799-bf19-489294549a27"
      },
      "execution_count": null,
      "outputs": [
        {
          "output_type": "stream",
          "name": "stdout",
          "text": [
            "0 : 1\n",
            "1 : 10\n",
            "2 : 5\n",
            "3 : 100\n"
          ]
        }
      ]
    },
    {
      "cell_type": "code",
      "source": [
        "numbers1 = [1,2,3]\n",
        "numbers2 = [10,11,12]\n",
        "# numbers1과 numbers2의 같은 인덱스의 원소들끼리의 합을 원소로 갖는 리스트\n",
        "result = []\n",
        "\n",
        "for i in range(len(numbers1)):\n",
        "    result.append(numbers1[i]+ numbers2[i])\n",
        "print(result)"
      ],
      "metadata": {
        "colab": {
          "base_uri": "https://localhost:8080/"
        },
        "id": "NlXOZ7v35615",
        "outputId": "ab6f6b4d-09a0-4ced-8d24-c7e4dda0375c"
      },
      "execution_count": null,
      "outputs": [
        {
          "output_type": "stream",
          "name": "stdout",
          "text": [
            "[11, 13, 15]\n"
          ]
        }
      ]
    },
    {
      "cell_type": "code",
      "source": [
        "result = []\n",
        "for x,y in zip(numbers1, numbers2): # 지퍼\n",
        "    result.append(x+y)\n",
        "print(result)"
      ],
      "metadata": {
        "colab": {
          "base_uri": "https://localhost:8080/"
        },
        "id": "rvs2Eyf98lmt",
        "outputId": "10fbff0e-1471-46f0-c7e3-0e3da9085267"
      },
      "execution_count": null,
      "outputs": [
        {
          "output_type": "stream",
          "name": "stdout",
          "text": [
            "[11, 13, 15]\n"
          ]
        }
      ]
    },
    {
      "cell_type": "code",
      "source": [
        "import random #random 모듈 임포트"
      ],
      "metadata": {
        "id": "wm9OatRT-GHe"
      },
      "execution_count": 4,
      "outputs": []
    },
    {
      "cell_type": "code",
      "source": [
        "# random 모듈의 random() 함수 호출\n",
        "random.random() # [0,1) 범위(0 <= x <1)의 실수 난수를 리턴"
      ],
      "metadata": {
        "colab": {
          "base_uri": "https://localhost:8080/"
        },
        "id": "BFSVgMcp-LVU",
        "outputId": "7e64ebb8-2e43-4a87-c63b-be9bd9094dc7"
      },
      "execution_count": null,
      "outputs": [
        {
          "output_type": "execute_result",
          "data": {
            "text/plain": [
              "0.36564260067754784"
            ]
          },
          "metadata": {},
          "execution_count": 56
        }
      ]
    },
    {
      "cell_type": "code",
      "source": [
        "# random 모듈의 randrange() 함수를 호출\n",
        "random.randrange(3) # (0 <= 난수 < 3)\n",
        "random.randrange(1,11) # (1 <= 난수 < 11)"
      ],
      "metadata": {
        "colab": {
          "base_uri": "https://localhost:8080/"
        },
        "id": "2ks0DSp0_EE_",
        "outputId": "cfe2b249-cd40-487f-cf47-dc0be08ad2c9"
      },
      "execution_count": null,
      "outputs": [
        {
          "output_type": "execute_result",
          "data": {
            "text/plain": [
              "4"
            ]
          },
          "metadata": {},
          "execution_count": 62
        }
      ]
    },
    {
      "cell_type": "markdown",
      "source": [
        "##Ex 1.\n",
        "1. 빈 리스트를 생성.\n",
        "2. 1 이상 10 이하의 정수 난수 5개를 저장.\n",
        "3. 리스트의 모든 정수들의 합을 출력.\n",
        "4. 리스트의 모든 정수들의 평균을 출력."
      ],
      "metadata": {
        "id": "Smz2CUdOCTHl"
      }
    },
    {
      "cell_type": "code",
      "source": [
        "list = []\n",
        "for _ in range(5): # 사용하지 않을 변수는 _(underscore) 사용\n",
        "    list.append(random.randrange(1,11))\n",
        "print('list:',list)\n",
        "total = 0 # sum은 함수가 있으므로 변수 선언 하면 안됨.\n",
        "for _ in range(len(list)):\n",
        "    total += list[x]\n",
        "print('total:', total)\n",
        "avg = total / len(list)\n",
        "print('avg:', avg)"
      ],
      "metadata": {
        "colab": {
          "base_uri": "https://localhost:8080/"
        },
        "id": "KcQvq4RPCboF",
        "outputId": "407271f1-f60e-42df-f580-845b95408822"
      },
      "execution_count": 8,
      "outputs": [
        {
          "output_type": "stream",
          "name": "stdout",
          "text": [
            "list: [2, 9, 2, 7, 6]\n",
            "total: 26\n",
            "avg: 5.2\n"
          ]
        }
      ]
    },
    {
      "cell_type": "code",
      "source": [
        "#List comprehension\n",
        "numbers = [random.randrange(1, 11) for _ in range(5)]\n",
        "print('numbers:', numbers)\n",
        "\n",
        "total = 0 # 이하 동일"
      ],
      "metadata": {
        "colab": {
          "base_uri": "https://localhost:8080/"
        },
        "id": "yqQRoUpyvcc0",
        "outputId": "f6be25f1-80e3-4927-843b-48374050c775"
      },
      "execution_count": 38,
      "outputs": [
        {
          "output_type": "stream",
          "name": "stdout",
          "text": [
            "numbers: [6, 9, 10, 10, 9]\n"
          ]
        }
      ]
    },
    {
      "cell_type": "markdown",
      "source": [
        "##Ex 2.\n",
        "1. 빈 리스트(numbers)를 생성.\n",
        "2. 10 이상, 100 미만의 정수 난수 10개를 numbers에 저장.\n",
        "3. numbers에서 짝수들만 선택해서 evens 리스트를 만들고 출력.\n",
        "4. numbers에서 홀수들만 선택해서 odds 리스트를 만들고 출력."
      ],
      "metadata": {
        "id": "enup5tUEDhcu"
      }
    },
    {
      "cell_type": "code",
      "source": [
        "\n",
        "numbers=[]\n",
        "for x in range(10):\n",
        "    numbers.append(random.randrange(10, 100))\n",
        "print('numbers:', numbers)\n",
        "evens = []\n",
        "odds = []\n",
        "for i in range(len(numbers)):\n",
        "    if numbers[i] % 2 == 0:\n",
        "        evens.append(numbers[i])\n",
        "    else:\n",
        "        odds.append(numbers[i])\n",
        "print('evens:', evens)\n",
        "print('odds:', odds)"
      ],
      "metadata": {
        "colab": {
          "base_uri": "https://localhost:8080/"
        },
        "id": "RElZhkuhDnjb",
        "outputId": "b3c42830-e5e9-49c2-bb97-6c9e0fcfda5f"
      },
      "execution_count": null,
      "outputs": [
        {
          "output_type": "stream",
          "name": "stdout",
          "text": [
            "numbers: [13, 56, 94, 95, 48, 88, 11, 85, 29, 40]\n",
            "evens: [56, 94, 48, 88, 40]\n",
            "odds: [13, 95, 11, 85, 29]\n"
          ]
        }
      ]
    },
    {
      "cell_type": "code",
      "source": [
        "#List comprehension\n",
        "numbers=[random.randrange(10,100) for _ in range(10)]\n",
        "print('numbers:', numbers)\n",
        "evens = [x for x in numbers if x % 2 == 0]\n",
        "odds = [x for x in numbers if x % 2]\n",
        "print('evens:', evens)\n",
        "print('odds:', odds)"
      ],
      "metadata": {
        "colab": {
          "base_uri": "https://localhost:8080/"
        },
        "id": "Q7mUUV0bv0RM",
        "outputId": "a68eed1b-2cec-44ef-aff6-f4dd3bfe4587"
      },
      "execution_count": 25,
      "outputs": [
        {
          "output_type": "stream",
          "name": "stdout",
          "text": [
            "[26, 46, 87, 62, 99, 20, 10, 70, 85, 89]\n",
            "[26, 46, 62, 20, 10, 70]\n",
            "[87, 99, 85, 89]\n"
          ]
        }
      ]
    },
    {
      "cell_type": "markdown",
      "source": [
        "##Ex 3.\n",
        "1. 빈 리스트 numbers를 만듦.\n",
        "2. -10 이상 10 이하인 범위의 정수 난수 10개를 numbers에 저장.\n",
        "3. numbers의 원소가 양수이면 True, 그렇지 않으면 False를 저장하는 is_positive 리스트를 만들고 출력."
      ],
      "metadata": {
        "id": "4_Ye8i5UEq3c"
      }
    },
    {
      "cell_type": "code",
      "source": [
        "numbers = []\n",
        "for x in range(10):\n",
        "    numbers.append(random.randrange(-10, 11))\n",
        "print('numbers:',numbers)\n",
        "is_positive=[]\n",
        "for i in range(len(numbers)):\n",
        "    if numbers[i] > 0:\n",
        "        is_positive.append('True')\n",
        "    elif numbers[i] == 0:\n",
        "        is_positive.append('0')\n",
        "    else:\n",
        "        is_positive.append('False')\n",
        "print('is_positive:', is_positive)"
      ],
      "metadata": {
        "colab": {
          "base_uri": "https://localhost:8080/"
        },
        "id": "D2sBXCFYE0zr",
        "outputId": "98a93fb2-b217-46dc-89e2-cec3a4fd1213"
      },
      "execution_count": null,
      "outputs": [
        {
          "output_type": "stream",
          "name": "stdout",
          "text": [
            "numbers: [-2, -3, -6, 4, -8, 8, -5, -10, -10, 0]\n",
            "is_positive: ['False', 'False', 'False', 'True', 'False', 'True', 'False', 'False', 'False', '0']\n"
          ]
        }
      ]
    },
    {
      "cell_type": "code",
      "source": [
        "#List comprehension 삼항연산자\n",
        "numbers = [random.randrange(-10,11) for _ in range(10)]\n",
        "print('numbers:', numbers)\n",
        "is_positive = [True if x > 0 else False for x in numbers]\n",
        "print('is_positive:', is_positive)"
      ],
      "metadata": {
        "colab": {
          "base_uri": "https://localhost:8080/"
        },
        "id": "scHN8Zyxw4Mz",
        "outputId": "3cb7bb44-03d0-4613-d8c8-1d46841d1f82"
      },
      "execution_count": 39,
      "outputs": [
        {
          "output_type": "stream",
          "name": "stdout",
          "text": [
            "numbers: [-9, 7, -7, 4, 0, -10, 2, 10, -5, -7]\n",
            "is_positive: [False, True, False, True, False, False, True, True, False, False]\n"
          ]
        }
      ]
    },
    {
      "cell_type": "markdown",
      "source": [
        "##Ex 4.\n",
        "1. gender_codes 리스트에 0 또는 1을 랜덤하게 10개를 저장.\n",
        "2. gender_codes의 값이 0이면 'Male', 그렇지 않으며 'Female'을 저장하는 genders 리스트를 만들고 출력."
      ],
      "metadata": {
        "id": "cLqdrSLjGC_7"
      }
    },
    {
      "cell_type": "code",
      "source": [
        "gender_codes = []\n",
        "for x in range(10):\n",
        "    gender_codes.append(random.randrange(2))\n",
        "print('gender_codes:', gender_codes)\n",
        "genders=[]\n",
        "for i in range(len(gender_codes)):\n",
        "    if gender_codes[i] == 0:\n",
        "        genders.append('Male')\n",
        "    else:\n",
        "        genders.append('Female')\n",
        "print('genders:', genders)"
      ],
      "metadata": {
        "colab": {
          "base_uri": "https://localhost:8080/"
        },
        "id": "y1yuXzLoGGJk",
        "outputId": "146653ff-8b61-45ee-b56d-dfc1fc492b25"
      },
      "execution_count": null,
      "outputs": [
        {
          "output_type": "stream",
          "name": "stdout",
          "text": [
            "gender_codes: [1, 0, 1, 0, 0, 0, 0, 0, 1, 1]\n",
            "genders: ['Female', 'Male', 'Female', 'Male', 'Male', 'Male', 'Male', 'Male', 'Female', 'Female']\n"
          ]
        }
      ]
    },
    {
      "cell_type": "code",
      "source": [
        "#List comprehension\n",
        "gender_codes = [random.randrange(2) for _ in range(10)]\n",
        "print('gender_codes:', gender_codes)\n",
        "genders = ['Female' if x == 1 else 'Male' for x in gender_codes]\n",
        "print('genders:', genders)"
      ],
      "metadata": {
        "colab": {
          "base_uri": "https://localhost:8080/"
        },
        "id": "nCnjQ1QvyL0F",
        "outputId": "dad5b77e-521f-477f-83cd-2c53745d6f1d"
      },
      "execution_count": 30,
      "outputs": [
        {
          "output_type": "stream",
          "name": "stdout",
          "text": [
            "[1, 1, 0, 0, 0, 0, 0, 0, 0, 0]\n",
            "['Female', 'Female', 'Male', 'Male', 'Male', 'Male', 'Male', 'Male', 'Male', 'Male']\n"
          ]
        }
      ]
    },
    {
      "cell_type": "code",
      "source": [
        "# 삼항 연산자 조건 여러개\n",
        "gender_codes = [1,2,1,2,3]\n",
        "# 1 -> M 2 -> F 3 -> unknown\n",
        "genders = ['M' if x == 1 else 'F' if x == 2 else 'unknown' for x in gender_codes]\n",
        "print('genders: ', genders)"
      ],
      "metadata": {
        "colab": {
          "base_uri": "https://localhost:8080/"
        },
        "id": "nmyM7G2bA612",
        "outputId": "4eaf5686-7153-4657-b218-b6be83d2343b"
      },
      "execution_count": 41,
      "outputs": [
        {
          "output_type": "stream",
          "name": "stdout",
          "text": [
            "genders:  ['M', 'F', 'M', 'F', 'unknwon']\n"
          ]
        }
      ]
    },
    {
      "cell_type": "markdown",
      "source": [
        "##Ex 5.\n",
        "1. numbers1: 100 미만의 정수 난수 10개를 저장하는 리스트.\n",
        "2. numbers2: 100 미만의 정수 난수 10개를 저장하는 리스트.\n",
        "3. multiplication: numbers1과 numbers2의 같은 인덱스에 있는 원소들끼리의 곱셈 결과를 저장하는 리스트.\n",
        "4. subtraction: numbers1의 원소에서 같은 인덱스에 있는 numbers2의 원소를 뺀 값을 저장하는 리스트.\n",
        "5. numbers1, numbers2, multiplication, subtraction를 출력."
      ],
      "metadata": {
        "id": "0CBFO8VAGzVc"
      }
    },
    {
      "cell_type": "code",
      "source": [
        "numbers1 = []\n",
        "numbers2 = []\n",
        "for x in range(10):\n",
        "    numbers1.append(random.randrange(100))\n",
        "    numbers2.append(random.randrange(100))\n",
        "print('numbers1:', numbers1)\n",
        "print('numbers2:', numbers2)\n",
        "multiplication = []\n",
        "subtraction = []\n",
        "for x,y in zip(numbers1, numbers2):\n",
        "    multiplication.append(x*y)\n",
        "    subtraction.append(x-y)\n",
        "print('multiplication:', multiplication)\n",
        "print('subtraction:', subtraction)"
      ],
      "metadata": {
        "colab": {
          "base_uri": "https://localhost:8080/"
        },
        "id": "mT-cj24wG5OD",
        "outputId": "34326bbc-ac50-4899-f690-6657f6d85afe"
      },
      "execution_count": null,
      "outputs": [
        {
          "output_type": "stream",
          "name": "stdout",
          "text": [
            "numbers1: [85, 80, 29, 79, 4, 23, 71, 1, 91, 50]\n",
            "numbers2: [28, 65, 25, 61, 85, 73, 18, 53, 77, 36]\n",
            "multiplication: [2380, 5200, 725, 4819, 340, 1679, 1278, 53, 7007, 1800]\n",
            "subtraction: [57, 15, 4, 18, -81, -50, 53, -52, 14, 14]\n"
          ]
        }
      ]
    },
    {
      "cell_type": "code",
      "source": [
        "#List comprehension\n",
        "numbers1 = [random.randrange(100) for _ in range(10)]\n",
        "numbers2 = [random.randrange(100) for _ in range(10)]\n",
        "print('numbers1:', numbers1)\n",
        "print('numbers2:', numbers2)\n",
        "multiplication = [x*y for x,y in zip(numbers1,numbers2)]\n",
        "subtraction = [x-y for x,y in zip(numbers1,numbers2)]\n",
        "print('multiplication:', multiplication)\n",
        "print('subtraction:', subtraction)"
      ],
      "metadata": {
        "colab": {
          "base_uri": "https://localhost:8080/"
        },
        "id": "UkqZgLbtyma7",
        "outputId": "224f4790-79c5-40b4-faaf-6a1519b6f695"
      },
      "execution_count": 31,
      "outputs": [
        {
          "output_type": "stream",
          "name": "stdout",
          "text": [
            "numbers1: [48, 18, 82, 9, 90, 47, 67, 3, 95, 90]\n",
            "numbers2: [67, 1, 46, 5, 86, 69, 5, 62, 96, 63]\n",
            "multiplication: [3216, 18, 3772, 45, 7740, 3243, 335, 186, 9120, 5670]\n",
            "subtraction: [-19, 17, 36, 4, 4, -22, 62, -59, -1, 27]\n"
          ]
        }
      ]
    },
    {
      "cell_type": "markdown",
      "source": [
        "#List comprehension(리스트 내포)\n",
        "1 ~ 10 정수들을 순서대로 리스트에 저장: `[1,2,3,...9,10]`\n"
      ],
      "metadata": {
        "id": "70MPCQLSsdBl"
      }
    },
    {
      "cell_type": "code",
      "source": [
        "numbers=[]\n",
        "for x in range(1,11):\n",
        "    numbers.append(x)\n",
        "numbers"
      ],
      "metadata": {
        "colab": {
          "base_uri": "https://localhost:8080/"
        },
        "id": "AbNzla2bs8A1",
        "outputId": "185665e7-7bd0-4e52-e8d8-b24c10ebf46f"
      },
      "execution_count": 14,
      "outputs": [
        {
          "output_type": "execute_result",
          "data": {
            "text/plain": [
              "[1, 2, 3, 4, 5, 6, 7, 8, 9, 10]"
            ]
          },
          "metadata": {},
          "execution_count": 14
        }
      ]
    },
    {
      "cell_type": "code",
      "source": [
        "numbers=[x for x in range(1,11)]\n",
        "numbers"
      ],
      "metadata": {
        "colab": {
          "base_uri": "https://localhost:8080/"
        },
        "id": "gJuM0YUotZOf",
        "outputId": "bcb31e97-c3c3-4c96-b09b-87b65df1ef54"
      },
      "execution_count": 16,
      "outputs": [
        {
          "output_type": "execute_result",
          "data": {
            "text/plain": [
              "[1, 2, 3, 4, 5, 6, 7, 8, 9, 10]"
            ]
          },
          "metadata": {},
          "execution_count": 16
        }
      ]
    },
    {
      "cell_type": "code",
      "source": [
        "#[1, 4, 9, 16, ..., 81, 100]\n",
        "squares=[x**2 for x in range(1,11)]\n",
        "squares"
      ],
      "metadata": {
        "colab": {
          "base_uri": "https://localhost:8080/"
        },
        "id": "gc9h30q-t4cm",
        "outputId": "6240e518-ccb2-46b6-e907-47b75bff77ae"
      },
      "execution_count": 17,
      "outputs": [
        {
          "output_type": "execute_result",
          "data": {
            "text/plain": [
              "[1, 4, 9, 16, 25, 36, 49, 64, 81, 100]"
            ]
          },
          "metadata": {},
          "execution_count": 17
        }
      ]
    },
    {
      "cell_type": "code",
      "source": [
        "#난수 10개를 저장하는 리스트 범위는 0 이상 10미만\n",
        "numbers = [random.randrange(10) for _ in range(10) ]\n",
        "numbers"
      ],
      "metadata": {
        "colab": {
          "base_uri": "https://localhost:8080/"
        },
        "id": "JsnlxMvruuD2",
        "outputId": "dc23b65f-9925-4c31-f61d-82996b7de943"
      },
      "execution_count": 18,
      "outputs": [
        {
          "output_type": "execute_result",
          "data": {
            "text/plain": [
              "[8, 4, 9, 7, 3, 5, 6, 1, 0, 5]"
            ]
          },
          "metadata": {},
          "execution_count": 18
        }
      ]
    }
  ]
}