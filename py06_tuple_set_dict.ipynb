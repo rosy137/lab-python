{
  "nbformat": 4,
  "nbformat_minor": 0,
  "metadata": {
    "colab": {
      "provenance": [],
      "authorship_tag": "ABX9TyONhy3rvBBrz9Wj16EvCfIP",
      "include_colab_link": true
    },
    "kernelspec": {
      "name": "python3",
      "display_name": "Python 3"
    },
    "language_info": {
      "name": "python"
    }
  },
  "cells": [
    {
      "cell_type": "markdown",
      "metadata": {
        "id": "view-in-github",
        "colab_type": "text"
      },
      "source": [
        "<a href=\"https://colab.research.google.com/github/rosy137/lab-python/blob/main/py06_tuple_set_dict.ipynb\" target=\"_parent\"><img src=\"https://colab.research.google.com/assets/colab-badge.svg\" alt=\"Open In Colab\"/></a>"
      ]
    },
    {
      "cell_type": "markdown",
      "source": [
        "#Tuple(튜플)\n",
        "* 하나의 변수에 여러 개의 값을 저장하기 위한 자료 타입.\n",
        "* 저장된 원소(아이템)들을 변경할 수 없는 리스트\n",
        "    * `append()`, `remove()`와 같은 원소를 변경하는 메서드(기능)은 제공하지 않음.\n",
        "* 인덱스 기반 자료 타입\n",
        "    * indexing, slicing\n",
        "    * 음수 인덱스도 사용 가능"
      ],
      "metadata": {
        "id": "aM9BSvS0WveE"
      }
    },
    {
      "cell_type": "code",
      "source": [
        "# 숫자들을 저장하는 튜플\n",
        "numbers = (1,2,10,20,100,200)\n",
        "numbers"
      ],
      "metadata": {
        "colab": {
          "base_uri": "https://localhost:8080/"
        },
        "id": "ManL1RT8X585",
        "outputId": "6895d2f4-572b-4e85-92be-22e95b297e0b"
      },
      "execution_count": 3,
      "outputs": [
        {
          "output_type": "execute_result",
          "data": {
            "text/plain": [
              "(1, 2, 10, 20, 100, 200)"
            ]
          },
          "metadata": {},
          "execution_count": 3
        }
      ]
    },
    {
      "cell_type": "code",
      "source": [
        "type(numbers)"
      ],
      "metadata": {
        "colab": {
          "base_uri": "https://localhost:8080/"
        },
        "id": "TxsX-7CoYPj5",
        "outputId": "d1a4d972-2f60-4f31-c99d-ba31cf306dc2"
      },
      "execution_count": 5,
      "outputs": [
        {
          "output_type": "execute_result",
          "data": {
            "text/plain": [
              "tuple"
            ]
          },
          "metadata": {},
          "execution_count": 5
        }
      ]
    },
    {
      "cell_type": "code",
      "source": [
        "numbers.count(1) # 괄호 안의 값이 튜플 안에 몇 개"
      ],
      "metadata": {
        "colab": {
          "base_uri": "https://localhost:8080/"
        },
        "id": "FIDtKg9xYXEo",
        "outputId": "b2962909-fd0d-4d5e-90b2-d11f57fcafe1"
      },
      "execution_count": 8,
      "outputs": [
        {
          "output_type": "execute_result",
          "data": {
            "text/plain": [
              "1"
            ]
          },
          "metadata": {},
          "execution_count": 8
        }
      ]
    },
    {
      "cell_type": "markdown",
      "source": [
        "indexing: 인덱스를 사용해서 원소 1개를 참조하는 방법"
      ],
      "metadata": {
        "id": "suh1YP8RYznB"
      }
    },
    {
      "cell_type": "code",
      "source": [
        "numbers[0] # 튜플의 첫번째 원소"
      ],
      "metadata": {
        "colab": {
          "base_uri": "https://localhost:8080/"
        },
        "id": "a6GFDEPcYyso",
        "outputId": "3b5a8b99-2e45-4b87-fc5f-5fbfe4c8ae92"
      },
      "execution_count": 9,
      "outputs": [
        {
          "output_type": "execute_result",
          "data": {
            "text/plain": [
              "1"
            ]
          },
          "metadata": {},
          "execution_count": 9
        }
      ]
    },
    {
      "cell_type": "code",
      "source": [
        "numbers[-1] # 튜플의 마지막 원소"
      ],
      "metadata": {
        "colab": {
          "base_uri": "https://localhost:8080/"
        },
        "id": "oYxFZmMBZAkp",
        "outputId": "828d72c8-0392-4369-8ce6-d084ff8b058e"
      },
      "execution_count": 11,
      "outputs": [
        {
          "output_type": "execute_result",
          "data": {
            "text/plain": [
              "200"
            ]
          },
          "metadata": {},
          "execution_count": 11
        }
      ]
    },
    {
      "cell_type": "code",
      "source": [],
      "metadata": {
        "id": "n11iHzoYZMqo"
      },
      "execution_count": null,
      "outputs": []
    },
    {
      "cell_type": "markdown",
      "source": [
        "slicing: 자르기, 부분집합"
      ],
      "metadata": {
        "id": "IVTLsl-aZS_x"
      }
    },
    {
      "cell_type": "code",
      "source": [
        "# 튜플에서 첫 3개의 원소들을 잘라내기\n",
        "numbers[:3]"
      ],
      "metadata": {
        "colab": {
          "base_uri": "https://localhost:8080/"
        },
        "id": "tJ2DaT3NZV_x",
        "outputId": "33c9fb8a-98cc-4d31-a7fd-c9d1b5c2a5e2"
      },
      "execution_count": 13,
      "outputs": [
        {
          "output_type": "execute_result",
          "data": {
            "text/plain": [
              "(1, 2, 10)"
            ]
          },
          "metadata": {},
          "execution_count": 13
        }
      ]
    },
    {
      "cell_type": "code",
      "source": [
        "numbers[-3:] # 튜플에서 마지막 3개의 원소들을 잘라내기"
      ],
      "metadata": {
        "colab": {
          "base_uri": "https://localhost:8080/"
        },
        "id": "_sN8Puy6Zxwg",
        "outputId": "c8cae9e9-8804-4621-9a1a-ec8ab45b65c2"
      },
      "execution_count": 14,
      "outputs": [
        {
          "output_type": "execute_result",
          "data": {
            "text/plain": [
              "(20, 100, 200)"
            ]
          },
          "metadata": {},
          "execution_count": 14
        }
      ]
    },
    {
      "cell_type": "markdown",
      "source": [
        "##decomposition(분해)"
      ],
      "metadata": {
        "id": "ptrWstegaE0Y"
      }
    },
    {
      "cell_type": "code",
      "source": [
        "odds = (1, 3, 5)\n",
        "a = odds[0]\n",
        "b = odds[1]\n",
        "c = odds[2]\n",
        "print(a,b,c)"
      ],
      "metadata": {
        "colab": {
          "base_uri": "https://localhost:8080/"
        },
        "id": "Yv-vNW2gZ3K5",
        "outputId": "8354a9e1-f72e-4b13-b7ae-4a903b087c7a"
      },
      "execution_count": 16,
      "outputs": [
        {
          "output_type": "stream",
          "name": "stdout",
          "text": [
            "1 3 5\n"
          ]
        }
      ]
    },
    {
      "cell_type": "code",
      "source": [
        "x, y, z = (1,3, 5) # decomposition\n",
        "print(x, y, z)"
      ],
      "metadata": {
        "colab": {
          "base_uri": "https://localhost:8080/"
        },
        "id": "IsQo_UmYaWvg",
        "outputId": "0b429a11-5db5-47ad-d217-760c80052568"
      },
      "execution_count": 19,
      "outputs": [
        {
          "output_type": "stream",
          "name": "stdout",
          "text": [
            "1 3 5\n"
          ]
        }
      ]
    },
    {
      "cell_type": "markdown",
      "source": [
        "## tuple & for"
      ],
      "metadata": {
        "id": "m-Erag6bbM2Q"
      }
    },
    {
      "cell_type": "code",
      "source": [
        "for x in odds:\n",
        "    print(x)"
      ],
      "metadata": {
        "colab": {
          "base_uri": "https://localhost:8080/"
        },
        "id": "UWk0z5GEal83",
        "outputId": "efdfb306-f095-4212-dc37-975c5fc95e03"
      },
      "execution_count": 20,
      "outputs": [
        {
          "output_type": "stream",
          "name": "stdout",
          "text": [
            "1\n",
            "3\n",
            "5\n"
          ]
        }
      ]
    },
    {
      "cell_type": "markdown",
      "source": [
        "#2차원 리스트/튜플"
      ],
      "metadata": {
        "id": "lKhYzea7cFf4"
      }
    },
    {
      "cell_type": "code",
      "source": [
        "numbers = [[1,2,3],[4,5,6]]\n",
        "numbers"
      ],
      "metadata": {
        "colab": {
          "base_uri": "https://localhost:8080/"
        },
        "id": "x1FtCmCScLyQ",
        "outputId": "c539961b-cea3-4a07-b49a-40f88fa2a56e"
      },
      "execution_count": 21,
      "outputs": [
        {
          "output_type": "execute_result",
          "data": {
            "text/plain": [
              "[[1, 2, 3], [4, 5, 6]]"
            ]
          },
          "metadata": {},
          "execution_count": 21
        }
      ]
    },
    {
      "cell_type": "code",
      "source": [
        "len(numbers) # 2차원 리스트 numbers의 원소 개수"
      ],
      "metadata": {
        "colab": {
          "base_uri": "https://localhost:8080/"
        },
        "id": "0Osvk7yHdHYv",
        "outputId": "fd5ebe77-687e-4029-e9fa-519fa427ca31"
      },
      "execution_count": 22,
      "outputs": [
        {
          "output_type": "execute_result",
          "data": {
            "text/plain": [
              "2"
            ]
          },
          "metadata": {},
          "execution_count": 22
        }
      ]
    },
    {
      "cell_type": "code",
      "source": [
        "numbers[0]"
      ],
      "metadata": {
        "colab": {
          "base_uri": "https://localhost:8080/"
        },
        "id": "oaiqWBUqdNJ_",
        "outputId": "9cab36dd-d4b7-4508-d3e9-9455428cb5d5"
      },
      "execution_count": 24,
      "outputs": [
        {
          "output_type": "execute_result",
          "data": {
            "text/plain": [
              "[1, 2, 3]"
            ]
          },
          "metadata": {},
          "execution_count": 24
        }
      ]
    },
    {
      "cell_type": "code",
      "source": [
        "numbers[0][0]"
      ],
      "metadata": {
        "colab": {
          "base_uri": "https://localhost:8080/"
        },
        "id": "tT7DWi9VdfCO",
        "outputId": "867a49eb-f2fa-45e5-8e7a-21f2ab153129"
      },
      "execution_count": 25,
      "outputs": [
        {
          "output_type": "execute_result",
          "data": {
            "text/plain": [
              "1"
            ]
          },
          "metadata": {},
          "execution_count": 25
        }
      ]
    },
    {
      "cell_type": "markdown",
      "source": [
        "Ex\n",
        "1. 2 * 2 모양의 [0, 10) 범위의 정수 난수들을 저장하는 2차원 리스트 array1.\n",
        "1. 2 * 2 모양의 [0, 10) 범위의 정수 난수들을 저장하는 2차원 리스트 array2.\n",
        "1. array1 과 array2의 같은 인덱스의 원소들끼리 덧셈 결과를 저장하는 2차원 리스트 add를 만들고 출력."
      ],
      "metadata": {
        "id": "k92L_Gfgd4ZP"
      }
    },
    {
      "cell_type": "code",
      "source": [
        "import random"
      ],
      "metadata": {
        "id": "c7em4HxLezOW"
      },
      "execution_count": 26,
      "outputs": []
    },
    {
      "cell_type": "code",
      "source": [
        "# 내가 푼 것\n",
        "array1 = [[random.randrange(10) for _ in range(2)],[random.randrange(10) for _ in range(2)]]\n",
        "array2 = [[random.randrange(10) for _ in range(2)],[random.randrange(10) for _ in range(2)]]\n",
        "add = [[x+y for x,y in zip(array1[0], array2[0])],[x+y for x,y in zip(array1[1], array2[1])]]\n",
        "print('array1:', array1)\n",
        "print('array2:', array2)\n",
        "print('add:', add)"
      ],
      "metadata": {
        "colab": {
          "base_uri": "https://localhost:8080/"
        },
        "id": "0M6iyKOmeDYf",
        "outputId": "060a25c2-9b3e-4022-f50b-93ce9485c193"
      },
      "execution_count": 28,
      "outputs": [
        {
          "output_type": "stream",
          "name": "stdout",
          "text": [
            "array1: [[7, 8], [3, 9]]\n",
            "array2: [[4, 7], [8, 1]]\n",
            "add: [[11, 15], [11, 10]]\n"
          ]
        }
      ]
    },
    {
      "cell_type": "code",
      "source": [
        "# 답\n",
        "array1 = [[random.randrange(10) for _ in range(2)] for _ in range(2)]\n",
        "array2 = [[random.randrange(10) for _ in range(2)] for _ in range(2)]\n",
        "add = [[x+y for x,y in zip(row1, row2)] for row1, row2 in zip(array1, array2)]\n",
        "print('array1:', array1)\n",
        "print('array2:', array2)\n",
        "print('add:', add)"
      ],
      "metadata": {
        "colab": {
          "base_uri": "https://localhost:8080/"
        },
        "id": "O9AsrQmkpph7",
        "outputId": "f2888b76-fa1e-4ed5-824e-15aabcd1e111"
      },
      "execution_count": 37,
      "outputs": [
        {
          "output_type": "stream",
          "name": "stdout",
          "text": [
            "array1: [[8, 1], [1, 1]]\n",
            "array2: [[6, 6], [1, 6]]\n",
            "add: [[14, 7], [2, 7]]\n"
          ]
        }
      ]
    },
    {
      "cell_type": "code",
      "source": [
        "array1= []\n",
        "for _ in range(2):\n",
        "    row = []\n",
        "    for _ in range(2):\n",
        "        row.append(random.randrange(10))\n",
        "    array1.append(row)\n",
        "print('array1:', array1)\n",
        "\n",
        "array2 = [[random.randrange(10) for _ in range(2)] for _ in range(2)] # 리스트 하나 식 만들고 그 식 반복 range(2)\n",
        "print('array2:', array2)\n",
        "\n",
        "add = []\n",
        "for row1, row2 in zip(array1, array2):\n",
        "    #print(row1,row2)\n",
        "    temp = [] # 덧셈 결과를 저장하기 위한 빈 배열\n",
        "    for x,y in zip(row1, row2):\n",
        "        temp.append(x+y)\n",
        "    add.append(temp)\n",
        "print('add:', add)\n",
        "\n",
        "add = [[x+y for x,y in zip(row1,row2)] for row1, row2 in zip(array1, array2)]\n",
        "print('add:', add)"
      ],
      "metadata": {
        "colab": {
          "base_uri": "https://localhost:8080/"
        },
        "id": "t5rcRNWkfdkW",
        "outputId": "7c1a5fc5-a873-4f46-ab40-a00424016985"
      },
      "execution_count": 35,
      "outputs": [
        {
          "output_type": "stream",
          "name": "stdout",
          "text": [
            "array1: [[4, 4], [7, 3]]\n",
            "array2: [[0, 6], [5, 4]]\n",
            "add: [[4, 10], [12, 7]]\n"
          ]
        }
      ]
    },
    {
      "cell_type": "markdown",
      "source": [
        "#Set(집합)\n",
        "* 중복된 데이터를 허용하지 않음: `{1,2,2,3,3} = {1,2,3}`\n",
        "* 인덱스 기반의 자료 구조가 아님. 인덱스가 없음\n",
        "    * 데이터의 저장 순서가 중요하지 않음: `{1,2,3} = {3,1,2}`\n",
        "    * indexing, slicing 기능을 제공하지 않음.\n",
        "    * for-in 구문에서 사용할 수 있는 iterable 타입"
      ],
      "metadata": {
        "id": "qSe6NSYZqWrz"
      }
    },
    {
      "cell_type": "code",
      "source": [
        "s = {1,2,2,3,3}\n",
        "s"
      ],
      "metadata": {
        "colab": {
          "base_uri": "https://localhost:8080/"
        },
        "id": "jIEorW0DrcJD",
        "outputId": "34153cdf-08f1-489b-8a47-348c9db3d49c"
      },
      "execution_count": 38,
      "outputs": [
        {
          "output_type": "execute_result",
          "data": {
            "text/plain": [
              "{1, 2, 3}"
            ]
          },
          "metadata": {},
          "execution_count": 38
        }
      ]
    },
    {
      "cell_type": "code",
      "source": [],
      "metadata": {
        "id": "vF2aHmqBrgXU"
      },
      "execution_count": null,
      "outputs": []
    },
    {
      "cell_type": "markdown",
      "source": [
        "##set의 기능(메서드)"
      ],
      "metadata": {
        "id": "BkHsBRF-rx0S"
      }
    },
    {
      "cell_type": "code",
      "source": [
        "s.add(5)\n",
        "s"
      ],
      "metadata": {
        "colab": {
          "base_uri": "https://localhost:8080/"
        },
        "id": "wFN4OLLGr2Cq",
        "outputId": "6f18212c-ddcc-4206-b61b-04f3e0b9ec4d"
      },
      "execution_count": 39,
      "outputs": [
        {
          "output_type": "execute_result",
          "data": {
            "text/plain": [
              "{1, 2, 3, 5}"
            ]
          },
          "metadata": {},
          "execution_count": 39
        }
      ]
    },
    {
      "cell_type": "code",
      "source": [
        "s.remove(3)\n",
        "s"
      ],
      "metadata": {
        "colab": {
          "base_uri": "https://localhost:8080/"
        },
        "id": "7RwvFKlwsNIp",
        "outputId": "7344c2ed-16da-4ebe-dba9-89c127c70ff2"
      },
      "execution_count": 40,
      "outputs": [
        {
          "output_type": "execute_result",
          "data": {
            "text/plain": [
              "{1, 2, 5}"
            ]
          },
          "metadata": {},
          "execution_count": 40
        }
      ]
    },
    {
      "cell_type": "code",
      "source": [
        "s.pop() # 임의 삭제\n",
        "s"
      ],
      "metadata": {
        "colab": {
          "base_uri": "https://localhost:8080/"
        },
        "id": "ZQonHVyYsj5x",
        "outputId": "0247bc8b-e095-4fb9-f0af-1604abdbcbb3"
      },
      "execution_count": 43,
      "outputs": [
        {
          "output_type": "execute_result",
          "data": {
            "text/plain": [
              "{2, 5}"
            ]
          },
          "metadata": {},
          "execution_count": 43
        }
      ]
    },
    {
      "cell_type": "code",
      "source": [
        "s1 = {1,2,3,4}\n",
        "s2 = {2,3,5,6}"
      ],
      "metadata": {
        "id": "VL7ZYlBuspY5"
      },
      "execution_count": 44,
      "outputs": []
    },
    {
      "cell_type": "code",
      "source": [
        "s1.union(s2) # 합집합"
      ],
      "metadata": {
        "colab": {
          "base_uri": "https://localhost:8080/"
        },
        "id": "KaTp-iwKth5h",
        "outputId": "72b7f086-730f-4732-fb90-d1ab6c731d81"
      },
      "execution_count": 45,
      "outputs": [
        {
          "output_type": "execute_result",
          "data": {
            "text/plain": [
              "{1, 2, 3, 4, 5, 6}"
            ]
          },
          "metadata": {},
          "execution_count": 45
        }
      ]
    },
    {
      "cell_type": "code",
      "source": [
        "s1.intersection(s2) # 교집합"
      ],
      "metadata": {
        "colab": {
          "base_uri": "https://localhost:8080/"
        },
        "id": "n-46D6iYtl_7",
        "outputId": "95b4234c-c8b4-44c7-f7b5-99a97063f6fa"
      },
      "execution_count": 46,
      "outputs": [
        {
          "output_type": "execute_result",
          "data": {
            "text/plain": [
              "{2, 3}"
            ]
          },
          "metadata": {},
          "execution_count": 46
        }
      ]
    },
    {
      "cell_type": "code",
      "source": [
        "s1.difference(s2) # 차집합"
      ],
      "metadata": {
        "colab": {
          "base_uri": "https://localhost:8080/"
        },
        "id": "RRBvAHIrtpvR",
        "outputId": "e9524b3e-018f-4602-e932-8397412458bb"
      },
      "execution_count": 47,
      "outputs": [
        {
          "output_type": "execute_result",
          "data": {
            "text/plain": [
              "{1, 4}"
            ]
          },
          "metadata": {},
          "execution_count": 47
        }
      ]
    },
    {
      "cell_type": "code",
      "source": [],
      "metadata": {
        "id": "hp7qyWrUtuxy"
      },
      "execution_count": null,
      "outputs": []
    },
    {
      "cell_type": "markdown",
      "source": [
        "#dict\n",
        "* dictionary(사전) 형식의 데이터 타입\n",
        "* 키(key)를 기반으로 값(value)를 저장하는 데이터 타입\n",
        "    * list, tuple: 인덱스 기반의 데이터 타입.\n",
        "    * dict: key-value 기반의 데이터 타입\n",
        "    * dict에서 key의 역할은 1개 아이템의 값(value)를 찾기 위한 용도."
      ],
      "metadata": {
        "id": "eCpz3lq-uE2j"
      }
    },
    {
      "cell_type": "code",
      "source": [
        "students = {1:'가', 2:'나', 3:'다'}\n",
        "students"
      ],
      "metadata": {
        "colab": {
          "base_uri": "https://localhost:8080/"
        },
        "id": "gHykPabmzgTp",
        "outputId": "fb11394d-a32f-4a7d-acaf-bb234d6dd8f5"
      },
      "execution_count": 51,
      "outputs": [
        {
          "output_type": "execute_result",
          "data": {
            "text/plain": [
              "{1: '가', 2: '나', 3: '다'}"
            ]
          },
          "metadata": {},
          "execution_count": 51
        }
      ]
    },
    {
      "cell_type": "code",
      "source": [
        "type(students)"
      ],
      "metadata": {
        "colab": {
          "base_uri": "https://localhost:8080/"
        },
        "id": "Zu078ynpzsXn",
        "outputId": "62914013-8267-4c4f-f373-d0dd9b50fd4f"
      },
      "execution_count": 53,
      "outputs": [
        {
          "output_type": "execute_result",
          "data": {
            "text/plain": [
              "dict"
            ]
          },
          "metadata": {},
          "execution_count": 53
        }
      ]
    },
    {
      "cell_type": "markdown",
      "source": [
        "`dict`에서에서 키를 사용하는 방법은 `list`또는 `tuple`과 마찬가지로 인덱스 연산자(`[]`)를 사용함"
      ],
      "metadata": {
        "id": "ZZCMz8kx0Mbg"
      }
    },
    {
      "cell_type": "code",
      "source": [
        "students[10] = '홍길동' #dict에 새로운 key-value 아이템을 추가\n",
        "students"
      ],
      "metadata": {
        "colab": {
          "base_uri": "https://localhost:8080/"
        },
        "id": "-SotLMw9zvpf",
        "outputId": "a4662134-cbaa-4f19-c740-afd290683c4e"
      },
      "execution_count": 55,
      "outputs": [
        {
          "output_type": "execute_result",
          "data": {
            "text/plain": [
              "{1: '가', 2: '나', 3: '다', 10: '홍길동'}"
            ]
          },
          "metadata": {},
          "execution_count": 55
        }
      ]
    },
    {
      "cell_type": "code",
      "source": [
        "students[3] = 'scott' # dict에서 key에 해당하는 value 값을 수정\n",
        "students"
      ],
      "metadata": {
        "colab": {
          "base_uri": "https://localhost:8080/"
        },
        "id": "yaA_t8SA1ZCJ",
        "outputId": "ec03dbd5-0bce-440d-c2c6-568dd905b94a"
      },
      "execution_count": 56,
      "outputs": [
        {
          "output_type": "execute_result",
          "data": {
            "text/plain": [
              "{1: '가', 2: '나', 3: 'scott', 10: '홍길동'}"
            ]
          },
          "metadata": {},
          "execution_count": 56
        }
      ]
    },
    {
      "cell_type": "code",
      "source": [
        "students.pop(3) #dict에서 해당하는 key의 아이템(key:value)을 삭제\n",
        "students"
      ],
      "metadata": {
        "colab": {
          "base_uri": "https://localhost:8080/"
        },
        "id": "sS6bt7LD1dae",
        "outputId": "8e6b6862-c989-4beb-b027-bbcf4bb9a0c3"
      },
      "execution_count": 57,
      "outputs": [
        {
          "output_type": "execute_result",
          "data": {
            "text/plain": [
              "{1: '가', 2: '나', 10: '홍길동'}"
            ]
          },
          "metadata": {},
          "execution_count": 57
        }
      ]
    },
    {
      "cell_type": "code",
      "source": [
        "book = {\n",
        "    'title':'점프 투 파이썬',\n",
        "    'authors': ['박응용', '웨스 매키니'],\n",
        "    'isbn': 123456789\n",
        "}\n",
        "book"
      ],
      "metadata": {
        "colab": {
          "base_uri": "https://localhost:8080/"
        },
        "id": "Gq_fgEDQ2TnO",
        "outputId": "ea53d8bf-5ade-4188-fa16-2d79887e1610"
      },
      "execution_count": 60,
      "outputs": [
        {
          "output_type": "execute_result",
          "data": {
            "text/plain": [
              "{'title': '점프 투 파이썬', 'authors': ['박응용', '웨스 매키니'], 'isbn': 123456789}"
            ]
          },
          "metadata": {},
          "execution_count": 60
        }
      ]
    },
    {
      "cell_type": "code",
      "source": [
        "book['title']"
      ],
      "metadata": {
        "colab": {
          "base_uri": "https://localhost:8080/",
          "height": 35
        },
        "id": "XNI-MvPa3VHJ",
        "outputId": "4f22c145-6290-432d-e53f-3d032557475d"
      },
      "execution_count": 62,
      "outputs": [
        {
          "output_type": "execute_result",
          "data": {
            "text/plain": [
              "'점프 투 파이썬'"
            ],
            "application/vnd.google.colaboratory.intrinsic+json": {
              "type": "string"
            }
          },
          "metadata": {},
          "execution_count": 62
        }
      ]
    },
    {
      "cell_type": "code",
      "source": [
        "book['authors']"
      ],
      "metadata": {
        "colab": {
          "base_uri": "https://localhost:8080/"
        },
        "id": "l6FHyMS73h3e",
        "outputId": "8ec0319b-bbcf-40a8-ee92-5fc91d010bd8"
      },
      "execution_count": 63,
      "outputs": [
        {
          "output_type": "execute_result",
          "data": {
            "text/plain": [
              "['박응용', '웨스 매키니']"
            ]
          },
          "metadata": {},
          "execution_count": 63
        }
      ]
    },
    {
      "cell_type": "code",
      "source": [
        "book['authors'][0]"
      ],
      "metadata": {
        "colab": {
          "base_uri": "https://localhost:8080/",
          "height": 35
        },
        "id": "62a2uB_63lZu",
        "outputId": "1aba8c73-4256-4aba-d664-e93392ce5f70"
      },
      "execution_count": 65,
      "outputs": [
        {
          "output_type": "execute_result",
          "data": {
            "text/plain": [
              "'박응용'"
            ],
            "application/vnd.google.colaboratory.intrinsic+json": {
              "type": "string"
            }
          },
          "metadata": {},
          "execution_count": 65
        }
      ]
    },
    {
      "cell_type": "markdown",
      "source": [
        "##dict&for"
      ],
      "metadata": {
        "id": "Lcil60Oe31Uf"
      }
    },
    {
      "cell_type": "code",
      "source": [
        "contact = {\n",
        "    'no':1,\n",
        "    'name': '오쌤',\n",
        "    'phones': ['010-0000-0000','02-0000-0000'],\n",
        "    'emails': {\n",
        "        'company':'jake@itwill.co.kr',\n",
        "        'personal': 'jake@naver.com'\n",
        "        }\n",
        "}\n",
        "contact"
      ],
      "metadata": {
        "colab": {
          "base_uri": "https://localhost:8080/"
        },
        "id": "v0tW8KJE3ypV",
        "outputId": "989abd5c-4423-4993-c44a-eec41a7edfbd"
      },
      "execution_count": 66,
      "outputs": [
        {
          "output_type": "execute_result",
          "data": {
            "text/plain": [
              "{'no': 1,\n",
              " 'name': '오쌤',\n",
              " 'phones': ['010-0000-0000', '02-0000-0000'],\n",
              " 'emails': {'company': 'jake@itwill.co.kr', 'personal': 'jake@naver.com'}}"
            ]
          },
          "metadata": {},
          "execution_count": 66
        }
      ]
    },
    {
      "cell_type": "code",
      "source": [
        "for k in contact:\n",
        "    print(k)"
      ],
      "metadata": {
        "colab": {
          "base_uri": "https://localhost:8080/"
        },
        "id": "nwE4Fboe4fg-",
        "outputId": "b7e05946-4912-4ffd-d9c2-544d1f28c22d"
      },
      "execution_count": 68,
      "outputs": [
        {
          "output_type": "stream",
          "name": "stdout",
          "text": [
            "no\n",
            "name\n",
            "phones\n",
            "emails\n"
          ]
        }
      ]
    },
    {
      "cell_type": "markdown",
      "source": [
        "for-in 구문에서 dict를 사용하면 키(key)를 iteration함"
      ],
      "metadata": {
        "id": "9NCkcBeV49ju"
      }
    },
    {
      "cell_type": "code",
      "source": [
        "for k in contact:\n",
        "    print(k,':',contact[k])"
      ],
      "metadata": {
        "colab": {
          "base_uri": "https://localhost:8080/"
        },
        "id": "-C32s1HA4tSN",
        "outputId": "93ab7bb4-1045-468f-dc30-ede5455ea79c"
      },
      "execution_count": 70,
      "outputs": [
        {
          "output_type": "stream",
          "name": "stdout",
          "text": [
            "no : 1\n",
            "name : 오쌤\n",
            "phones : ['010-0000-0000', '02-0000-0000']\n",
            "emails : {'company': 'jake@itwill.co.kr', 'personal': 'jake@naver.com'}\n"
          ]
        }
      ]
    },
    {
      "cell_type": "code",
      "source": [
        "contact.keys() # dict의 key들의 리스트를 리턴"
      ],
      "metadata": {
        "colab": {
          "base_uri": "https://localhost:8080/"
        },
        "id": "-a9KZ7VT5MaN",
        "outputId": "fa68e760-4368-4a31-96c0-22c379416418"
      },
      "execution_count": 71,
      "outputs": [
        {
          "output_type": "execute_result",
          "data": {
            "text/plain": [
              "dict_keys(['no', 'name', 'phones', 'emails'])"
            ]
          },
          "metadata": {},
          "execution_count": 71
        }
      ]
    },
    {
      "cell_type": "code",
      "source": [
        "contact.values() # dict의 value들의 리스트를 리턴"
      ],
      "metadata": {
        "colab": {
          "base_uri": "https://localhost:8080/"
        },
        "id": "GcG6Ro905nEf",
        "outputId": "fca2109e-d7fb-415a-b147-3664b8ef38de"
      },
      "execution_count": 73,
      "outputs": [
        {
          "output_type": "execute_result",
          "data": {
            "text/plain": [
              "dict_values([1, '오쌤', ['010-0000-0000', '02-0000-0000'], {'company': 'jake@itwill.co.kr', 'personal': 'jake@naver.com'}])"
            ]
          },
          "metadata": {},
          "execution_count": 73
        }
      ]
    },
    {
      "cell_type": "code",
      "source": [
        "contact.items() # dict에서 (key, value) 튜플들의 리스트를 리턴"
      ],
      "metadata": {
        "colab": {
          "base_uri": "https://localhost:8080/"
        },
        "id": "X8pW36iv58ol",
        "outputId": "3604fe61-d5d3-41bf-a6c8-04c8986b9f5a"
      },
      "execution_count": 74,
      "outputs": [
        {
          "output_type": "execute_result",
          "data": {
            "text/plain": [
              "dict_items([('no', 1), ('name', '오쌤'), ('phones', ['010-0000-0000', '02-0000-0000']), ('emails', {'company': 'jake@itwill.co.kr', 'personal': 'jake@naver.com'})])"
            ]
          },
          "metadata": {},
          "execution_count": 74
        }
      ]
    },
    {
      "cell_type": "code",
      "source": [
        "for k, v in contact.items():\n",
        "    print(k,':',v)"
      ],
      "metadata": {
        "colab": {
          "base_uri": "https://localhost:8080/"
        },
        "id": "vurz-n946AJk",
        "outputId": "e14803d9-4480-47b2-b4f3-df9e0742d497"
      },
      "execution_count": 76,
      "outputs": [
        {
          "output_type": "stream",
          "name": "stdout",
          "text": [
            "no : 1\n",
            "name : 오쌤\n",
            "phones : ['010-0000-0000', '02-0000-0000']\n",
            "emails : {'company': 'jake@itwill.co.kr', 'personal': 'jake@naver.com'}\n"
          ]
        }
      ]
    },
    {
      "cell_type": "markdown",
      "source": [
        "##Dictionay Comprehension"
      ],
      "metadata": {
        "id": "AKDF2D-j-8kd"
      }
    },
    {
      "cell_type": "code",
      "source": [
        "emp_no = [1001, 1002, 2001, 2002] # 사번\n",
        "emp_name = ['King', 'Scott', 'Allen', 'Tiger'] # 직원 이름\n",
        "emp = {}\n",
        "for x in range(len(emp_no)):\n",
        "    for y in range(len(emp_name)):\n",
        "        if(x==y):\n",
        "            emp[emp_no[x]] = emp_name[y]\n",
        "emp"
      ],
      "metadata": {
        "colab": {
          "base_uri": "https://localhost:8080/"
        },
        "id": "pR5ngc5A7CKQ",
        "outputId": "c2250834-bfc3-4787-dc5a-2a8e56f4aaff"
      },
      "execution_count": 79,
      "outputs": [
        {
          "output_type": "execute_result",
          "data": {
            "text/plain": [
              "{1001: 'King', 1002: 'Scott', 2001: 'Allen', 2002: 'Tiger'}"
            ]
          },
          "metadata": {},
          "execution_count": 79
        }
      ]
    },
    {
      "cell_type": "code",
      "source": [
        "emp = {}\n",
        "for no, name in zip(emp_no, emp_name):\n",
        "    emp[no] = name\n",
        "emp"
      ],
      "metadata": {
        "colab": {
          "base_uri": "https://localhost:8080/"
        },
        "id": "ycJE8z_jBFq6",
        "outputId": "eb003aa9-54e7-4446-e3b3-cd9f26e1794c"
      },
      "execution_count": 81,
      "outputs": [
        {
          "output_type": "execute_result",
          "data": {
            "text/plain": [
              "{1001: 'King', 1002: 'Scott', 2001: 'Allen', 2002: 'Tiger'}"
            ]
          },
          "metadata": {},
          "execution_count": 81
        }
      ]
    },
    {
      "cell_type": "code",
      "source": [
        "emp = {k:v for k,v in zip(emp_no, emp_name)}\n",
        "emp"
      ],
      "metadata": {
        "colab": {
          "base_uri": "https://localhost:8080/"
        },
        "id": "MEY9eMHwCCAN",
        "outputId": "16bb3f6c-56ce-4db8-9db4-97ebaf34848a"
      },
      "execution_count": 84,
      "outputs": [
        {
          "output_type": "execute_result",
          "data": {
            "text/plain": [
              "{1001: 'King', 1002: 'Scott', 2001: 'Allen', 2002: 'Tiger'}"
            ]
          },
          "metadata": {},
          "execution_count": 84
        }
      ]
    },
    {
      "cell_type": "code",
      "source": [
        "strings = ['hello', 'java', 'sql', 'python', 'javascript']\n",
        "# 리스트 string의 문자열을 키로 하고, 그 문자열의 길이를 값으로 하는 dict를 만들고 출력\n",
        "len_strings = []\n",
        "for x in range(len(strings)):\n",
        "    len_strings.append(len(strings[x]))\n",
        "print(len_strings)\n",
        "list = {s:c for s,c in zip(strings, len_strings)}\n",
        "print(list)"
      ],
      "metadata": {
        "colab": {
          "base_uri": "https://localhost:8080/"
        },
        "id": "UeR1Qim5CTOS",
        "outputId": "38b8a40b-75ab-4ff2-ed26-2e7a4878e730"
      },
      "execution_count": 92,
      "outputs": [
        {
          "output_type": "stream",
          "name": "stdout",
          "text": [
            "[5, 4, 3, 6, 10]\n",
            "{'hello': 5, 'java': 4, 'sql': 3, 'python': 6, 'javascript': 10}\n"
          ]
        }
      ]
    },
    {
      "cell_type": "code",
      "source": [
        "strings = ['hello', 'java', 'sql', 'python', 'javascript']\n",
        "# 리스트 string의 문자열을 키로 하고, 그 문자열의 길이를 값으로 하는 dict를 만들고 출력\n",
        "len_strings = {}\n",
        "for s in strings:\n",
        "    len_strings[s] = len(s)\n",
        "print(len_strings)"
      ],
      "metadata": {
        "colab": {
          "base_uri": "https://localhost:8080/"
        },
        "id": "PNoSJGndEVeR",
        "outputId": "419d63e1-f4e0-46b5-936e-f3f86a1884e5"
      },
      "execution_count": 93,
      "outputs": [
        {
          "output_type": "stream",
          "name": "stdout",
          "text": [
            "{'hello': 5, 'java': 4, 'sql': 3, 'python': 6, 'javascript': 10}\n"
          ]
        }
      ]
    },
    {
      "cell_type": "code",
      "source": [],
      "metadata": {
        "id": "lnTgOVpqEC8K"
      },
      "execution_count": null,
      "outputs": []
    }
  ]
}