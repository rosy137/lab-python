{
  "nbformat": 4,
  "nbformat_minor": 0,
  "metadata": {
    "colab": {
      "provenance": [],
      "include_colab_link": true
    },
    "kernelspec": {
      "name": "python3",
      "display_name": "Python 3"
    },
    "language_info": {
      "name": "python"
    }
  },
  "cells": [
    {
      "cell_type": "markdown",
      "metadata": {
        "id": "view-in-github",
        "colab_type": "text"
      },
      "source": [
        "<a href=\"https://colab.research.google.com/github/rosy137/lab-python/blob/main/py13_numpy.ipynb\" target=\"_parent\"><img src=\"https://colab.research.google.com/assets/colab-badge.svg\" alt=\"Open In Colab\"/></a>"
      ]
    },
    {
      "cell_type": "markdown",
      "source": [
        "# 데이터 분석 패키지\n",
        "\n",
        "Google Colab에는 데이터 분석과 머신 러닝에 필요한 대부분의 패키지들이 이미 설치가 되어 있음.\n",
        "\n",
        "*  NumPy: 다차원 배열(n-dimensional array)을 다루는 패키지. 머신 러닝에서 중요하게 사용됨.\n",
        "*  pandas: 시리즈(Series), 데이터프레임(DataFrame)을 다루는 패키지. 데이터 분석에서 기본으로 사용되는 패키지.\n",
        "*  matplotlib: 데이터 시각화(그래프).\n",
        "*  seaborn: 데이터 시각화. 통계 작업.\n"
      ],
      "metadata": {
        "id": "DMx_FPIxVbeg"
      }
    },
    {
      "cell_type": "code",
      "execution_count": null,
      "metadata": {
        "id": "waTE0YODVLfp"
      },
      "outputs": [],
      "source": [
        "import numpy as np\n",
        "import pandas as pd\n",
        "import matplotlib as mpl\n",
        "import seaborn as sns"
      ]
    },
    {
      "cell_type": "code",
      "source": [
        "print('NumPy version:', np.__version__)\n",
        "print('pandas version:', pd.__version__)\n",
        "print('Matplotlib version:', mpl.__version__)\n",
        "print('seaborn version:', sns.__version__)"
      ],
      "metadata": {
        "colab": {
          "base_uri": "https://localhost:8080/"
        },
        "id": "ttyko_iCbPJg",
        "outputId": "ef00a9be-b23c-45ad-934d-edb714294fdb"
      },
      "execution_count": null,
      "outputs": [
        {
          "output_type": "stream",
          "name": "stdout",
          "text": [
            "NumPy version: 1.22.4\n",
            "pandas version: 1.5.3\n",
            "Matplotlib version: 3.7.1\n",
            "seaborn version: 0.12.2\n"
          ]
        }
      ]
    },
    {
      "cell_type": "markdown",
      "source": [
        "# Python `list` class\n",
        "\n",
        "*  여러 개의 값들을 저장할 수 있는 데이터 타입.\n",
        "*  인덱스를 기반으로 값들을 저장, 참조하는 데이터 타입.\n",
        "    *  indexing: 인덱스를 사용해서 원하는 위치의 값을 참조, 변경.\n",
        "    *  slicing: `[start, end)` 인덱스 범위의 값들로 이루어진 부분집합을 잘라내는 방법.\n",
        "*  `list + list`: 2개의 리스트를 이어붙이기(concatenate).\n",
        "*  `list * int`, `int * list`: 리스트의 원소들을 정수만큼 반복해서 복제(replicate)."
      ],
      "metadata": {
        "id": "NX0SPpjacK__"
      }
    },
    {
      "cell_type": "code",
      "source": [
        "list1 = [1, 2, 3, 4]\n",
        "list2 = [10, 20, 30, 40]"
      ],
      "metadata": {
        "id": "5Hg0s6PobleP"
      },
      "execution_count": null,
      "outputs": []
    },
    {
      "cell_type": "code",
      "source": [
        "# indexing:\n",
        "print(list1[0])  # list1의 첫번째 원소\n",
        "print(list1[3], list1[-1])  # list1의 마지막 원소"
      ],
      "metadata": {
        "colab": {
          "base_uri": "https://localhost:8080/"
        },
        "id": "BpzFh9bPdRSK",
        "outputId": "9ab8aca6-1fb8-46c9-c48e-78a7a389cebe"
      },
      "execution_count": null,
      "outputs": [
        {
          "output_type": "stream",
          "name": "stdout",
          "text": [
            "1\n",
            "4 4\n"
          ]
        }
      ]
    },
    {
      "cell_type": "code",
      "source": [
        "# slicing\n",
        "print(list1[:3])  # list1에서 앞에서 3개 원소 자르기\n",
        "print(list1[-3:])  # list1에서 뒤에서 3개 원소 자르기"
      ],
      "metadata": {
        "colab": {
          "base_uri": "https://localhost:8080/"
        },
        "id": "kr-TeDbZdeWw",
        "outputId": "30fe6b8a-b983-4189-8843-24bdfb75f974"
      },
      "execution_count": null,
      "outputs": [
        {
          "output_type": "stream",
          "name": "stdout",
          "text": [
            "[1, 2, 3]\n",
            "[2, 3, 4]\n"
          ]
        }
      ]
    },
    {
      "cell_type": "code",
      "source": [
        "list1 + list2"
      ],
      "metadata": {
        "colab": {
          "base_uri": "https://localhost:8080/"
        },
        "id": "5GSBp_iPdy3_",
        "outputId": "e36142ce-330b-430d-ff7d-78b1abc5b48c"
      },
      "execution_count": null,
      "outputs": [
        {
          "output_type": "execute_result",
          "data": {
            "text/plain": [
              "[1, 2, 3, 4, 10, 20, 30, 40]"
            ]
          },
          "metadata": {},
          "execution_count": 6
        }
      ]
    },
    {
      "cell_type": "code",
      "source": [
        "list1 * 3"
      ],
      "metadata": {
        "colab": {
          "base_uri": "https://localhost:8080/"
        },
        "id": "g4ogKcv-d4oO",
        "outputId": "bb71456c-4544-4bb6-fceb-18b672fca071"
      },
      "execution_count": null,
      "outputs": [
        {
          "output_type": "execute_result",
          "data": {
            "text/plain": [
              "[1, 2, 3, 4, 1, 2, 3, 4, 1, 2, 3, 4]"
            ]
          },
          "metadata": {},
          "execution_count": 7
        }
      ]
    },
    {
      "cell_type": "code",
      "source": [
        "# list1, list2에서 같은 인덱스 위치의 원소들끼리 덧셈\n",
        "[x + y for x, y in zip(list1, list2)]"
      ],
      "metadata": {
        "colab": {
          "base_uri": "https://localhost:8080/"
        },
        "id": "_Qej0J0aeAMW",
        "outputId": "78bd5edc-5fbf-49b8-aa8c-1feea7715786"
      },
      "execution_count": null,
      "outputs": [
        {
          "output_type": "execute_result",
          "data": {
            "text/plain": [
              "[11, 22, 33, 44]"
            ]
          },
          "metadata": {},
          "execution_count": 8
        }
      ]
    },
    {
      "cell_type": "code",
      "source": [
        "# list1의 모든 원소에 3을 곱함.\n",
        "[3 * x for x in list1]"
      ],
      "metadata": {
        "colab": {
          "base_uri": "https://localhost:8080/"
        },
        "id": "7m6208FJeSx-",
        "outputId": "ee016ae6-fd91-470e-95d5-d336c0a6220f"
      },
      "execution_count": null,
      "outputs": [
        {
          "output_type": "execute_result",
          "data": {
            "text/plain": [
              "[3, 6, 9, 12]"
            ]
          },
          "metadata": {},
          "execution_count": 9
        }
      ]
    },
    {
      "cell_type": "markdown",
      "source": [
        "# NumPy\n",
        "\n",
        "*  배열(ndarray)을 쉽고 빠르게 연산(+, -, *, /, //, %)을 수행하는 라이브러리.\n",
        "*  NumPy 패키지의 함수 또는 메서드들을 대부분 반복문의 기능을 가지고 있음.\n",
        "*  np.ndarray 클래스: NumPy 패키지에서 기본 타입 클래스. n차원 배열(n-dimensional array).\n",
        "    *  `ndarray`는 같은 인덱스(위치)에 있는 원소들끼리 연산을 수행."
      ],
      "metadata": {
        "id": "DVxghVKMik_H"
      }
    },
    {
      "cell_type": "code",
      "source": [
        "array1 = np.array([1, 2, 3])  # python의 list 객체를 numpy의 ndarray 객체로 변환."
      ],
      "metadata": {
        "id": "1p2W6spUjdhP"
      },
      "execution_count": null,
      "outputs": []
    },
    {
      "cell_type": "code",
      "source": [
        "type(array1)"
      ],
      "metadata": {
        "colab": {
          "base_uri": "https://localhost:8080/"
        },
        "id": "f78cTFa7kZUg",
        "outputId": "79fb9314-aacc-4159-e385-24a4e5f70998"
      },
      "execution_count": null,
      "outputs": [
        {
          "output_type": "execute_result",
          "data": {
            "text/plain": [
              "numpy.ndarray"
            ]
          },
          "metadata": {},
          "execution_count": 11
        }
      ]
    },
    {
      "cell_type": "code",
      "source": [
        "print(array1)  # print() 함수는 __str__ 메서드의 리턴값을 출력"
      ],
      "metadata": {
        "colab": {
          "base_uri": "https://localhost:8080/"
        },
        "id": "EoajZT5ckaxG",
        "outputId": "58177daf-512f-45bd-fbb9-d73c9ee4ff53"
      },
      "execution_count": null,
      "outputs": [
        {
          "output_type": "stream",
          "name": "stdout",
          "text": [
            "[1 2 3]\n"
          ]
        }
      ]
    },
    {
      "cell_type": "code",
      "source": [
        "array1  # expression은 __repr__ 메서드의 리턴값을 출력"
      ],
      "metadata": {
        "colab": {
          "base_uri": "https://localhost:8080/"
        },
        "id": "OHtbIhMtkf9-",
        "outputId": "ea9f573b-060a-493c-cbd6-5694ef53dad9"
      },
      "execution_count": null,
      "outputs": [
        {
          "output_type": "execute_result",
          "data": {
            "text/plain": [
              "array([1, 2, 3])"
            ]
          },
          "metadata": {},
          "execution_count": 13
        }
      ]
    },
    {
      "cell_type": "code",
      "source": [
        "array2 = np.array([4, 5, 6])\n",
        "print(array2)"
      ],
      "metadata": {
        "colab": {
          "base_uri": "https://localhost:8080/"
        },
        "id": "s1Lk5e-ClLOu",
        "outputId": "5b6f7a8f-2470-4ba5-f9f8-56327a703dc9"
      },
      "execution_count": null,
      "outputs": [
        {
          "output_type": "stream",
          "name": "stdout",
          "text": [
            "[4 5 6]\n"
          ]
        }
      ]
    },
    {
      "cell_type": "code",
      "source": [
        "# ndarray의 사칙연산 - 같은 인덱스의 원소들끼리(element-wise) 연산 수행\n",
        "print(array1 + array2)\n",
        "print(array1 - array2)\n",
        "print(array1 * array2)\n",
        "print(array1 / array2)"
      ],
      "metadata": {
        "colab": {
          "base_uri": "https://localhost:8080/"
        },
        "id": "LELmRA3DlQEW",
        "outputId": "c705da9c-dffa-46cc-8ab0-6e85c1e65943"
      },
      "execution_count": null,
      "outputs": [
        {
          "output_type": "stream",
          "name": "stdout",
          "text": [
            "[5 7 9]\n",
            "[-3 -3 -3]\n",
            "[ 4 10 18]\n",
            "[0.25 0.4  0.5 ]\n"
          ]
        }
      ]
    },
    {
      "cell_type": "markdown",
      "source": [
        "## `ndarray` 클래스의 속성들"
      ],
      "metadata": {
        "id": "Q-JxU76fmYqm"
      }
    },
    {
      "cell_type": "code",
      "source": [
        "print(array1)\n",
        "print('ndim:', array1.ndim)  # 차원(dimesion). 배열의 축(axis)의 개수.\n",
        "print('size:', array1.size)  # 배열의 크기. 원소 개수.\n",
        "print('shape:', array1.shape)  # 배열의 모양. 각 차원에서의 원소 개수.\n",
        "print('dtype:', array1.dtype)  # 배열 원소의 데이터 타입."
      ],
      "metadata": {
        "colab": {
          "base_uri": "https://localhost:8080/"
        },
        "id": "cqZuLyMXmdlQ",
        "outputId": "0afc835b-253a-4e36-bf60-617b5528cea2"
      },
      "execution_count": null,
      "outputs": [
        {
          "output_type": "stream",
          "name": "stdout",
          "text": [
            "[1 2 3]\n",
            "ndim: 1\n",
            "size: 3\n",
            "shape: (3,)\n",
            "dtype: int64\n"
          ]
        }
      ]
    },
    {
      "cell_type": "markdown",
      "source": [
        "`ndarray`는 한 가지 타입의 데이터들만 저장할 수 있는 데이터 타입 - `list`와 다른 점."
      ],
      "metadata": {
        "id": "wo4QZygboNw2"
      }
    },
    {
      "cell_type": "markdown",
      "source": [
        "## 2차원 배열"
      ],
      "metadata": {
        "id": "94etDgq4o08w"
      }
    },
    {
      "cell_type": "code",
      "source": [
        "array_2d = np.array([\n",
        "    [1, 2, 3, 4],\n",
        "    [5, 6, 7, 8],\n",
        "    [9, 10, 11, 12]\n",
        "])"
      ],
      "metadata": {
        "id": "VGdZ_S92mfGt"
      },
      "execution_count": null,
      "outputs": []
    },
    {
      "cell_type": "code",
      "source": [
        "type(array_2d)"
      ],
      "metadata": {
        "colab": {
          "base_uri": "https://localhost:8080/"
        },
        "id": "BPXVhZKdpWT_",
        "outputId": "cd795b62-625e-4a6f-d61c-fdc0425dea52"
      },
      "execution_count": null,
      "outputs": [
        {
          "output_type": "execute_result",
          "data": {
            "text/plain": [
              "numpy.ndarray"
            ]
          },
          "metadata": {},
          "execution_count": 18
        }
      ]
    },
    {
      "cell_type": "code",
      "source": [
        "print(array_2d)"
      ],
      "metadata": {
        "colab": {
          "base_uri": "https://localhost:8080/"
        },
        "id": "ceiZgmanpYRM",
        "outputId": "1596c41b-38d2-4766-9270-0155bf5a57b3"
      },
      "execution_count": null,
      "outputs": [
        {
          "output_type": "stream",
          "name": "stdout",
          "text": [
            "[[ 1  2  3  4]\n",
            " [ 5  6  7  8]\n",
            " [ 9 10 11 12]]\n"
          ]
        }
      ]
    },
    {
      "cell_type": "code",
      "source": [
        "array_2d"
      ],
      "metadata": {
        "colab": {
          "base_uri": "https://localhost:8080/"
        },
        "id": "US_sWPFXpqd2",
        "outputId": "1df742d0-b383-4ff5-e384-4b71ddfcd742"
      },
      "execution_count": null,
      "outputs": [
        {
          "output_type": "execute_result",
          "data": {
            "text/plain": [
              "array([[ 1,  2,  3,  4],\n",
              "       [ 5,  6,  7,  8],\n",
              "       [ 9, 10, 11, 12]])"
            ]
          },
          "metadata": {},
          "execution_count": 20
        }
      ]
    },
    {
      "cell_type": "code",
      "source": [
        "print('ndim:', array_2d.ndim)  # 차원\n",
        "print('size:', array_2d.size)  # 크기\n",
        "print('shape:', array_2d.shape)  # 모양\n",
        "print('dtype:', array_2d.dtype)  # 데이터 타입"
      ],
      "metadata": {
        "colab": {
          "base_uri": "https://localhost:8080/"
        },
        "id": "hKbkZ2w2p0Gt",
        "outputId": "17b8b411-6f76-48e9-b27d-7e2d8a3569c1"
      },
      "execution_count": null,
      "outputs": [
        {
          "output_type": "stream",
          "name": "stdout",
          "text": [
            "ndim: 2\n",
            "size: 12\n",
            "shape: (3, 4)\n",
            "dtype: int64\n"
          ]
        }
      ]
    },
    {
      "cell_type": "markdown",
      "source": [
        "### 2차원 `ndarray`의 인덱스 사용 방법:\n",
        "\n",
        "*  `array[i][j]` - Python list와 같은 사용 방법.\n",
        "*  `array[i, j]` - ndarray에서만 사용 가능"
      ],
      "metadata": {
        "id": "t3YGSKpBu6rl"
      }
    },
    {
      "cell_type": "code",
      "source": [
        "array_2d[0, 0]  # array_2d[0][0]"
      ],
      "metadata": {
        "colab": {
          "base_uri": "https://localhost:8080/"
        },
        "id": "tNO9nivavzFF",
        "outputId": "b960a189-ed81-4c6e-adb4-4d24931762e0"
      },
      "execution_count": null,
      "outputs": [
        {
          "output_type": "execute_result",
          "data": {
            "text/plain": [
              "1"
            ]
          },
          "metadata": {},
          "execution_count": 22
        }
      ]
    },
    {
      "cell_type": "code",
      "source": [
        "array_2d[1, 2]"
      ],
      "metadata": {
        "colab": {
          "base_uri": "https://localhost:8080/"
        },
        "id": "v9BsN68Rv-Hd",
        "outputId": "638f51a8-6578-4965-d1da-606d25a4fa1c"
      },
      "execution_count": null,
      "outputs": [
        {
          "output_type": "execute_result",
          "data": {
            "text/plain": [
              "7"
            ]
          },
          "metadata": {},
          "execution_count": 23
        }
      ]
    },
    {
      "cell_type": "markdown",
      "source": [
        "## `ndarray` 인덱스"
      ],
      "metadata": {
        "id": "m2M7zeLswVuM"
      }
    },
    {
      "cell_type": "code",
      "source": [
        "# [0, 100) 범위의 정수 난수 10개를 갖는 ndarray 객체를 생성:\n",
        "array = np.random.randint(0, 100, size=10)\n",
        "print(array)"
      ],
      "metadata": {
        "colab": {
          "base_uri": "https://localhost:8080/"
        },
        "id": "z6494DZiwdOO",
        "outputId": "03f1cc17-aeca-4596-c21f-1b0e9cbcfd64"
      },
      "execution_count": null,
      "outputs": [
        {
          "output_type": "stream",
          "name": "stdout",
          "text": [
            "[22  1 42 33 41 51 43 52 61 49]\n"
          ]
        }
      ]
    },
    {
      "cell_type": "code",
      "source": [
        "# indexing:\n",
        "print(array[0])  # 첫번째 원소\n",
        "print(array[-1])  # 마지막 원소"
      ],
      "metadata": {
        "colab": {
          "base_uri": "https://localhost:8080/"
        },
        "id": "qDxG-gvgxeb1",
        "outputId": "728e7d6f-90d6-4566-ef44-0dc0d5e3febd"
      },
      "execution_count": null,
      "outputs": [
        {
          "output_type": "stream",
          "name": "stdout",
          "text": [
            "22\n",
            "49\n"
          ]
        }
      ]
    },
    {
      "cell_type": "code",
      "source": [
        "# slicing:\n",
        "print(array[:3])  # 첫 3개 원소 자르기\n",
        "print(array[-3:])  # 마지막 3개 원소 자르기"
      ],
      "metadata": {
        "colab": {
          "base_uri": "https://localhost:8080/"
        },
        "id": "YRkiffIex2uc",
        "outputId": "8a984c80-670d-4d95-96ad-bbab5f6dc7c7"
      },
      "execution_count": null,
      "outputs": [
        {
          "output_type": "stream",
          "name": "stdout",
          "text": [
            "[22  1 42]\n",
            "[52 61 49]\n"
          ]
        }
      ]
    },
    {
      "cell_type": "code",
      "source": [
        "print(array[0])  # indexing -> 아이템(값)\n",
        "print(array[0:1])  # slicing -> 배열(ndarray)"
      ],
      "metadata": {
        "colab": {
          "base_uri": "https://localhost:8080/"
        },
        "id": "vU5OTbEWyWdc",
        "outputId": "f9f76341-9016-45ea-810e-ce55e4ea249a"
      },
      "execution_count": null,
      "outputs": [
        {
          "output_type": "stream",
          "name": "stdout",
          "text": [
            "22\n",
            "[22]\n"
          ]
        }
      ]
    },
    {
      "cell_type": "markdown",
      "source": [
        "### fancy indexing\n",
        "\n",
        "*  배열과 비슷한 객체(ndarray, list, tuple, set, ...)를 사용해서 원하는 원소들을 참조하는 방법.\n",
        "*  fancy indexing의 결과는 ndarray."
      ],
      "metadata": {
        "id": "9dB0v5wMyqxW"
      }
    },
    {
      "cell_type": "code",
      "source": [
        "print(array)\n",
        "print(array[0])  # indexing\n",
        "print(array[[0, 2, 4]])  # fancy indexing - 인덱스 0, 2, 4 원소들 찾기\n",
        "print(array[[0]])  # fancy indexing -> 결과는 배열!"
      ],
      "metadata": {
        "colab": {
          "base_uri": "https://localhost:8080/"
        },
        "id": "pvQiuqZkzIBV",
        "outputId": "ef7436a0-e64f-438b-be81-fb70b4a76120"
      },
      "execution_count": null,
      "outputs": [
        {
          "output_type": "stream",
          "name": "stdout",
          "text": [
            "[22  1 42 33 41 51 43 52 61 49]\n",
            "22\n",
            "[22 42 41]\n",
            "[22]\n"
          ]
        }
      ]
    },
    {
      "cell_type": "markdown",
      "source": [
        "### boolean indexing\n",
        "\n",
        "*  논리값(True/False)들의 배열(리스트, 튜플, ...)을 사용한 fancy indexing 방법.\n",
        "*  배열에서 조건을 만족하는 원소들로 이루어진 부분집합(ndarray)를 만드는 방법.\n"
      ],
      "metadata": {
        "id": "GNIVIfZm0pYl"
      }
    },
    {
      "cell_type": "code",
      "source": [
        "print(array)\n",
        "print(array[[True, False, True, False, True, False, True, False, True, False]])"
      ],
      "metadata": {
        "colab": {
          "base_uri": "https://localhost:8080/"
        },
        "id": "vbvgiId6zJLF",
        "outputId": "fc1a4e11-0ad0-4efe-a2a2-d64f547d3abc"
      },
      "execution_count": null,
      "outputs": [
        {
          "output_type": "stream",
          "name": "stdout",
          "text": [
            "[22  1 42 33 41 51 43 52 61 49]\n",
            "[22 42 41 43 61]\n"
          ]
        }
      ]
    },
    {
      "cell_type": "code",
      "source": [
        "# 배열 array의 원소들 중 홀수들만 찾기:\n",
        "print(array % 2)\n",
        "print(array % 2 == 1)\n",
        "print(array[array % 2 == 1])"
      ],
      "metadata": {
        "colab": {
          "base_uri": "https://localhost:8080/"
        },
        "id": "6vhG2Pz81DTM",
        "outputId": "15233f06-dcaf-4a11-a58a-19172aa6ab2d"
      },
      "execution_count": null,
      "outputs": [
        {
          "output_type": "stream",
          "name": "stdout",
          "text": [
            "[0 1 0 1 1 1 1 0 1 1]\n",
            "[False  True False  True  True  True  True False  True  True]\n",
            "[ 1 33 41 51 43 61 49]\n"
          ]
        }
      ]
    },
    {
      "cell_type": "code",
      "source": [
        "# 배열 array의 원소들 중에서 50 이상인 숫자들의 배열을 찾기:\n",
        "print(array[array >= 50])"
      ],
      "metadata": {
        "colab": {
          "base_uri": "https://localhost:8080/"
        },
        "id": "CWZ9jeGV2lhM",
        "outputId": "89f3ba87-40e4-4ae7-9719-67bc25a52709"
      },
      "execution_count": null,
      "outputs": [
        {
          "output_type": "stream",
          "name": "stdout",
          "text": [
            "[51 52 61]\n"
          ]
        }
      ]
    },
    {
      "cell_type": "markdown",
      "source": [
        "## NumPy의 통계 함수, 메서드\n",
        "\n",
        "*  np.function(ndarray) 함수\n",
        "*  np.ndarray.method() 메서드\n"
      ],
      "metadata": {
        "id": "Ewm1c0kz3mN8"
      }
    },
    {
      "cell_type": "code",
      "source": [
        "array = np.array([1, 2, 3, 4, 5])\n",
        "print(array)"
      ],
      "metadata": {
        "colab": {
          "base_uri": "https://localhost:8080/"
        },
        "id": "JKOuy1Yq3_8E",
        "outputId": "4368bee1-1bea-4348-9b76-973a0afbdbdd"
      },
      "execution_count": null,
      "outputs": [
        {
          "output_type": "stream",
          "name": "stdout",
          "text": [
            "[1 2 3 4 5]\n"
          ]
        }
      ]
    },
    {
      "cell_type": "code",
      "source": [
        "# 합계:\n",
        "print(np.sum(array))  # 함수\n",
        "print(array.sum())  # 메서드"
      ],
      "metadata": {
        "colab": {
          "base_uri": "https://localhost:8080/"
        },
        "id": "KfYSp2D_4HPU",
        "outputId": "3e031ef8-b3e1-4a87-b2fb-175c9e801ab9"
      },
      "execution_count": null,
      "outputs": [
        {
          "output_type": "stream",
          "name": "stdout",
          "text": [
            "15\n",
            "15\n"
          ]
        }
      ]
    },
    {
      "cell_type": "code",
      "source": [
        "# 평균\n",
        "print(np.mean(array))  # 함수\n",
        "print(array.mean())  # 메서드"
      ],
      "metadata": {
        "colab": {
          "base_uri": "https://localhost:8080/"
        },
        "id": "ZhZyDsAd5Jl7",
        "outputId": "df90ef53-5619-4f21-8bdd-531ab2645bd9"
      },
      "execution_count": null,
      "outputs": [
        {
          "output_type": "stream",
          "name": "stdout",
          "text": [
            "3.0\n",
            "3.0\n"
          ]
        }
      ]
    },
    {
      "cell_type": "markdown",
      "source": [
        "* numpy 패키지를 사용\n",
        "* [0, 100) 범위의 정수 난수 10개를 갖는 ndarray를 생성\n",
        "* 배열에서 최댓값, 최솟값, 평균, 분산(variance), 표준편차(standard deviation)를 출력\n",
        "* 배열 원소들 중 평균보다 큰 값들로 이루어진 배열을 만들고 출력"
      ],
      "metadata": {
        "id": "el-gqHAWbyJc"
      }
    },
    {
      "cell_type": "code",
      "source": [
        "np.random.seed(1) #난수들을 생성하는 seed를 설정. -> 항상 같은 숫자들을 생성.\n",
        "array = np.random.randint(0, 100, size=10)\n",
        "array"
      ],
      "metadata": {
        "colab": {
          "base_uri": "https://localhost:8080/"
        },
        "id": "iaWj4iGgcRYk",
        "outputId": "1e9fbfee-c78c-4c57-f651-1267abf89392"
      },
      "execution_count": null,
      "outputs": [
        {
          "output_type": "execute_result",
          "data": {
            "text/plain": [
              "array([37, 12, 72,  9, 75,  5, 79, 64, 16,  1])"
            ]
          },
          "metadata": {},
          "execution_count": 48
        }
      ]
    },
    {
      "cell_type": "code",
      "source": [
        "max_arr = np.max(array)\n",
        "min_arr = np.min(array)\n",
        "avg_arr = np.average(array)\n",
        "var_arr = np.var(array)\n",
        "std_arr = np.std(array)\n",
        "print(f'최댓값 = {max_arr}, 최솟값 = {min_arr}, 평균 = {avg_arr}, 분산 = {var_arr}, 표준편차 = {std_arr}')"
      ],
      "metadata": {
        "colab": {
          "base_uri": "https://localhost:8080/"
        },
        "id": "OIeDEZSqcR7L",
        "outputId": "f57b9c6f-bbe0-466f-ec1a-5091e98b717d"
      },
      "execution_count": null,
      "outputs": [
        {
          "output_type": "stream",
          "name": "stdout",
          "text": [
            "최댓값 = 79, 최솟값 = 1, 평균 = 37.0, 분산 = 933.2, 표준편차 = 30.548322376196047\n"
          ]
        }
      ]
    },
    {
      "cell_type": "code",
      "source": [
        "print(array[array > np.average(array)])"
      ],
      "metadata": {
        "colab": {
          "base_uri": "https://localhost:8080/"
        },
        "id": "9Yb4t7sYdJPq",
        "outputId": "6d595af1-111c-4115-cba8-c1ef1f7f894c"
      },
      "execution_count": null,
      "outputs": [
        {
          "output_type": "stream",
          "name": "stdout",
          "text": [
            "[72 75 79 64 76 71]\n"
          ]
        }
      ]
    },
    {
      "cell_type": "markdown",
      "source": [
        "## 2차원 배열에서의 통계 함수, 메서드"
      ],
      "metadata": {
        "id": "0OzrUyCzf87C"
      }
    },
    {
      "cell_type": "code",
      "source": [
        "# [0, 100) 범위의 정수 난수를 갖는 (3, 4) 모양을 갖는 2차원 ndarray:\n",
        "np.random.seed(1)\n",
        "array = np.random.randint(100, size = (3,4))\n",
        "array"
      ],
      "metadata": {
        "colab": {
          "base_uri": "https://localhost:8080/"
        },
        "id": "oPwxyzeafanC",
        "outputId": "9cb32dab-0533-4dc4-fea0-e1cee5be17b2"
      },
      "execution_count": null,
      "outputs": [
        {
          "output_type": "execute_result",
          "data": {
            "text/plain": [
              "array([[37, 12, 72,  9],\n",
              "       [75,  5, 79, 64],\n",
              "       [16,  1, 76, 71]])"
            ]
          },
          "metadata": {},
          "execution_count": 55
        }
      ]
    },
    {
      "cell_type": "code",
      "source": [
        "np.sum(array) # axis = None(기본값): 배열의 모든 원소들의 합계"
      ],
      "metadata": {
        "colab": {
          "base_uri": "https://localhost:8080/"
        },
        "id": "flJIdOF3gfVx",
        "outputId": "d8c74e0c-db20-486f-acd8-06e33ea74e35"
      },
      "execution_count": null,
      "outputs": [
        {
          "output_type": "execute_result",
          "data": {
            "text/plain": [
              "517"
            ]
          },
          "metadata": {},
          "execution_count": 61
        }
      ]
    },
    {
      "cell_type": "code",
      "source": [
        "np.sum(array, axis=0) # axis = 0: 2차원 배열에서 첫번째 인덱스가 증가하는 축 방향으로 계산"
      ],
      "metadata": {
        "colab": {
          "base_uri": "https://localhost:8080/"
        },
        "id": "ouRRoegYhCV2",
        "outputId": "98b426d2-296d-4696-a72a-0ed877f8b0a6"
      },
      "execution_count": null,
      "outputs": [
        {
          "output_type": "execute_result",
          "data": {
            "text/plain": [
              "array([128,  18, 227, 144])"
            ]
          },
          "metadata": {},
          "execution_count": 63
        }
      ]
    },
    {
      "cell_type": "code",
      "source": [
        "np.sum(array, axis=1) # axis = 1: 2차원 배열에서 두번째 인덱스가 증가하는 축 방향으로 계산"
      ],
      "metadata": {
        "colab": {
          "base_uri": "https://localhost:8080/"
        },
        "id": "e71Rpg2qhFjh",
        "outputId": "eca0b9e6-4f7c-4e81-d4d9-7ebcaab2b8b6"
      },
      "execution_count": null,
      "outputs": [
        {
          "output_type": "execute_result",
          "data": {
            "text/plain": [
              "array([130, 223, 164])"
            ]
          },
          "metadata": {},
          "execution_count": 64
        }
      ]
    },
    {
      "cell_type": "code",
      "source": [
        "np.sum(array, axis=1, keepdims=True)"
      ],
      "metadata": {
        "colab": {
          "base_uri": "https://localhost:8080/"
        },
        "id": "RB0dY3ogkFJK",
        "outputId": "166962c8-b399-44e8-8d57-cac02b8e0664"
      },
      "execution_count": null,
      "outputs": [
        {
          "output_type": "execute_result",
          "data": {
            "text/plain": [
              "array([[130],\n",
              "       [223],\n",
              "       [164]])"
            ]
          },
          "metadata": {},
          "execution_count": 65
        }
      ]
    },
    {
      "cell_type": "code",
      "source": [],
      "metadata": {
        "id": "P9Zzyf60kJxK"
      },
      "execution_count": null,
      "outputs": []
    }
  ]
}