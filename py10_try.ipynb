{
  "nbformat": 4,
  "nbformat_minor": 0,
  "metadata": {
    "colab": {
      "provenance": [],
      "authorship_tag": "ABX9TyO4GMl0GwSqQ7BUlxMAfpg1",
      "include_colab_link": true
    },
    "kernelspec": {
      "name": "python3",
      "display_name": "Python 3"
    },
    "language_info": {
      "name": "python"
    }
  },
  "cells": [
    {
      "cell_type": "markdown",
      "metadata": {
        "id": "view-in-github",
        "colab_type": "text"
      },
      "source": [
        "<a href=\"https://colab.research.google.com/github/rosy137/lab-python/blob/main/py10_try.ipynb\" target=\"_parent\"><img src=\"https://colab.research.google.com/assets/colab-badge.svg\" alt=\"Open In Colab\"/></a>"
      ]
    },
    {
      "cell_type": "markdown",
      "source": [
        "# 오류(Error) 처리\n",
        "* 오류가 발생한 위치와 원인을 파악해서 오류가 발생하지 않도록 코드 수정.\n",
        "* 오류가 발생하더라도 프로그램이 비정상적으로 종료되지 않고 계속 실행되도록 처리 --> try구문\n",
        "    * Java는 반드시 try-catch 구문을 사용해야만 하는 Exception 종류들이 있음.\n",
        "        * NullPointerException: try-catch가 필수는 아님\n",
        "        * IOException, SQLException:"
      ],
      "metadata": {
        "id": "JJiKzJKEH8zQ"
      }
    },
    {
      "cell_type": "markdown",
      "source": [
        "** Python try-except 구문**\n",
        "\n",
        "```\n",
        "try:\n",
        "    (1) 실행할 코드 블록\n",
        "except [에러 클래스 이름 [as 별명]]:\n",
        "    (2) 에러가 발생했을 때 실행할 코드 블록\n",
        "[else:\n",
        "    (3) 에러가 발생하지 않았을 때 실행할 코드 블록]\n",
        "[finally:\n",
        "    (4) try 블록 실행 중에 에러 발생 여부와 상관 없이 항상 실행할 코드 블록]\n",
        "```\n",
        "\n",
        "* 에러가 발생하지 않는 경우: (1) -> (3) -> (4)\n",
        "* 에러가 발생한 경우: (1) -> (2) -> (4)\n",
        "* except 구문에서 에러 클래스의 이름을 생략하면, 모든 종류의 에러를 잡아서 처리할 수 있음."
      ],
      "metadata": {
        "id": "nEJ3yflhJ2_I"
      }
    },
    {
      "cell_type": "code",
      "source": [
        "try:\n",
        "    x = int(input('정수 입력 >>> '))\n",
        "    print(x)\n",
        "except:\n",
        "    print('정수로 입력해야 합니다.')"
      ],
      "metadata": {
        "colab": {
          "base_uri": "https://localhost:8080/"
        },
        "id": "OpuayydnMQ4v",
        "outputId": "77973d32-f49d-496d-f3e8-1c400f19c18c"
      },
      "execution_count": null,
      "outputs": [
        {
          "output_type": "stream",
          "name": "stdout",
          "text": [
            "정수 입력 >>> 4ㄹ\n",
            "정수로 입력해야 합니다.\n"
          ]
        }
      ]
    },
    {
      "cell_type": "code",
      "source": [
        "try:\n",
        "    x = int(input('정수 입력 >>> ')) # 1.\n",
        "except ValueError as e:\n",
        "    print(e) # 2.\n",
        "else:\n",
        "    print(f'x = {x}') # 3.\n",
        "finally:\n",
        "    print('=== end ===') # 4."
      ],
      "metadata": {
        "colab": {
          "base_uri": "https://localhost:8080/"
        },
        "id": "y6rxXU7vNqTW",
        "outputId": "22cff970-2f73-4c52-cb16-5cab50fcb238"
      },
      "execution_count": null,
      "outputs": [
        {
          "output_type": "stream",
          "name": "stdout",
          "text": [
            "정수 입력 >>> s\n",
            "invalid literal for int() with base 10: 's'\n",
            "=== end ===\n"
          ]
        }
      ]
    },
    {
      "cell_type": "markdown",
      "source": [
        "#Ex 1.\n",
        "정수 1개를 입력받고, 입력받은 정수를 출력하세요.\n",
        "\n",
        "정수로 변환할 수 없는 문자열이 입력된 경우에는 적절한 오류 메시지를 출력한 후 다시 입력을 받아야 함."
      ],
      "metadata": {
        "id": "_3mzSqHBS_a9"
      }
    },
    {
      "cell_type": "code",
      "source": [
        "while True: # 무한 반복문 - 정수를 입력받았을 때 출력하고 반복문 종료\n",
        "    try:\n",
        "        n = int(input('정수 입력 >>> '))\n",
        "        print(f'n = {n}')\n",
        "        break;\n",
        "    except ValueError as e:\n",
        "        print(e)\n"
      ],
      "metadata": {
        "colab": {
          "base_uri": "https://localhost:8080/"
        },
        "id": "GdBR_WOsTBUs",
        "outputId": "2adcd204-e1d8-465d-c513-5982db1b3bf3"
      },
      "execution_count": 23,
      "outputs": [
        {
          "output_type": "stream",
          "name": "stdout",
          "text": [
            "정수 입력 >>> s\n",
            "invalid literal for int() with base 10: 's'\n",
            "정수 입력 >>> s\n",
            "invalid literal for int() with base 10: 's'\n",
            "정수 입력 >>> f\n",
            "invalid literal for int() with base 10: 'f'\n",
            "정수 입력 >>> e\n",
            "invalid literal for int() with base 10: 'e'\n",
            "정수 입력 >>> 1\n",
            "n = 1\n"
          ]
        }
      ]
    },
    {
      "cell_type": "markdown",
      "source": [
        "##Ex 2. 단어 개수 세기\n",
        "\n",
        "리스트 words가 가지고 있는 단어들을 key로 하고, 그 단어가 리스트에 나오는 횟수를 값으로 하는 dict를 생성하고 출력하세요."
      ],
      "metadata": {
        "id": "GciQU_THTBc9"
      }
    },
    {
      "cell_type": "code",
      "source": [
        "words = ['java', 'python', 'javascript', 'python', 'sql', 'java', 'python']\n",
        "#> 결과: {'java': 2, 'python': 3, 'javascript': 1, 'sql': 1}"
      ],
      "metadata": {
        "id": "-gRlD_NxTEI9"
      },
      "execution_count": 22,
      "outputs": []
    },
    {
      "cell_type": "code",
      "source": [
        "word_counts = {}\n",
        "for w in words:\n",
        "    if w in word_counts:\n",
        "        word_counts[w] += 1\n",
        "    else:\n",
        "        word_counts[w] = 1\n",
        "print(word_counts)"
      ],
      "metadata": {
        "colab": {
          "base_uri": "https://localhost:8080/"
        },
        "id": "fmC52WcIY65z",
        "outputId": "53d9b65a-9391-4c3a-b53d-e57b1f52eb16"
      },
      "execution_count": 32,
      "outputs": [
        {
          "output_type": "stream",
          "name": "stdout",
          "text": [
            "{'java': 2, 'python': 3, 'javascript': 1, 'sql': 1}\n"
          ]
        }
      ]
    },
    {
      "cell_type": "code",
      "source": [
        "word_count = {}\n",
        "for w in words:\n",
        "    try:\n",
        "        word_count[w] += 1\n",
        "    except:\n",
        "        word_count[w] = 1\n",
        "print(word_count)"
      ],
      "metadata": {
        "colab": {
          "base_uri": "https://localhost:8080/"
        },
        "id": "kWmkH6h5cHoC",
        "outputId": "14e073ff-c4c6-4da6-d424-a60f9a185087"
      },
      "execution_count": 36,
      "outputs": [
        {
          "output_type": "stream",
          "name": "stdout",
          "text": [
            "{'java': 2, 'python': 3, 'javascript': 1, 'sql': 1}\n"
          ]
        }
      ]
    },
    {
      "cell_type": "code",
      "source": [
        "# collections 모듈에서 defaultdict 함수를 임포트\n",
        "from collections import defaultdict"
      ],
      "metadata": {
        "id": "wkdfvBbydNkR"
      },
      "execution_count": 37,
      "outputs": []
    },
    {
      "cell_type": "code",
      "source": [
        "word_count2 = defaultdict(int)\n",
        "for w in words:\n",
        "    word_count2[w] += 1\n",
        "print(word_count2)"
      ],
      "metadata": {
        "colab": {
          "base_uri": "https://localhost:8080/"
        },
        "id": "ssd_2EOjdrv8",
        "outputId": "022b27cf-5166-464a-a70d-bbc56ff416ea"
      },
      "execution_count": 39,
      "outputs": [
        {
          "output_type": "stream",
          "name": "stdout",
          "text": [
            "defaultdict(<class 'int'>, {'java': 2, 'python': 3, 'javascript': 1, 'sql': 1})\n"
          ]
        }
      ]
    }
  ]
}