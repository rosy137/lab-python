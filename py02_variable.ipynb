{
  "nbformat": 4,
  "nbformat_minor": 0,
  "metadata": {
    "colab": {
      "provenance": [],
      "authorship_tag": "ABX9TyM3PcjQcqOWu0YwlSSjOgS4",
      "include_colab_link": true
    },
    "kernelspec": {
      "name": "python3",
      "display_name": "Python 3"
    },
    "language_info": {
      "name": "python"
    }
  },
  "cells": [
    {
      "cell_type": "markdown",
      "metadata": {
        "id": "view-in-github",
        "colab_type": "text"
      },
      "source": [
        "<a href=\"https://colab.research.google.com/github/rosy137/lab-python/blob/main/py02_variable.ipynb\" target=\"_parent\"><img src=\"https://colab.research.google.com/assets/colab-badge.svg\" alt=\"Open In Colab\"/></a>"
      ]
    },
    {
      "cell_type": "markdown",
      "source": [
        "# 파이썬 자료 타입\n",
        "\n",
        "* 숫자 타입\n",
        "  * `int`: 정수\n",
        "  * `float`: 실수\n",
        "* 문자열 타입\n",
        "  * `str`\n",
        "* 논리 타입\n",
        "  * `bool`: True/False\n",
        "\n",
        "파이썬에서는 변수를 선언할 때 자료 타입을 명시하지 않음.\n",
        "\n",
        "\n",
        "변수의 자료 타입은 코드가 실행될 때 결정됨."
      ],
      "metadata": {
        "id": "WX2gbktEmnIr"
      }
    },
    {
      "cell_type": "code",
      "source": [
        "pi = 3.14\n",
        "print(pi)\n",
        "type(pi) # print(type(pi))"
      ],
      "metadata": {
        "colab": {
          "base_uri": "https://localhost:8080/"
        },
        "id": "tfUs9cZRoaLy",
        "outputId": "789b8bb0-cff5-4cb3-e9b9-26d608013a4b"
      },
      "execution_count": 1,
      "outputs": [
        {
          "output_type": "stream",
          "name": "stdout",
          "text": [
            "3.14\n"
          ]
        },
        {
          "output_type": "execute_result",
          "data": {
            "text/plain": [
              "float"
            ]
          },
          "metadata": {},
          "execution_count": 1
        }
      ]
    },
    {
      "cell_type": "markdown",
      "source": [
        "## 명시적 타입 변환\n",
        "* `int(arg)`: arg를 정수 타입으로 변환해서 리턴.\n",
        "* `float(arg)`: arg를 실수 타입으로 변환해서 리턴.\n",
        "* `str(arg)`: arg를 문자열로 변환해서 리턴."
      ],
      "metadata": {
        "id": "EQnDNG4ko4Yj"
      }
    },
    {
      "cell_type": "code",
      "source": [
        "# Colab 노트북에서 콘솔 입력:\n",
        "n = input('정수 입력>>> ')"
      ],
      "metadata": {
        "colab": {
          "base_uri": "https://localhost:8080/"
        },
        "id": "noPUzlKOpTeb",
        "outputId": "b5c902ff-5ff9-4b12-f282-f59d8fbe0f6c"
      },
      "execution_count": 2,
      "outputs": [
        {
          "name": "stdout",
          "output_type": "stream",
          "text": [
            "정수 입력>>> 123\n"
          ]
        }
      ]
    },
    {
      "cell_type": "code",
      "source": [
        "type(n)"
      ],
      "metadata": {
        "colab": {
          "base_uri": "https://localhost:8080/"
        },
        "id": "mhvK4lgJpd2q",
        "outputId": "c8a5b315-9d9d-461f-bcd8-e8cf9cc7879f"
      },
      "execution_count": 5,
      "outputs": [
        {
          "output_type": "execute_result",
          "data": {
            "text/plain": [
              "str"
            ]
          },
          "metadata": {},
          "execution_count": 5
        }
      ]
    },
    {
      "cell_type": "code",
      "source": [
        "int(n) +1"
      ],
      "metadata": {
        "colab": {
          "base_uri": "https://localhost:8080/"
        },
        "id": "1GNjLyuTqpJB",
        "outputId": "fabd5687-1bc4-442c-e532-d47806002ee6"
      },
      "execution_count": 6,
      "outputs": [
        {
          "output_type": "execute_result",
          "data": {
            "text/plain": [
              "124"
            ]
          },
          "metadata": {},
          "execution_count": 6
        }
      ]
    },
    {
      "cell_type": "code",
      "source": [
        "n + str(1)"
      ],
      "metadata": {
        "colab": {
          "base_uri": "https://localhost:8080/",
          "height": 35
        },
        "id": "E3z51JadrFzp",
        "outputId": "c184b90e-913d-48bf-d685-d831cbf06579"
      },
      "execution_count": 7,
      "outputs": [
        {
          "output_type": "execute_result",
          "data": {
            "text/plain": [
              "'1231'"
            ],
            "application/vnd.google.colaboratory.intrinsic+json": {
              "type": "string"
            }
          },
          "metadata": {},
          "execution_count": 7
        }
      ]
    },
    {
      "cell_type": "markdown",
      "source": [
        "# 산술 연산자\n",
        "`+, -, *, /, //, %, **`\n",
        "* `/`: 소수점까지 계산하는 나눗셈.\n",
        "* `//`: 나눈 몫.\n",
        "* `%`: 나눈 나머지.\n",
        "* `**`: 거듭 제곱."
      ],
      "metadata": {
        "id": "_rzMPZnIrKEQ"
      }
    },
    {
      "cell_type": "code",
      "source": [
        "10/3"
      ],
      "metadata": {
        "colab": {
          "base_uri": "https://localhost:8080/"
        },
        "id": "5SHQJe0Rr1Dg",
        "outputId": "4ec23e8d-c3c8-45ec-ac0f-62bab0f9a7c5"
      },
      "execution_count": 11,
      "outputs": [
        {
          "output_type": "execute_result",
          "data": {
            "text/plain": [
              "3.3333333333333335"
            ]
          },
          "metadata": {},
          "execution_count": 11
        }
      ]
    },
    {
      "cell_type": "code",
      "source": [
        "10//3"
      ],
      "metadata": {
        "colab": {
          "base_uri": "https://localhost:8080/"
        },
        "id": "b6j-VMAkr7kP",
        "outputId": "78218f84-3e48-4a09-9bcd-7beb7e1f19e2"
      },
      "execution_count": 13,
      "outputs": [
        {
          "output_type": "execute_result",
          "data": {
            "text/plain": [
              "3"
            ]
          },
          "metadata": {},
          "execution_count": 13
        }
      ]
    },
    {
      "cell_type": "code",
      "source": [
        "10%3"
      ],
      "metadata": {
        "colab": {
          "base_uri": "https://localhost:8080/"
        },
        "id": "nhisACCUsCAA",
        "outputId": "23b5839d-432c-4edb-9141-a9524dda4593"
      },
      "execution_count": 14,
      "outputs": [
        {
          "output_type": "execute_result",
          "data": {
            "text/plain": [
              "1"
            ]
          },
          "metadata": {},
          "execution_count": 14
        }
      ]
    },
    {
      "cell_type": "code",
      "source": [
        "10**3"
      ],
      "metadata": {
        "colab": {
          "base_uri": "https://localhost:8080/"
        },
        "id": "i2zBs_f6sDAv",
        "outputId": "4f72c6a1-ec72-405c-e013-e3bf53fe5618"
      },
      "execution_count": 16,
      "outputs": [
        {
          "output_type": "execute_result",
          "data": {
            "text/plain": [
              "1000"
            ]
          },
          "metadata": {},
          "execution_count": 16
        }
      ]
    },
    {
      "cell_type": "code",
      "source": [
        "10**-1"
      ],
      "metadata": {
        "colab": {
          "base_uri": "https://localhost:8080/"
        },
        "id": "DqRAUs4MsKMg",
        "outputId": "6376674d-db9c-48fb-bec1-30ec43554a5a"
      },
      "execution_count": 18,
      "outputs": [
        {
          "output_type": "execute_result",
          "data": {
            "text/plain": [
              "0.1"
            ]
          },
          "metadata": {},
          "execution_count": 18
        }
      ]
    },
    {
      "cell_type": "markdown",
      "source": [
        "# 비교 연산자, 논리 연산자\n",
        "\n",
        "* 비교 연산자:`==, !=, >, >=, <, <=`\n",
        "* 논리 연산자: `and, or, not`"
      ],
      "metadata": {
        "id": "04F1SPUOsO5J"
      }
    },
    {
      "cell_type": "code",
      "source": [
        "x= 100\n",
        "(x > 50) and (x<150)"
      ],
      "metadata": {
        "colab": {
          "base_uri": "https://localhost:8080/"
        },
        "id": "cmciiDYIsmao",
        "outputId": "74257231-f270-473b-aa32-1e21f8644d3a"
      },
      "execution_count": 19,
      "outputs": [
        {
          "output_type": "execute_result",
          "data": {
            "text/plain": [
              "True"
            ]
          },
          "metadata": {},
          "execution_count": 19
        }
      ]
    },
    {
      "cell_type": "code",
      "source": [
        "50 < x < 150"
      ],
      "metadata": {
        "colab": {
          "base_uri": "https://localhost:8080/"
        },
        "id": "NYzGRbO_srn4",
        "outputId": "76191942-3cae-49f8-adad-cca1133cf0f8"
      },
      "execution_count": 20,
      "outputs": [
        {
          "output_type": "execute_result",
          "data": {
            "text/plain": [
              "True"
            ]
          },
          "metadata": {},
          "execution_count": 20
        }
      ]
    },
    {
      "cell_type": "code",
      "source": [],
      "metadata": {
        "id": "9-_npF6OtDRA"
      },
      "execution_count": null,
      "outputs": []
    }
  ]
}