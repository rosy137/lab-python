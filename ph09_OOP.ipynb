{
  "nbformat": 4,
  "nbformat_minor": 0,
  "metadata": {
    "colab": {
      "provenance": [],
      "authorship_tag": "ABX9TyPLXSP42RBnZK8AwnMQkHzZ",
      "include_colab_link": true
    },
    "kernelspec": {
      "name": "python3",
      "display_name": "Python 3"
    },
    "language_info": {
      "name": "python"
    }
  },
  "cells": [
    {
      "cell_type": "markdown",
      "metadata": {
        "id": "view-in-github",
        "colab_type": "text"
      },
      "source": [
        "<a href=\"https://colab.research.google.com/github/rosy137/lab-python/blob/main/ph09_OOP.ipynb\" target=\"_parent\"><img src=\"https://colab.research.google.com/assets/colab-badge.svg\" alt=\"Open In Colab\"/></a>"
      ]
    },
    {
      "cell_type": "markdown",
      "source": [
        "# 객체 지향 프로그래밍(OOP: Object-Orientied Programing)"
      ],
      "metadata": {
        "id": "jP5_-88yPIMi"
      }
    },
    {
      "cell_type": "code",
      "source": [
        "class Student:\n",
        "    # 생성자 함수: 생성자를 호툴하면 파이썬 인터프리터에 의해서 자동으로 호출되는 메서드.\n",
        "    def __init__(self, no, name, python, java, javascript):\n",
        "        self.no = no\n",
        "        self.name = name\n",
        "        self.python = python\n",
        "        self.java = java\n",
        "        self.javascript = javascript\n",
        "    def get_total(self):\n",
        "        # 파이썬의 메서드는 멤버들을 접근할 때 반드시 self 키워드를 사용해야 함\n",
        "        return self.python + self.java + self.javascript\n",
        "    def get_mean(self):\n",
        "        return self.get_total() / 3\n",
        "    def print_info(self):\n",
        "        return print(f'no = {self.no}, name = {self.name}, python = {self.python}, java = {self.java}, javascript = {self.javascript}')"
      ],
      "metadata": {
        "id": "Mohqote00MIR"
      },
      "execution_count": 49,
      "outputs": []
    },
    {
      "cell_type": "code",
      "source": [
        "# Student 타입의 객체 생성\n",
        "student1 = Student(1, '홍길동', 100, 90, 50) # 생성자 호출: 생성자 이름-클래스 이름, new 키워드를 사용하지 않음"
      ],
      "metadata": {
        "id": "L0-n-Lac14pO"
      },
      "execution_count": 50,
      "outputs": []
    },
    {
      "cell_type": "code",
      "source": [
        "print(student1) # 객체 student1을 문자열로 출력"
      ],
      "metadata": {
        "colab": {
          "base_uri": "https://localhost:8080/"
        },
        "id": "Q-sK0wzV3X1E",
        "outputId": "34b114ed-0e75-4857-eb39-c29f2b8cda3a"
      },
      "execution_count": 51,
      "outputs": [
        {
          "output_type": "stream",
          "name": "stdout",
          "text": [
            "<__main__.Student object at 0x7fab68c06800>\n"
          ]
        }
      ]
    },
    {
      "cell_type": "code",
      "source": [
        "student1 # 객체 student1의 식(expression)을 출력"
      ],
      "metadata": {
        "colab": {
          "base_uri": "https://localhost:8080/"
        },
        "id": "STT8y1ar3bMZ",
        "outputId": "5e4966e8-9fcd-4546-d141-717b9d9bdba8"
      },
      "execution_count": 52,
      "outputs": [
        {
          "output_type": "execute_result",
          "data": {
            "text/plain": [
              "<__main__.Student at 0x7fab68c06800>"
            ]
          },
          "metadata": {},
          "execution_count": 52
        }
      ]
    },
    {
      "cell_type": "code",
      "source": [
        "student1.no"
      ],
      "metadata": {
        "colab": {
          "base_uri": "https://localhost:8080/"
        },
        "id": "VX_x8jPK5w88",
        "outputId": "14cb6df8-2ba4-4adb-b16e-092ea0c2272f"
      },
      "execution_count": 53,
      "outputs": [
        {
          "output_type": "execute_result",
          "data": {
            "text/plain": [
              "1"
            ]
          },
          "metadata": {},
          "execution_count": 53
        }
      ]
    },
    {
      "cell_type": "code",
      "source": [
        "student1.name"
      ],
      "metadata": {
        "colab": {
          "base_uri": "https://localhost:8080/",
          "height": 35
        },
        "id": "_dYlW3G85yTh",
        "outputId": "332b5eb2-3c07-4864-d08a-02e14126d8b8"
      },
      "execution_count": 54,
      "outputs": [
        {
          "output_type": "execute_result",
          "data": {
            "text/plain": [
              "'홍길동'"
            ],
            "application/vnd.google.colaboratory.intrinsic+json": {
              "type": "string"
            }
          },
          "metadata": {},
          "execution_count": 54
        }
      ]
    },
    {
      "cell_type": "code",
      "source": [
        "student1.get_total()"
      ],
      "metadata": {
        "colab": {
          "base_uri": "https://localhost:8080/"
        },
        "id": "x9JlJ-5F52RA",
        "outputId": "6289d463-3c87-47d4-f300-a5ef6dccc466"
      },
      "execution_count": 55,
      "outputs": [
        {
          "output_type": "execute_result",
          "data": {
            "text/plain": [
              "240"
            ]
          },
          "metadata": {},
          "execution_count": 55
        }
      ]
    },
    {
      "cell_type": "code",
      "source": [
        "student1.get_mean()"
      ],
      "metadata": {
        "colab": {
          "base_uri": "https://localhost:8080/"
        },
        "id": "Zb2a1P107ZM4",
        "outputId": "0f0536cb-e73b-4f12-8eab-bcec18c5fbcd"
      },
      "execution_count": 56,
      "outputs": [
        {
          "output_type": "execute_result",
          "data": {
            "text/plain": [
              "80.0"
            ]
          },
          "metadata": {},
          "execution_count": 56
        }
      ]
    },
    {
      "cell_type": "code",
      "source": [
        "student1.print_info()"
      ],
      "metadata": {
        "colab": {
          "base_uri": "https://localhost:8080/"
        },
        "id": "rbxCbi9D8j-Q",
        "outputId": "b95ef61b-1a2a-42f6-da11-a9ca86f991a2"
      },
      "execution_count": 57,
      "outputs": [
        {
          "output_type": "stream",
          "name": "stdout",
          "text": [
            "no = 1, name = 홍길동, python = 100, java = 90, javascript = 50\n"
          ]
        }
      ]
    },
    {
      "cell_type": "code",
      "source": [
        "import math\n",
        "# math 모듈을 import -> math.sqrt() square root"
      ],
      "metadata": {
        "id": "y9PV40tz9b1Y"
      },
      "execution_count": 59,
      "outputs": []
    },
    {
      "cell_type": "markdown",
      "source": [
        "* class: Point\n",
        "    * 2차원 평면의 점의 좌표(x,y)를 표현하는 클래스\n",
        "* 생성자 함수: x, y를 초기화. x, y의 기본값은 0\n",
        "* 메서드\n",
        "    * move: 점의 좌표를 원래 위치에서 dx, dy만큼 이동시키는 메서드\n",
        "    * distance: 현재 점의 위치에서 다른 점 까지의 거리를 계산해서 리턴하는 메서드\n",
        "        * `sqrt((x1 - x2)**2 + (y1-y2)**2)`\n",
        ">$ \\sqrt{(x_1 - x_2)^2 + (y_1 - y_2)^2} $"
      ],
      "metadata": {
        "id": "Us8pI_qUB5wf"
      }
    },
    {
      "cell_type": "code",
      "source": [
        "class Point:\n",
        "    def __init__(self, x=0, y=0):\n",
        "        self.x = x\n",
        "        self.y = y\n",
        "\n",
        "    def move(self, dx, dy):\n",
        "        self.x += dx\n",
        "        self.y += dy\n",
        "\n",
        "    def distance(self, another):\n",
        "        x1 = self.x\n",
        "        x2 = another.x\n",
        "        y1 = self.y\n",
        "        y2 = another.y\n",
        "        return math.sqrt((x1 - x2)**2 + (y1-y2)**2)\n",
        "\n",
        "    def print_info(self):\n",
        "        return print(f'x = {self.x}, y = {self.y}')\n"
      ],
      "metadata": {
        "id": "9L8zxN2kBlLP"
      },
      "execution_count": 80,
      "outputs": []
    },
    {
      "cell_type": "code",
      "source": [
        "point1 = Point()\n",
        "point2 = Point()"
      ],
      "metadata": {
        "id": "uWsa5Tk2D71G"
      },
      "execution_count": 81,
      "outputs": []
    },
    {
      "cell_type": "code",
      "source": [
        "point1.move(3,5)\n",
        "point1.print_info()\n",
        "point2.move(7,1)\n",
        "point2.print_info()"
      ],
      "metadata": {
        "colab": {
          "base_uri": "https://localhost:8080/"
        },
        "id": "1eVhL0PWEGLN",
        "outputId": "ba51de97-5583-485c-dba9-eab5b067eb5f"
      },
      "execution_count": 82,
      "outputs": [
        {
          "output_type": "stream",
          "name": "stdout",
          "text": [
            "x = 3, y = 5\n",
            "x = 7, y = 1\n"
          ]
        }
      ]
    },
    {
      "cell_type": "code",
      "source": [
        "point1.distance(point2)"
      ],
      "metadata": {
        "colab": {
          "base_uri": "https://localhost:8080/"
        },
        "id": "YmM9CcGsEVX9",
        "outputId": "9f4a6448-a23f-4833-ea6c-85eda88b29c5"
      },
      "execution_count": 83,
      "outputs": [
        {
          "output_type": "execute_result",
          "data": {
            "text/plain": [
              "5.656854249492381"
            ]
          },
          "metadata": {},
          "execution_count": 83
        }
      ]
    },
    {
      "cell_type": "markdown",
      "source": [
        "# magic method"
      ],
      "metadata": {
        "id": "kEqdjtF0Ox7b"
      }
    },
    {
      "cell_type": "markdown",
      "source": [
        "모든 클래스가 같은 이름으로 가지고 있는 메서드.\n",
        "\n",
        "특별한 경우에 파이썬 인터프리터에 의해서 호출되는 메서드.\n",
        "\n",
        "* `__init__()`:\n",
        "    * 생성자를 호출하면 자동으로 호출되는 메서드\n",
        "    * 인스턴스의 필드(프로퍼티)들을 선언하고 초기화하는 메서드\n",
        "* `__str__()`:\n",
        "    * `print()` 함수의 아규먼트 객체일 때 자동으로 호출되는 메서드\n",
        "    * 문자열을 리턴하는 메서드\n",
        "* `__repr__()`: representation\n",
        "    * 식(expression)을 출력할 때 자동으로 호출되는 메서드\n",
        "    * `print()` 함수의 동작 방식:\n",
        "        * 객체를 출력하기 위해서 그 객체의 `__str__()` 메서드를 호출함.\n",
        "        * `__str__()` 메서드가 없는 경우에는 `__repr__()` 메서드를 호출함.\n",
        "        * `__str__()` 메서드와 `__repr__()`  메서드가 모두 없는 경우에는 기본 문자열(... object at 0x....)로 출력"
      ],
      "metadata": {
        "id": "IvwGTcglO2Cy"
      }
    },
    {
      "cell_type": "code",
      "source": [
        "class T:\n",
        "    def __str__(self):\n",
        "        return 'class T instance'\n",
        "\n",
        "    def __repr__(self):\n",
        "        return 'T'"
      ],
      "metadata": {
        "id": "WGxGu4yiFA8d"
      },
      "execution_count": 106,
      "outputs": []
    },
    {
      "cell_type": "code",
      "source": [
        "t = T() # 생성자 호출 -> __init__() 메서드 호출"
      ],
      "metadata": {
        "id": "l6unKb8QRvkL"
      },
      "execution_count": 107,
      "outputs": []
    },
    {
      "cell_type": "code",
      "source": [
        "print(t) # __str__() 메서드 자동 호출"
      ],
      "metadata": {
        "colab": {
          "base_uri": "https://localhost:8080/"
        },
        "id": "aCljGY8ORxFI",
        "outputId": "b668e53c-5abc-41f1-870f-421359f9d2c4"
      },
      "execution_count": 108,
      "outputs": [
        {
          "output_type": "stream",
          "name": "stdout",
          "text": [
            "class T instance\n"
          ]
        }
      ]
    },
    {
      "cell_type": "code",
      "source": [
        "t # __repr__() 메서드 자동 호출"
      ],
      "metadata": {
        "colab": {
          "base_uri": "https://localhost:8080/"
        },
        "id": "dlR_zctARz-I",
        "outputId": "a200f009-91ab-4d16-8abd-5b564c8bf548"
      },
      "execution_count": 109,
      "outputs": [
        {
          "output_type": "execute_result",
          "data": {
            "text/plain": [
              "T"
            ]
          },
          "metadata": {},
          "execution_count": 109
        }
      ]
    },
    {
      "cell_type": "markdown",
      "source": [
        "* `__eq__()`:\n",
        "    * `==` 연산자를 사용했을 때 자동으로 호출되는 메서드.\n",
        "    * 두 객체가 같은 지(True) 다른 지(False)를 리턴"
      ],
      "metadata": {
        "id": "A_1yPu-tT3qo"
      }
    },
    {
      "cell_type": "code",
      "source": [
        "list1 = [1,2,3]\n",
        "list2 = [1,2,3]\n",
        "list1 == list2 # list 클래스가 __eq__ 메서들르 구현하고 있기 때문에."
      ],
      "metadata": {
        "colab": {
          "base_uri": "https://localhost:8080/"
        },
        "id": "L7CNTrNlUxCB",
        "outputId": "965faa3a-e479-4e63-b5b2-756001e6009d"
      },
      "execution_count": 111,
      "outputs": [
        {
          "output_type": "execute_result",
          "data": {
            "text/plain": [
              "True"
            ]
          },
          "metadata": {},
          "execution_count": 111
        }
      ]
    },
    {
      "cell_type": "code",
      "source": [
        "class Number:\n",
        "    def __init__(self, n):\n",
        "        self.n = n\n",
        "\n",
        "    def __repr__(self):\n",
        "        return str(self.n)\n",
        "\n",
        "    def __eq__(self, another):\n",
        "        return self.n == another.n"
      ],
      "metadata": {
        "id": "TMU9C9jtU0iI"
      },
      "execution_count": 112,
      "outputs": []
    },
    {
      "cell_type": "code",
      "source": [
        "n1 = Number(1)\n",
        "n1"
      ],
      "metadata": {
        "colab": {
          "base_uri": "https://localhost:8080/"
        },
        "id": "Fj7FkmDWVw95",
        "outputId": "2ed63126-f5e7-4872-f44a-62e833cbc20f"
      },
      "execution_count": 113,
      "outputs": [
        {
          "output_type": "execute_result",
          "data": {
            "text/plain": [
              "1"
            ]
          },
          "metadata": {},
          "execution_count": 113
        }
      ]
    },
    {
      "cell_type": "code",
      "source": [
        "n2 = Number(1)\n",
        "n2"
      ],
      "metadata": {
        "colab": {
          "base_uri": "https://localhost:8080/"
        },
        "id": "Fq8YshaRVzex",
        "outputId": "61bd1a9d-bb61-4533-add4-65c4d0842b03"
      },
      "execution_count": 116,
      "outputs": [
        {
          "output_type": "execute_result",
          "data": {
            "text/plain": [
              "1"
            ]
          },
          "metadata": {},
          "execution_count": 116
        }
      ]
    },
    {
      "cell_type": "code",
      "source": [
        "n1 == n2 # nq.__eq__(n2)"
      ],
      "metadata": {
        "colab": {
          "base_uri": "https://localhost:8080/"
        },
        "id": "3YTCNN3vV3_n",
        "outputId": "555fa514-4483-4b87-bbaf-c0a131861117"
      },
      "execution_count": 117,
      "outputs": [
        {
          "output_type": "execute_result",
          "data": {
            "text/plain": [
              "True"
            ]
          },
          "metadata": {},
          "execution_count": 117
        }
      ]
    },
    {
      "cell_type": "markdown",
      "source": [
        "# Ex\n",
        "\n",
        "* class Score\n",
        "    * korean, math, science\n",
        "    * `__inti__()`, `__repr__()`, `__eq__()`, `get_total`, `get_mean`\n",
        "    \n",
        "* class Student\n",
        "    * no(int), name(str), score(Score)\n",
        "    * `__init__()`, `__repr__()`"
      ],
      "metadata": {
        "id": "RZGVKqmtoKnW"
      }
    },
    {
      "cell_type": "code",
      "source": [
        "class Score:\n",
        "    def __init__(self, korean = 0, math = 0, science = 0):\n",
        "        self.korean = korean\n",
        "        self.math = math\n",
        "        self.science = science\n",
        "\n",
        "    def __repr__(self):\n",
        "        return f'korean: {self.korean}, math: {self.math}, science: {self.science}'\n",
        "\n",
        "    def __eq__(self, another):\n",
        "        return self.korean == another.korean and \\\n",
        "                self.math == another.math and \\\n",
        "                self.science == another.science\n",
        "\n",
        "    def get_total(self):\n",
        "        return self.korean + self.math + self.science\n",
        "\n",
        "    def get_mean(self):\n",
        "        return self.get_total() / 3"
      ],
      "metadata": {
        "id": "IqYfXMzNV5n3"
      },
      "execution_count": 153,
      "outputs": []
    },
    {
      "cell_type": "code",
      "source": [
        "class Student:\n",
        "    def __init__(self, no, name, score):\n",
        "        self.no = no\n",
        "        self.name = name\n",
        "        self.score = score\n",
        "\n",
        "    def __repr__(self):\n",
        "        return f'no: {self.no}, name: {self.name}, score: ({self.score})'"
      ],
      "metadata": {
        "id": "xI1Y8cSFqNGF"
      },
      "execution_count": 154,
      "outputs": []
    },
    {
      "cell_type": "code",
      "source": [
        "score1 = Score(90,65,75)\n",
        "score1"
      ],
      "metadata": {
        "colab": {
          "base_uri": "https://localhost:8080/"
        },
        "id": "6IhFUxOcqa7a",
        "outputId": "afb2c306-309d-4ef4-be0b-947d6c2f8e8f"
      },
      "execution_count": 155,
      "outputs": [
        {
          "output_type": "execute_result",
          "data": {
            "text/plain": [
              "korean: 90, math: 65, science: 75"
            ]
          },
          "metadata": {},
          "execution_count": 155
        }
      ]
    },
    {
      "cell_type": "code",
      "source": [
        "score2 = Score(50, 70, 85)\n",
        "score2"
      ],
      "metadata": {
        "colab": {
          "base_uri": "https://localhost:8080/"
        },
        "id": "Tdi0biFmrDnC",
        "outputId": "c52cc382-b4ca-4355-e0be-1e7a6e5e2c2c"
      },
      "execution_count": 156,
      "outputs": [
        {
          "output_type": "execute_result",
          "data": {
            "text/plain": [
              "korean: 50, math: 70, science: 85"
            ]
          },
          "metadata": {},
          "execution_count": 156
        }
      ]
    },
    {
      "cell_type": "code",
      "source": [
        "score1 == score2"
      ],
      "metadata": {
        "colab": {
          "base_uri": "https://localhost:8080/"
        },
        "id": "7mq_VJ_PrI-i",
        "outputId": "784623b8-a878-46f9-cf70-213c54734aae"
      },
      "execution_count": 157,
      "outputs": [
        {
          "output_type": "execute_result",
          "data": {
            "text/plain": [
              "False"
            ]
          },
          "metadata": {},
          "execution_count": 157
        }
      ]
    },
    {
      "cell_type": "code",
      "source": [
        "score1.get_total()"
      ],
      "metadata": {
        "colab": {
          "base_uri": "https://localhost:8080/"
        },
        "id": "LHl_dR9brXoy",
        "outputId": "7dfc5b26-99a3-46fd-ba56-a03de3c29931"
      },
      "execution_count": 158,
      "outputs": [
        {
          "output_type": "execute_result",
          "data": {
            "text/plain": [
              "230"
            ]
          },
          "metadata": {},
          "execution_count": 158
        }
      ]
    },
    {
      "cell_type": "code",
      "source": [
        "score1.get_mean()"
      ],
      "metadata": {
        "colab": {
          "base_uri": "https://localhost:8080/"
        },
        "id": "2d3Uhhx1rcwa",
        "outputId": "09908d5c-e48b-413f-8796-256f3d46f17f"
      },
      "execution_count": 159,
      "outputs": [
        {
          "output_type": "execute_result",
          "data": {
            "text/plain": [
              "76.66666666666667"
            ]
          },
          "metadata": {},
          "execution_count": 159
        }
      ]
    },
    {
      "cell_type": "code",
      "source": [
        "student1 = Student(1, '가', score1)\n",
        "student1"
      ],
      "metadata": {
        "colab": {
          "base_uri": "https://localhost:8080/"
        },
        "id": "hIFRJ10EqwO9",
        "outputId": "0283665a-3b5a-4caf-a1fc-fcac0a01a1ff"
      },
      "execution_count": 160,
      "outputs": [
        {
          "output_type": "execute_result",
          "data": {
            "text/plain": [
              "no: 1, name: 가, score: (korean: 90, math: 65, science: 75)"
            ]
          },
          "metadata": {},
          "execution_count": 160
        }
      ]
    },
    {
      "cell_type": "code",
      "source": [
        "score3 = Score(math=70, science=85, korean=50)"
      ],
      "metadata": {
        "id": "S2sV_RfQq_zt"
      },
      "execution_count": 161,
      "outputs": []
    },
    {
      "cell_type": "code",
      "source": [
        "print(score2, '/', score3, '//' , score2 == score3)"
      ],
      "metadata": {
        "colab": {
          "base_uri": "https://localhost:8080/"
        },
        "id": "r1Wj4n9JyYYp",
        "outputId": "c19ad59f-ece4-4fdf-eaae-00177989f0e7"
      },
      "execution_count": 166,
      "outputs": [
        {
          "output_type": "stream",
          "name": "stdout",
          "text": [
            "korean: 50, math: 70, science: 85 / korean: 50, math: 70, science: 85 // True\n"
          ]
        }
      ]
    },
    {
      "cell_type": "markdown",
      "source": [
        "# 상속(Inheritance)"
      ],
      "metadata": {
        "id": "AAKxp2NL5-H_"
      }
    },
    {
      "cell_type": "markdown",
      "source": [
        "* super class(상위 클래스), parent class(부모 클래스), base class(기본 클래스)\n",
        "* sub class(하위 클래스), child class(자식 클래스), derived class(유도 클래스)\n",
        "* 상속: 상위 클래스의 속성(데이터)들과 기능(메서드)들을 하위 클래스에서 재사용하는 것.\n",
        "* 일반적으로 **IS-A** 관계가 성립하는 객체들을 상속을 사용해서 구현함\n",
        "    * 학생은 사람이다. (Student IS A person)."
      ],
      "metadata": {
        "id": "n2lM3hlZ6Cy2"
      }
    },
    {
      "cell_type": "code",
      "source": [
        "class Person:\n",
        "    def __init__(self, name, age=0):\n",
        "        self.name = name\n",
        "        self.age = age\n",
        "\n",
        "    def hello(self):\n",
        "        print(f'안녕하세요, 저는 {self.name}입니다. 나이는 {self.age}입니다.')"
      ],
      "metadata": {
        "id": "_FFMuXaI7m3O"
      },
      "execution_count": 167,
      "outputs": []
    },
    {
      "cell_type": "code",
      "source": [
        "gildong = Person('홍길동')\n",
        "gildong.hello()"
      ],
      "metadata": {
        "colab": {
          "base_uri": "https://localhost:8080/"
        },
        "id": "mztleyEo8tl_",
        "outputId": "4eb69d26-7510-4bf7-929b-768fd8cd29db"
      },
      "execution_count": 168,
      "outputs": [
        {
          "output_type": "stream",
          "name": "stdout",
          "text": [
            "안녕하세요, 저는 홍길동입니다. 나이는 0입니다.\n"
          ]
        }
      ]
    },
    {
      "cell_type": "code",
      "source": [
        "# Person을 상속하는 Student 클래스 정의\n",
        "\n",
        "class Student(Person):\n",
        "    # method override\n",
        "    def __init__(self, name, age=0, school='Test'):\n",
        "        super().__init__(name, age)\n",
        "        self.school = school\n",
        "\n",
        "    def hello(self):\n",
        "        super().hello()\n",
        "        print(f'학교는 {self.school}입니다.')"
      ],
      "metadata": {
        "id": "tShMs0Tt8zbs"
      },
      "execution_count": 175,
      "outputs": []
    },
    {
      "cell_type": "code",
      "source": [
        "kitty = Student('kitty', age = 16, school='아이티윌')\n",
        "\n",
        "kitty.hello()"
      ],
      "metadata": {
        "colab": {
          "base_uri": "https://localhost:8080/"
        },
        "id": "Q_Idga-R9EkM",
        "outputId": "67271256-2976-4554-b364-c0c8c4c11e5c"
      },
      "execution_count": 176,
      "outputs": [
        {
          "output_type": "stream",
          "name": "stdout",
          "text": [
            "안녕하세요, 저는 kitty입니다. 나이는 16입니다.\n",
            "학교는 아이티윌입니다.\n"
          ]
        }
      ]
    },
    {
      "cell_type": "markdown",
      "source": [
        "**Method Override**\n",
        "\n",
        "* 상위 클래스의 메서드를 하위 클래스에서 재정의하는 것.\n",
        "    * 파이썬에서는 메서드의 이름만 같으면 (파라미터 타입/개수와 상관 없이) 메서드가 재정의됨.\n",
        "        * 파이썬은 같은 이름으로 2개 이상의 메서드(함수)를 가질 수 없음 - overloading은 제공하지 않음.\n",
        "    * 자바에서는 메서드 이름, 파라미터 타입/개수/순서가 모두 동일한 경우에 메서드가 재정의됨.\n",
        "        * 파라미터가 다르면 같은 이름의 메서드가 2개 이상 있을 수 있음 - overloading\n",
        "*  하위 클래스에서 재정의(overrid)된 상위 클래스의 메서드를 명시적으로 호출하기 위해서는 super().method_name(...)의 형식으로 호출함."
      ],
      "metadata": {
        "id": "4fkfJnVrEq4L"
      }
    },
    {
      "cell_type": "code",
      "source": [
        "def a():\n",
        "    print('a')"
      ],
      "metadata": {
        "id": "uiFsojqBFEbk"
      },
      "execution_count": 177,
      "outputs": []
    },
    {
      "cell_type": "code",
      "source": [
        "# def a(msg):\n",
        "#    print(msg)"
      ],
      "metadata": {
        "id": "0JJMxWNxFJaq"
      },
      "execution_count": 178,
      "outputs": []
    },
    {
      "cell_type": "markdown",
      "source": [
        "파이썬은 함수(method) 오버로딩을 제공하지 않음\n",
        "\n",
        "파라미터가 다르다고 해서 같은 이름으로 함수(메서드)를 정의할 수 없음\n",
        "\n",
        "같은 이름으로 함수를 정의하면, 가장 마지막에서 정의한 함수만 남음\n",
        "\n",
        "파이썬은 함수(메서드)오버로딩 대신에 default argument를 이용하면 같은 이름의 함수를 여러가지 방법으로 호출할 수 있음"
      ],
      "metadata": {
        "id": "7deHLNCmGavz"
      }
    },
    {
      "cell_type": "code",
      "source": [
        "def a(msg = 'a'):\n",
        "    print(msg)"
      ],
      "metadata": {
        "id": "lVUcJMuOGi-W"
      },
      "execution_count": 180,
      "outputs": []
    },
    {
      "cell_type": "code",
      "source": [
        "a()"
      ],
      "metadata": {
        "colab": {
          "base_uri": "https://localhost:8080/"
        },
        "id": "0gRn3RYvHoxh",
        "outputId": "bc674195-16b9-4e2b-f6a1-42030d5aad23"
      },
      "execution_count": 181,
      "outputs": [
        {
          "output_type": "stream",
          "name": "stdout",
          "text": [
            "a\n"
          ]
        }
      ]
    },
    {
      "cell_type": "code",
      "source": [
        "a('hi')"
      ],
      "metadata": {
        "id": "7JHNu9XWHvE5",
        "outputId": "f4899de7-ae06-46cb-b247-f42dfc527ac0",
        "colab": {
          "base_uri": "https://localhost:8080/"
        }
      },
      "execution_count": 182,
      "outputs": [
        {
          "output_type": "stream",
          "name": "stdout",
          "text": [
            "hi\n"
          ]
        }
      ]
    },
    {
      "cell_type": "code",
      "source": [],
      "metadata": {
        "id": "T2w76dWoHyTy"
      },
      "execution_count": null,
      "outputs": []
    }
  ]
}