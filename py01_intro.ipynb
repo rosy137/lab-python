{
  "nbformat": 4,
  "nbformat_minor": 0,
  "metadata": {
    "colab": {
      "provenance": [],
      "authorship_tag": "ABX9TyPN71FvSJJXi/MRHmiv85tJ",
      "include_colab_link": true
    },
    "kernelspec": {
      "name": "python3",
      "display_name": "Python 3"
    },
    "language_info": {
      "name": "python"
    }
  },
  "cells": [
    {
      "cell_type": "markdown",
      "metadata": {
        "id": "view-in-github",
        "colab_type": "text"
      },
      "source": [
        "<a href=\"https://colab.research.google.com/github/rosy137/lab-python/blob/main/py01_intro.ipynb\" target=\"_parent\"><img src=\"https://colab.research.google.com/assets/colab-badge.svg\" alt=\"Open In Colab\"/></a>"
      ]
    },
    {
      "cell_type": "code",
      "execution_count": 2,
      "metadata": {
        "colab": {
          "base_uri": "https://localhost:8080/"
        },
        "id": "GgQLxYQTxyZZ",
        "outputId": "5d02fe9f-7ccf-4a86-f436-4fb8f848b0a1"
      },
      "outputs": [
        {
          "output_type": "stream",
          "name": "stdout",
          "text": [
            "hi\n"
          ]
        }
      ],
      "source": [
        "#inline comment(주석)\n",
        "print('hi') #파이썬 문장은 세미콜론을 사용하지 않음."
      ]
    },
    {
      "cell_type": "markdown",
      "source": [
        "#파이썬 버전확인"
      ],
      "metadata": {
        "id": "fg_DfUNw1piq"
      }
    },
    {
      "cell_type": "code",
      "source": [
        "!python --version"
      ],
      "metadata": {
        "colab": {
          "base_uri": "https://localhost:8080/"
        },
        "id": "-j23K8ae1vKx",
        "outputId": "823a5a26-1f01-47aa-f079-88b9ffb7337d"
      },
      "execution_count": 3,
      "outputs": [
        {
          "output_type": "stream",
          "name": "stdout",
          "text": [
            "Python 3.10.12\n"
          ]
        }
      ]
    },
    {
      "cell_type": "markdown",
      "source": [
        "코드 셀에서 명령창(command prompt)에서 실행하는 명령어를 작성하고 실행할 때는 !로 시작."
      ],
      "metadata": {
        "id": "4yIiXQ0U2l9h"
      }
    },
    {
      "cell_type": "markdown",
      "source": [
        "# 코드셀 실행 방법\n",
        "* 코드셀 왼쪽의 실행 버튼을 클릭\n",
        "* Ctrl+Enter: 현재 포커스가 있는 코드셀을 실행.\n",
        "* Shift+Enter: 현재 포커스가 있는 코드셀을 실행하고 그 다음 셀로 포커스 이동\n",
        "  * 현재 셀 아래에 다음 셀이 없는 경우에는 새로운 코드 셀을 만들어 줌.\n",
        "* 런타임 메뉴\n",
        "\n"
      ],
      "metadata": {
        "id": "RXYKuKzx26w0"
      }
    },
    {
      "cell_type": "code",
      "source": [
        "print('hello')"
      ],
      "metadata": {
        "colab": {
          "base_uri": "https://localhost:8080/"
        },
        "id": "w8AtfVfMa0Nu",
        "outputId": "7168e05f-5499-4a90-af49-d7a347f677ab"
      },
      "execution_count": 4,
      "outputs": [
        {
          "output_type": "stream",
          "name": "stdout",
          "text": [
            "hello\n"
          ]
        }
      ]
    },
    {
      "cell_type": "markdown",
      "source": [
        "#`print()` 함수\n"
      ],
      "metadata": {
        "id": "wMybCTP3bXAO"
      }
    },
    {
      "cell_type": "markdown",
      "source": [
        "##`format()` 메서드를 사용한 출력"
      ],
      "metadata": {
        "id": "seJQrZpYbsiw"
      }
    },
    {
      "cell_type": "code",
      "source": [
        "print('hello','python','안녕')"
      ],
      "metadata": {
        "colab": {
          "base_uri": "https://localhost:8080/"
        },
        "id": "KIrkShrecECf",
        "outputId": "d43c7ec8-e20a-4394-ed6e-a190fb3ea359"
      },
      "execution_count": 6,
      "outputs": [
        {
          "output_type": "stream",
          "name": "stdout",
          "text": [
            "hello python 안녕\n"
          ]
        }
      ]
    },
    {
      "cell_type": "markdown",
      "source": [
        "`print()` 함수의 argument를 여러개 전달하면, 아규먼트들을 공백으로 연결해서 콘솔에 출력함"
      ],
      "metadata": {
        "id": "erILe2b3ccrt"
      }
    },
    {
      "cell_type": "code",
      "source": [
        "print('{} + {} + {}'.format(1,2,3))"
      ],
      "metadata": {
        "colab": {
          "base_uri": "https://localhost:8080/"
        },
        "id": "LuVZxqEWc_3v",
        "outputId": "fba5e0e4-2c8f-4478-8e71-b39ae67ac04a"
      },
      "execution_count": 7,
      "outputs": [
        {
          "output_type": "stream",
          "name": "stdout",
          "text": [
            "1 + 2 + 3\n"
          ]
        }
      ]
    },
    {
      "cell_type": "markdown",
      "source": [
        "##fromatted string을 사용한 출력\n",
        "python 3.6 이상의 버전에서 사용할 수 있음"
      ],
      "metadata": {
        "id": "mJeQIy67dfjO"
      }
    },
    {
      "cell_type": "code",
      "source": [
        "# 변수이름 = 값"
      ],
      "metadata": {
        "id": "P-jNsKz5dwg1"
      },
      "execution_count": null,
      "outputs": []
    }
  ]
}